{
 "cells": [
  {
   "cell_type": "markdown",
   "id": "d12ee261",
   "metadata": {},
   "source": [
    "# HUD Fair Market Rents - Quick Start Guide\n",
    "\n",
    "This notebook demonstrates how to use the **HUDFMRConnector** to access HUD Fair Market Rent data and perform affordability analysis.\n",
    "\n",
    "**Data Sources:**\n",
    "- Fair Market Rents (FMR) by bedroom count (0BR-4BR)\n",
    "- Income limits (very low, low, median)\n",
    "- Small Area FMRs (ZIP code level)\n",
    "\n",
    "**Use Cases:**\n",
    "- Housing affordability analysis\n",
    "- Rental market comparisons\n",
    "- Income qualification calculations\n",
    "\n",
    "**API Access:** Requires HUD USER API key (free registration)\n",
    "\n",
    "---\n",
    "\n",
    "*© 2025 KR-Labs. Licensed under Apache-2.0.*"
   ]
  },
  {
   "cell_type": "markdown",
   "id": "c22479de",
   "metadata": {},
   "source": [
    "## 1. Setup and Import"
   ]
  },
  {
   "cell_type": "code",
   "execution_count": null,
   "id": "96beac49",
   "metadata": {},
   "outputs": [],
   "source": [
    "from krl_data_connectors.housing import HUDFMRConnector\n",
    "import pandas as pd\n",
    "import os\n",
    "\n",
    "# Initialize connector with API key\n",
    "# Get your API key from: https://www.huduser.gov/portal/dataset/fmr-api.html\n",
    "api_key = os.getenv('HUD_API_KEY', 'your_api_key_here')\n",
    "hud = HUDFMRConnector(api_key=api_key)\n",
    "\n",
    "print(\"✓ HUD FMR connector initialized\")"
   ]
  },
  {
   "cell_type": "markdown",
   "id": "6a5fadec",
   "metadata": {},
   "source": [
    "## 2. Get State FMRs via API\n",
    "\n",
    "Retrieve Fair Market Rents for a state."
   ]
  },
  {
   "cell_type": "code",
   "execution_count": null,
   "id": "64f6f1ce",
   "metadata": {},
   "outputs": [],
   "source": [
    "# Get Rhode Island FMRs for 2023\n",
    "ri_fmrs = hud.get_state_fmrs('RI', year=2023)\n",
    "\n",
    "print(f\"Retrieved FMR data for {len(ri_fmrs)} areas\")\n",
    "print(\"\\nColumns:\", ri_fmrs.columns.tolist())\n",
    "ri_fmrs.head()"
   ]
  },
  {
   "cell_type": "markdown",
   "id": "8bb6fa25",
   "metadata": {},
   "source": [
    "## 3. Load FMR Data from File\n",
    "\n",
    "Alternative: Load downloaded FMR data from CSV/Excel."
   ]
  },
  {
   "cell_type": "code",
   "execution_count": null,
   "id": "84325efa",
   "metadata": {},
   "outputs": [],
   "source": [
    "# If you prefer to use downloaded files\n",
    "# Download from: https://www.huduser.gov/portal/datasets/fmr.html\n",
    "\n",
    "# fmr_file = \"path/to/FY2023_FMRs.xlsx\"\n",
    "# fmr_data = hud.load_fmr_data(fmr_file)\n",
    "# print(f\"Loaded {len(fmr_data)} FMR records\")"
   ]
  },
  {
   "cell_type": "markdown",
   "id": "7e210b1c",
   "metadata": {},
   "source": [
    "## 4. Filter by Bedroom Count\n",
    "\n",
    "Extract FMRs for specific bedroom counts."
   ]
  },
  {
   "cell_type": "code",
   "execution_count": null,
   "id": "1eb3032c",
   "metadata": {},
   "outputs": [],
   "source": [
    "# Get 2-bedroom FMRs\n",
    "fmr_2br = hud.get_fmr_by_bedrooms(ri_fmrs, bedroom_count=2)\n",
    "\n",
    "print(\"2-Bedroom Fair Market Rents:\")\n",
    "print(fmr_2br[['countyname', 'metro_name', 'fmr_2br']].head())\n",
    "\n",
    "# Summary statistics\n",
    "print(f\"\\nAverage 2BR FMR: ${fmr_2br['fmr_2br'].mean():.0f}\")\n",
    "print(f\"Min: ${fmr_2br['fmr_2br'].min():.0f}\")\n",
    "print(f\"Max: ${fmr_2br['fmr_2br'].max():.0f}\")"
   ]
  },
  {
   "cell_type": "markdown",
   "id": "fdc08f5b",
   "metadata": {},
   "source": [
    "## 5. Calculate Affordability\n",
    "\n",
    "Determine if housing is affordable based on income (30% rule)."
   ]
  },
  {
   "cell_type": "code",
   "execution_count": null,
   "id": "428bd1e4",
   "metadata": {},
   "outputs": [],
   "source": [
    "# Example: Household earning $50,000/year\n",
    "household_income = 50000\n",
    "typical_fmr = 1200  # 2BR FMR\n",
    "\n",
    "affordability = hud.calculate_affordability(\n",
    "    household_income=household_income,\n",
    "    fmr_value=typical_fmr,\n",
    "    income_threshold=0.30\n",
    ")\n",
    "\n",
    "print(f\"Household Income: ${household_income:,}\")\n",
    "print(f\"FMR: ${typical_fmr}\")\n",
    "print(f\"\\nMax Affordable Rent: ${affordability['max_affordable_rent']:.2f}\")\n",
    "print(f\"Rent-to-Income Ratio: {affordability['rent_to_income_ratio']:.1%}\")\n",
    "print(f\"Affordable: {affordability['affordable']}\")\n",
    "print(f\"Monthly Surplus/Deficit: ${affordability['surplus_deficit']:.2f}\")"
   ]
  },
  {
   "cell_type": "markdown",
   "id": "ec332dc7",
   "metadata": {},
   "source": [
    "## 6. Compare Counties\n",
    "\n",
    "Analyze FMR differences across counties."
   ]
  },
  {
   "cell_type": "code",
   "execution_count": null,
   "id": "50674c4c",
   "metadata": {},
   "outputs": [],
   "source": [
    "# Compare Rhode Island counties\n",
    "counties = ['Providence County', 'Newport County', 'Washington County']\n",
    "comparison = hud.compare_fmrs(ri_fmrs, counties, bedroom_count=2)\n",
    "\n",
    "print(\"County Comparison (2BR FMRs):\")\n",
    "print(comparison[['countyname', 'fmr_2br']].sort_values('fmr_2br', ascending=False))"
   ]
  },
  {
   "cell_type": "markdown",
   "id": "0f812c6e",
   "metadata": {},
   "source": [
    "## 7. Compare All Bedroom Sizes\n",
    "\n",
    "View FMRs across all bedroom counts."
   ]
  },
  {
   "cell_type": "code",
   "execution_count": null,
   "id": "45495dc8",
   "metadata": {},
   "outputs": [],
   "source": [
    "# Get all bedroom FMRs for Providence County\n",
    "providence = hud.get_county_fmrs(ri_fmrs, 'Providence County')\n",
    "\n",
    "if not providence.empty:\n",
    "    print(\"Providence County FMRs:\")\n",
    "    bedroom_cols = ['fmr_0br', 'fmr_1br', 'fmr_2br', 'fmr_3br', 'fmr_4br']\n",
    "    for col in bedroom_cols:\n",
    "        if col in providence.columns:\n",
    "            bedrooms = col.split('_')[1].upper()\n",
    "            value = providence[col].iloc[0]\n",
    "            print(f\"  {bedrooms}: ${value:.0f}\")"
   ]
  },
  {
   "cell_type": "markdown",
   "id": "3da51cde",
   "metadata": {},
   "source": [
    "## 8. Year-over-Year Analysis\n",
    "\n",
    "Calculate FMR changes between years."
   ]
  },
  {
   "cell_type": "code",
   "execution_count": null,
   "id": "8b75dc63",
   "metadata": {},
   "outputs": [],
   "source": [
    "# Get FMRs for two consecutive years\n",
    "fmr_2023 = hud.get_state_fmrs('RI', year=2023)\n",
    "fmr_2022 = hud.get_state_fmrs('RI', year=2022)\n",
    "\n",
    "# Calculate year-over-year change for 2BR\n",
    "yoy_change = hud.calculate_yoy_change(fmr_2023, fmr_2022, 'fmr_2br')\n",
    "\n",
    "print(\"Year-over-Year FMR Changes (2BR):\")\n",
    "print(yoy_change[['countyname', 'fmr_2br_current', 'fmr_2br_previous', \n",
    "                   'yoy_change', 'yoy_change_pct']].round(2))"
   ]
  },
  {
   "cell_type": "markdown",
   "id": "279d90f9",
   "metadata": {},
   "source": [
    "## 9. Affordability Across Income Levels\n",
    "\n",
    "Analyze affordability for different income brackets."
   ]
  },
  {
   "cell_type": "code",
   "execution_count": null,
   "id": "5918a401",
   "metadata": {},
   "outputs": [],
   "source": [
    "# Test multiple income levels\n",
    "income_levels = [30000, 40000, 50000, 60000, 75000]\n",
    "fmr_value = 1200  # 2BR FMR\n",
    "\n",
    "print(f\"Affordability Analysis (FMR: ${fmr_value}):\\n\")\n",
    "for income in income_levels:\n",
    "    result = hud.calculate_affordability(income, fmr_value)\n",
    "    status = \"✓ Affordable\" if result['affordable'] else \"✗ Not Affordable\"\n",
    "    print(f\"${income:,}: {status} (Max: ${result['max_affordable_rent']:.0f})\")"
   ]
  },
  {
   "cell_type": "markdown",
   "id": "a90dc442",
   "metadata": {},
   "source": [
    "## 10. Export Results\n",
    "\n",
    "Save FMR data for further analysis."
   ]
  },
  {
   "cell_type": "code",
   "execution_count": null,
   "id": "56a26bb5",
   "metadata": {},
   "outputs": [],
   "source": [
    "# Export state FMRs\n",
    "hud.export_to_csv(ri_fmrs, 'ri_fmrs_2023.csv')\n",
    "\n",
    "# Export comparison\n",
    "if not comparison.empty:\n",
    "    hud.export_to_csv(comparison, 'ri_county_comparison.csv')\n",
    "\n",
    "print(\"✓ Data exported successfully\")"
   ]
  },
  {
   "cell_type": "markdown",
   "id": "448ee84e",
   "metadata": {},
   "source": [
    "## Next Steps\n",
    "\n",
    "**Explore More:**\n",
    "- Filter by metro area: `get_metro_fmrs()`\n",
    "- Get income limits: `get_income_limits()`\n",
    "- Compare across states\n",
    "- Analyze Small Area FMRs (ZIP level)\n",
    "\n",
    "**Resources:**\n",
    "- [HUD USER API Documentation](https://www.huduser.gov/portal/dataset/fmr-api.html)\n",
    "- [FMR Documentation](https://www.huduser.gov/portal/datasets/fmr.html)\n",
    "- [Income Limits](https://www.huduser.gov/portal/datasets/il.html)\n",
    "\n",
    "**Use Cases:**\n",
    "- Housing voucher program analysis\n",
    "- Affordable housing site selection\n",
    "- Regional cost-of-living comparisons\n",
    "- Policy impact assessment"
   ]
  }
 ],
 "metadata": {
  "language_info": {
   "name": "python"
  }
 },
 "nbformat": 4,
 "nbformat_minor": 5
}
