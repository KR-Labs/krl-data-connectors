{
 "cells": [
  {
   "cell_type": "markdown",
   "id": "d12ee261",
   "metadata": {},
   "source": [
    "# HUD Fair Market Rents - Quick Start Guide\n",
    "\n",
    "This notebook demonstrates how to use the **HUDFMRConnector** to access HUD Fair Market Rent data and perform affordability analysis.\n",
    "\n",
    "**⚠️ API Key Required:**\n",
    "This notebook requires a HUD USER API key to access live data. \n",
    "- **Get your free API key:** [HUD USER Registration](https://www.huduser.gov/hudapi/public/register?comingfrom=2,3)\n",
    "- Set it as environment variable: `HUD_API_KEY=your_token_here`\n",
    "- Or pass directly to connector: `HUDFMRConnector(api_key='your_token')`\n",
    "\n",
    "**Data Sources:**\n",
    "- Fair Market Rents (FMR) by bedroom count (0BR-4BR)\n",
    "- Income limits (very low, low, median)\n",
    "- Small Area FMRs (ZIP code level)\n",
    "\n",
    "**Use Cases:**\n",
    "- Housing affordability analysis\n",
    "- Rental market comparisons\n",
    "- Income qualification calculations\n",
    "\n",
    "---\n",
    "\n",
    "*© 2025 KR-Labs. Licensed under Apache-2.0.*"
   ]
  },
  {
   "cell_type": "markdown",
   "id": "c22479de",
   "metadata": {},
   "source": [
    "## 1. Setup and Import"
   ]
  },
  {
   "cell_type": "code",
   "execution_count": null,
   "id": "96beac49",
   "metadata": {},
   "outputs": [
    {
     "name": "stdout",
     "output_type": "stream",
     "text": [
      "{\"timestamp\": \"2025-10-20T16:39:08.371401Z\", \"level\": \"INFO\", \"name\": \"HUDFMRConnector\", \"message\": \"Connector initialized\", \"source\": {\"file\": \"base_connector.py\", \"line\": 79, \"function\": \"__init__\"}, \"levelname\": \"INFO\", \"taskName\": \"Task-19\", \"connector\": \"HUDFMRConnector\", \"cache_dir\": \"~/.krl_cache\", \"cache_ttl\": 86400, \"has_api_key\": true}\n",
      "{\"timestamp\": \"2025-10-20T16:39:08.371897Z\", \"level\": \"INFO\", \"name\": \"HUDFMRConnector\", \"message\": \"HUDFMRConnector initialized\", \"source\": {\"file\": \"hud_fmr_connector.py\", \"line\": 117, \"function\": \"__init__\"}, \"levelname\": \"INFO\", \"taskName\": \"Task-19\", \"has_api_key\": true, \"base_url\": \"https://www.huduser.gov/hudapi/public\"}\n",
      "✓ HUD FMR connector initialized\n",
      "{\"timestamp\": \"2025-10-20T16:39:08.371897Z\", \"level\": \"INFO\", \"name\": \"HUDFMRConnector\", \"message\": \"HUDFMRConnector initialized\", \"source\": {\"file\": \"hud_fmr_connector.py\", \"line\": 117, \"function\": \"__init__\"}, \"levelname\": \"INFO\", \"taskName\": \"Task-19\", \"has_api_key\": true, \"base_url\": \"https://www.huduser.gov/hudapi/public\"}\n",
      "✓ HUD FMR connector initialized\n"
     ]
    }
   ],
   "source": [
    "from krl_data_connectors.housing import HUDFMRConnector\n",
    "import pandas as pd\n",
    "import os\n",
    "\n",
    "# Initialize connector with API key from environment\n",
    "# To set: export HUD_API_KEY='your_token_here'\n",
    "api_key = os.getenv('HUD_API_KEY')\n",
    "\n",
    "if not api_key:\n",
    "    print(\"⚠️  No HUD_API_KEY found in environment variables\")\n",
    "    print(\"   Get your free API key: https://www.huduser.gov/hudapi/public/register?comingfrom=2,3\")\n",
    "    print(\"   Then run: export HUD_API_KEY='your_token_here'\")\n",
    "    api_key = input(\"\\nOr paste your API key here (or press Enter to skip): \").strip() or None\n",
    "\n",
    "hud = HUDFMRConnector(api_key=api_key)\n",
    "\n",
    "if api_key:\n",
    "    print(\"✓ HUD FMR connector initialized with API key\")\n",
    "else:\n",
    "    print(\"⚠️  HUD FMR connector initialized WITHOUT API key\")\n",
    "    print(\"   You can load data from downloaded files instead\")"
   ]
  },
  {
   "cell_type": "markdown",
   "id": "6a5fadec",
   "metadata": {},
   "source": [
    "## 2. Get State FMRs via API\n",
    "\n",
    "Retrieve Fair Market Rents for a state."
   ]
  },
  {
   "cell_type": "code",
   "execution_count": 2,
   "id": "64f6f1ce",
   "metadata": {},
   "outputs": [
    {
     "name": "stdout",
     "output_type": "stream",
     "text": [
      "{\"timestamp\": \"2025-10-20T16:39:08.376140Z\", \"level\": \"INFO\", \"name\": \"HUDFMRConnector\", \"message\": \"Fetching FMR data via API\", \"source\": {\"file\": \"hud_fmr_connector.py\", \"line\": 249, \"function\": \"_api_get_state_fmrs\"}, \"levelname\": \"INFO\", \"taskName\": \"Task-21\", \"state\": \"RI\", \"year\": 2023}\n"
     ]
    },
    {
     "ename": "HTTPError",
     "evalue": "401 Client Error: Unauthorized for url: https://www.huduser.gov/hudapi/public/fmr/statedata/RI?year=2023",
     "output_type": "error",
     "traceback": [
      "\u001b[31m---------------------------------------------------------------------------\u001b[39m",
      "\u001b[31mHTTPError\u001b[39m                                 Traceback (most recent call last)",
      "\u001b[36mCell\u001b[39m\u001b[36m \u001b[39m\u001b[32mIn[2]\u001b[39m\u001b[32m, line 2\u001b[39m\n\u001b[32m      1\u001b[39m \u001b[38;5;66;03m# Get Rhode Island FMRs for 2023\u001b[39;00m\n\u001b[32m----> \u001b[39m\u001b[32m2\u001b[39m ri_fmrs = \u001b[43mhud\u001b[49m\u001b[43m.\u001b[49m\u001b[43mget_state_fmrs\u001b[49m\u001b[43m(\u001b[49m\u001b[33;43m'\u001b[39;49m\u001b[33;43mRI\u001b[39;49m\u001b[33;43m'\u001b[39;49m\u001b[43m,\u001b[49m\u001b[43m \u001b[49m\u001b[43myear\u001b[49m\u001b[43m=\u001b[49m\u001b[32;43m2023\u001b[39;49m\u001b[43m)\u001b[49m\n\u001b[32m      4\u001b[39m \u001b[38;5;28mprint\u001b[39m(\u001b[33mf\u001b[39m\u001b[33m\"\u001b[39m\u001b[33mRetrieved FMR data for \u001b[39m\u001b[38;5;132;01m{\u001b[39;00m\u001b[38;5;28mlen\u001b[39m(ri_fmrs)\u001b[38;5;132;01m}\u001b[39;00m\u001b[33m areas\u001b[39m\u001b[33m\"\u001b[39m)\n\u001b[32m      5\u001b[39m \u001b[38;5;28mprint\u001b[39m(\u001b[33m\"\u001b[39m\u001b[38;5;130;01m\\n\u001b[39;00m\u001b[33mColumns:\u001b[39m\u001b[33m\"\u001b[39m, ri_fmrs.columns.tolist())\n",
      "\u001b[36mFile \u001b[39m\u001b[32m~/KR-Labs/krl-data-connectors/src/krl_data_connectors/housing/hud_fmr_connector.py:213\u001b[39m, in \u001b[36mHUDFMRConnector.get_state_fmrs\u001b[39m\u001b[34m(self, state, year, use_api)\u001b[39m\n\u001b[32m    198\u001b[39m \u001b[38;5;250m\u001b[39m\u001b[33;03m\"\"\"\u001b[39;00m\n\u001b[32m    199\u001b[39m \u001b[33;03mGet Fair Market Rents for a state.\u001b[39;00m\n\u001b[32m    200\u001b[39m \u001b[33;03m\u001b[39;00m\n\u001b[32m   (...)\u001b[39m\u001b[32m    210\u001b[39m \u001b[33;03m    >>> ri_fmr = connector.get_state_fmrs('RI', year=2025)\u001b[39;00m\n\u001b[32m    211\u001b[39m \u001b[33;03m\"\"\"\u001b[39;00m\n\u001b[32m    212\u001b[39m \u001b[38;5;28;01mif\u001b[39;00m use_api \u001b[38;5;129;01mand\u001b[39;00m \u001b[38;5;28mself\u001b[39m.api_key:\n\u001b[32m--> \u001b[39m\u001b[32m213\u001b[39m     \u001b[38;5;28;01mreturn\u001b[39;00m \u001b[38;5;28;43mself\u001b[39;49m\u001b[43m.\u001b[49m\u001b[43m_api_get_state_fmrs\u001b[49m\u001b[43m(\u001b[49m\u001b[43mstate\u001b[49m\u001b[43m,\u001b[49m\u001b[43m \u001b[49m\u001b[43myear\u001b[49m\u001b[43m)\u001b[49m\n\u001b[32m    214\u001b[39m \u001b[38;5;28;01melse\u001b[39;00m:\n\u001b[32m    215\u001b[39m     \u001b[38;5;28mself\u001b[39m.logger.warning(\u001b[33m\"\u001b[39m\u001b[33mAPI access not available, please load from file\u001b[39m\u001b[33m\"\u001b[39m)\n",
      "\u001b[36mFile \u001b[39m\u001b[32m~/KR-Labs/krl-data-connectors/src/krl_data_connectors/housing/hud_fmr_connector.py:255\u001b[39m, in \u001b[36mHUDFMRConnector._api_get_state_fmrs\u001b[39m\u001b[34m(self, state, year)\u001b[39m\n\u001b[32m    249\u001b[39m \u001b[38;5;28mself\u001b[39m.logger.info(\n\u001b[32m    250\u001b[39m     \u001b[33m\"\u001b[39m\u001b[33mFetching FMR data via API\u001b[39m\u001b[33m\"\u001b[39m,\n\u001b[32m    251\u001b[39m     extra={\u001b[33m\"\u001b[39m\u001b[33mstate\u001b[39m\u001b[33m\"\u001b[39m: state, \u001b[33m\"\u001b[39m\u001b[33myear\u001b[39m\u001b[33m\"\u001b[39m: year}\n\u001b[32m    252\u001b[39m )\n\u001b[32m    254\u001b[39m response = requests.get(endpoint, headers=headers, params=params, timeout=\u001b[38;5;28mself\u001b[39m.timeout)\n\u001b[32m--> \u001b[39m\u001b[32m255\u001b[39m \u001b[43mresponse\u001b[49m\u001b[43m.\u001b[49m\u001b[43mraise_for_status\u001b[49m\u001b[43m(\u001b[49m\u001b[43m)\u001b[49m\n\u001b[32m    257\u001b[39m data = response.json()\n\u001b[32m    259\u001b[39m \u001b[38;5;28;01mif\u001b[39;00m \u001b[33m'\u001b[39m\u001b[33mdata\u001b[39m\u001b[33m'\u001b[39m \u001b[38;5;129;01min\u001b[39;00m data:\n",
      "\u001b[36mFile \u001b[39m\u001b[32m~/KR-Labs/.venv/lib/python3.13/site-packages/requests/models.py:1026\u001b[39m, in \u001b[36mResponse.raise_for_status\u001b[39m\u001b[34m(self)\u001b[39m\n\u001b[32m   1021\u001b[39m     http_error_msg = (\n\u001b[32m   1022\u001b[39m         \u001b[33mf\u001b[39m\u001b[33m\"\u001b[39m\u001b[38;5;132;01m{\u001b[39;00m\u001b[38;5;28mself\u001b[39m.status_code\u001b[38;5;132;01m}\u001b[39;00m\u001b[33m Server Error: \u001b[39m\u001b[38;5;132;01m{\u001b[39;00mreason\u001b[38;5;132;01m}\u001b[39;00m\u001b[33m for url: \u001b[39m\u001b[38;5;132;01m{\u001b[39;00m\u001b[38;5;28mself\u001b[39m.url\u001b[38;5;132;01m}\u001b[39;00m\u001b[33m\"\u001b[39m\n\u001b[32m   1023\u001b[39m     )\n\u001b[32m   1025\u001b[39m \u001b[38;5;28;01mif\u001b[39;00m http_error_msg:\n\u001b[32m-> \u001b[39m\u001b[32m1026\u001b[39m     \u001b[38;5;28;01mraise\u001b[39;00m HTTPError(http_error_msg, response=\u001b[38;5;28mself\u001b[39m)\n",
      "\u001b[31mHTTPError\u001b[39m: 401 Client Error: Unauthorized for url: https://www.huduser.gov/hudapi/public/fmr/statedata/RI?year=2023"
     ]
    }
   ],
   "source": [
    "# Get Rhode Island FMRs for 2023\n",
    "ri_fmrs = hud.get_state_fmrs('RI', year=2023)\n",
    "\n",
    "print(f\"Retrieved FMR data for {len(ri_fmrs)} areas\")\n",
    "print(\"\\nColumns:\", ri_fmrs.columns.tolist())\n",
    "ri_fmrs.head()"
   ]
  },
  {
   "cell_type": "markdown",
   "id": "8bb6fa25",
   "metadata": {},
   "source": [
    "## 3. Load FMR Data from File\n",
    "\n",
    "Alternative: Load downloaded FMR data from CSV/Excel."
   ]
  },
  {
   "cell_type": "code",
   "execution_count": null,
   "id": "84325efa",
   "metadata": {},
   "outputs": [],
   "source": [
    "# If you prefer to use downloaded files\n",
    "# Download from: https://www.huduser.gov/portal/datasets/fmr.html\n",
    "\n",
    "# fmr_file = \"path/to/FY2023_FMRs.xlsx\"\n",
    "# fmr_data = hud.load_fmr_data(fmr_file)\n",
    "# print(f\"Loaded {len(fmr_data)} FMR records\")"
   ]
  },
  {
   "cell_type": "markdown",
   "id": "7e210b1c",
   "metadata": {},
   "source": [
    "## 4. Filter by Bedroom Count\n",
    "\n",
    "Extract FMRs for specific bedroom counts."
   ]
  },
  {
   "cell_type": "code",
   "execution_count": null,
   "id": "1eb3032c",
   "metadata": {},
   "outputs": [],
   "source": [
    "# Get 2-bedroom FMRs\n",
    "fmr_2br = hud.get_fmr_by_bedrooms(ri_fmrs, bedroom_count=2)\n",
    "\n",
    "print(\"2-Bedroom Fair Market Rents:\")\n",
    "print(fmr_2br[['countyname', 'metro_name', 'fmr_2br']].head())\n",
    "\n",
    "# Summary statistics\n",
    "print(f\"\\nAverage 2BR FMR: ${fmr_2br['fmr_2br'].mean():.0f}\")\n",
    "print(f\"Min: ${fmr_2br['fmr_2br'].min():.0f}\")\n",
    "print(f\"Max: ${fmr_2br['fmr_2br'].max():.0f}\")"
   ]
  },
  {
   "cell_type": "markdown",
   "id": "fdc08f5b",
   "metadata": {},
   "source": [
    "## 5. Calculate Affordability\n",
    "\n",
    "Determine if housing is affordable based on income (30% rule)."
   ]
  },
  {
   "cell_type": "code",
   "execution_count": null,
   "id": "428bd1e4",
   "metadata": {},
   "outputs": [],
   "source": [
    "# Example: Household earning $50,000/year\n",
    "household_income = 50000\n",
    "typical_fmr = 1200  # 2BR FMR\n",
    "\n",
    "affordability = hud.calculate_affordability(\n",
    "    household_income=household_income,\n",
    "    fmr_value=typical_fmr,\n",
    "    income_threshold=0.30\n",
    ")\n",
    "\n",
    "print(f\"Household Income: ${household_income:,}\")\n",
    "print(f\"FMR: ${typical_fmr}\")\n",
    "print(f\"\\nMax Affordable Rent: ${affordability['max_affordable_rent']:.2f}\")\n",
    "print(f\"Rent-to-Income Ratio: {affordability['rent_to_income_ratio']:.1%}\")\n",
    "print(f\"Affordable: {affordability['affordable']}\")\n",
    "print(f\"Monthly Surplus/Deficit: ${affordability['surplus_deficit']:.2f}\")"
   ]
  },
  {
   "cell_type": "markdown",
   "id": "ec332dc7",
   "metadata": {},
   "source": [
    "## 6. Compare Counties\n",
    "\n",
    "Analyze FMR differences across counties."
   ]
  },
  {
   "cell_type": "code",
   "execution_count": null,
   "id": "50674c4c",
   "metadata": {},
   "outputs": [],
   "source": [
    "# Compare Rhode Island counties\n",
    "counties = ['Providence County', 'Newport County', 'Washington County']\n",
    "comparison = hud.compare_fmrs(ri_fmrs, counties, bedroom_count=2)\n",
    "\n",
    "print(\"County Comparison (2BR FMRs):\")\n",
    "print(comparison[['countyname', 'fmr_2br']].sort_values('fmr_2br', ascending=False))"
   ]
  },
  {
   "cell_type": "markdown",
   "id": "0f812c6e",
   "metadata": {},
   "source": [
    "## 7. Compare All Bedroom Sizes\n",
    "\n",
    "View FMRs across all bedroom counts."
   ]
  },
  {
   "cell_type": "code",
   "execution_count": null,
   "id": "45495dc8",
   "metadata": {},
   "outputs": [],
   "source": [
    "# Get all bedroom FMRs for Providence County\n",
    "providence = hud.get_county_fmrs(ri_fmrs, 'Providence County')\n",
    "\n",
    "if not providence.empty:\n",
    "    print(\"Providence County FMRs:\")\n",
    "    bedroom_cols = ['fmr_0br', 'fmr_1br', 'fmr_2br', 'fmr_3br', 'fmr_4br']\n",
    "    for col in bedroom_cols:\n",
    "        if col in providence.columns:\n",
    "            bedrooms = col.split('_')[1].upper()\n",
    "            value = providence[col].iloc[0]\n",
    "            print(f\"  {bedrooms}: ${value:.0f}\")"
   ]
  },
  {
   "cell_type": "markdown",
   "id": "3da51cde",
   "metadata": {},
   "source": [
    "## 8. Year-over-Year Analysis\n",
    "\n",
    "Calculate FMR changes between years."
   ]
  },
  {
   "cell_type": "code",
   "execution_count": null,
   "id": "8b75dc63",
   "metadata": {},
   "outputs": [],
   "source": [
    "# Get FMRs for two consecutive years\n",
    "fmr_2023 = hud.get_state_fmrs('RI', year=2023)\n",
    "fmr_2022 = hud.get_state_fmrs('RI', year=2022)\n",
    "\n",
    "# Calculate year-over-year change for 2BR\n",
    "yoy_change = hud.calculate_yoy_change(fmr_2023, fmr_2022, 'fmr_2br')\n",
    "\n",
    "print(\"Year-over-Year FMR Changes (2BR):\")\n",
    "print(yoy_change[['countyname', 'fmr_2br_current', 'fmr_2br_previous', \n",
    "                   'yoy_change', 'yoy_change_pct']].round(2))"
   ]
  },
  {
   "cell_type": "markdown",
   "id": "279d90f9",
   "metadata": {},
   "source": [
    "## 9. Affordability Across Income Levels\n",
    "\n",
    "Analyze affordability for different income brackets."
   ]
  },
  {
   "cell_type": "code",
   "execution_count": null,
   "id": "5918a401",
   "metadata": {},
   "outputs": [],
   "source": [
    "# Test multiple income levels\n",
    "income_levels = [30000, 40000, 50000, 60000, 75000]\n",
    "fmr_value = 1200  # 2BR FMR\n",
    "\n",
    "print(f\"Affordability Analysis (FMR: ${fmr_value}):\\n\")\n",
    "for income in income_levels:\n",
    "    result = hud.calculate_affordability(income, fmr_value)\n",
    "    status = \"✓ Affordable\" if result['affordable'] else \"✗ Not Affordable\"\n",
    "    print(f\"${income:,}: {status} (Max: ${result['max_affordable_rent']:.0f})\")"
   ]
  },
  {
   "cell_type": "markdown",
   "id": "a90dc442",
   "metadata": {},
   "source": [
    "## 10. Export Results\n",
    "\n",
    "Save FMR data for further analysis."
   ]
  },
  {
   "cell_type": "code",
   "execution_count": null,
   "id": "56a26bb5",
   "metadata": {},
   "outputs": [],
   "source": [
    "# Export state FMRs\n",
    "hud.export_to_csv(ri_fmrs, 'ri_fmrs_2023.csv')\n",
    "\n",
    "# Export comparison\n",
    "if not comparison.empty:\n",
    "    hud.export_to_csv(comparison, 'ri_county_comparison.csv')\n",
    "\n",
    "print(\"✓ Data exported successfully\")"
   ]
  },
  {
   "cell_type": "markdown",
   "id": "448ee84e",
   "metadata": {},
   "source": [
    "## Next Steps\n",
    "\n",
    "**Explore More:**\n",
    "- Filter by metro area: `get_metro_fmrs()`\n",
    "- Get income limits: `get_income_limits()`\n",
    "- Compare across states\n",
    "- Analyze Small Area FMRs (ZIP level)\n",
    "\n",
    "**Resources:**\n",
    "- [HUD USER API Documentation](https://www.huduser.gov/portal/dataset/fmr-api.html)\n",
    "- [FMR Documentation](https://www.huduser.gov/portal/datasets/fmr.html)\n",
    "- [Income Limits](https://www.huduser.gov/portal/datasets/il.html)\n",
    "\n",
    "**Use Cases:**\n",
    "- Housing voucher program analysis\n",
    "- Affordable housing site selection\n",
    "- Regional cost-of-living comparisons\n",
    "- Policy impact assessment"
   ]
  }
 ],
 "metadata": {
  "kernelspec": {
   "display_name": ".venv",
   "language": "python",
   "name": "python3"
  },
  "language_info": {
   "codemirror_mode": {
    "name": "ipython",
    "version": 3
   },
   "file_extension": ".py",
   "mimetype": "text/x-python",
   "name": "python",
   "nbconvert_exporter": "python",
   "pygments_lexer": "ipython3",
   "version": "3.13.7"
  }
 },
 "nbformat": 4,
 "nbformat_minor": 5
}
