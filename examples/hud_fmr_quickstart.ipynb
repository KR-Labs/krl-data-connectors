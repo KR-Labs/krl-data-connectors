{
 "cells": [
  {
   "cell_type": "markdown",
   "id": "d12ee261",
   "metadata": {},
   "source": [
    "# HUD Fair Market Rents - Quick Start Guide\n",
    "\n",
    "This notebook demonstrates how to use the **HUDFMRConnector** to access HUD Fair Market Rent data and perform affordability analysis.\n",
    "\n",
    "**⚠️ API Key Required:**\n",
    "This notebook requires a HUD USER API key to access live data. \n",
    "- **Get your free API key:** [HUD USER Registration](https://www.huduser.gov/hudapi/public/register?comingfrom=2,3)\n",
    "- Set it as environment variable: `HUD_API_KEY=your_token_here`\n",
    "- Or pass directly to connector: `HUDFMRConnector(api_key='your_token')`\n",
    "\n",
    "**Data Sources:**\n",
    "- Fair Market Rents (FMR) by bedroom count (0BR-4BR)\n",
    "- Income limits (very low, low, median)\n",
    "- Small Area FMRs (ZIP code level)\n",
    "\n",
    "**Use Cases:**\n",
    "- Housing affordability analysis\n",
    "- Rental market comparisons\n",
    "- Income qualification calculations\n",
    "\n",
    "---\n",
    "\n",
    "*© 2025 KR-Labs. Licensed under Apache-2.0.*"
   ]
  },
  {
   "cell_type": "markdown",
   "id": "16fce923",
   "metadata": {},
   "source": []
  },
  {
   "cell_type": "markdown",
   "id": "c22479de",
   "metadata": {},
   "source": [
    "## 1. Setup and Import"
   ]
  },
  {
   "cell_type": "code",
   "execution_count": 1,
   "id": "96beac49",
   "metadata": {},
   "outputs": [
    {
     "name": "stdout",
     "output_type": "stream",
     "text": [
      "⚠️  No HUD_API_KEY found in environment variables\n",
      "   Get your free API key: https://www.huduser.gov/hudapi/public/register?comingfrom=2,3\n",
      "   Then run: export HUD_API_KEY='your_token_here'\n",
      "{\"timestamp\": \"2025-10-20T16:51:37.708256Z\", \"level\": \"INFO\", \"name\": \"HUDFMRConnector\", \"message\": \"Connector initialized\", \"source\": {\"file\": \"base_connector.py\", \"line\": 79, \"function\": \"__init__\"}, \"levelname\": \"INFO\", \"taskName\": \"Task-17\", \"connector\": \"HUDFMRConnector\", \"cache_dir\": \"~/.krl_cache\", \"cache_ttl\": 86400, \"has_api_key\": true}\n",
      "{\"timestamp\": \"2025-10-20T16:51:37.710078Z\", \"level\": \"INFO\", \"name\": \"HUDFMRConnector\", \"message\": \"HUDFMRConnector initialized\", \"source\": {\"file\": \"hud_fmr_connector.py\", \"line\": 117, \"function\": \"__init__\"}, \"levelname\": \"INFO\", \"taskName\": \"Task-17\", \"has_api_key\": true, \"base_url\": \"https://www.huduser.gov/hudapi/public\"}\n",
      "✓ HUD FMR connector initialized with API key\n",
      "{\"timestamp\": \"2025-10-20T16:51:37.708256Z\", \"level\": \"INFO\", \"name\": \"HUDFMRConnector\", \"message\": \"Connector initialized\", \"source\": {\"file\": \"base_connector.py\", \"line\": 79, \"function\": \"__init__\"}, \"levelname\": \"INFO\", \"taskName\": \"Task-17\", \"connector\": \"HUDFMRConnector\", \"cache_dir\": \"~/.krl_cache\", \"cache_ttl\": 86400, \"has_api_key\": true}\n",
      "{\"timestamp\": \"2025-10-20T16:51:37.710078Z\", \"level\": \"INFO\", \"name\": \"HUDFMRConnector\", \"message\": \"HUDFMRConnector initialized\", \"source\": {\"file\": \"hud_fmr_connector.py\", \"line\": 117, \"function\": \"__init__\"}, \"levelname\": \"INFO\", \"taskName\": \"Task-17\", \"has_api_key\": true, \"base_url\": \"https://www.huduser.gov/hudapi/public\"}\n",
      "✓ HUD FMR connector initialized with API key\n"
     ]
    }
   ],
   "source": [
    "from krl_data_connectors.housing import HUDFMRConnector\n",
    "import pandas as pd\n",
    "import os\n",
    "\n",
    "# Initialize connector with API key from environment\n",
    "# To set: export HUD_API_KEY='your_token_here'\n",
    "api_key = os.getenv('HUD_API_KEY')\n",
    "\n",
    "if not api_key:\n",
    "    print(\"⚠️  No HUD_API_KEY found in environment variables\")\n",
    "    print(\"   Get your free API key: https://www.huduser.gov/hudapi/public/register?comingfrom=2,3\")\n",
    "    print(\"   Then run: export HUD_API_KEY='your_token_here'\")\n",
    "    api_key = input(\"\\nOr paste your API key here (or press Enter to skip): \").strip() or None\n",
    "\n",
    "hud = HUDFMRConnector(api_key=api_key)\n",
    "\n",
    "if api_key:\n",
    "    print(\"✓ HUD FMR connector initialized with API key\")\n",
    "else:\n",
    "    print(\"⚠️  HUD FMR connector initialized WITHOUT API key\")\n",
    "    print(\"   You can load data from downloaded files instead\")"
   ]
  },
  {
   "cell_type": "markdown",
   "id": "6a5fadec",
   "metadata": {},
   "source": [
    "## 2. Get State FMRs via API\n",
    "\n",
    "Retrieve Fair Market Rents for a state."
   ]
  },
  {
   "cell_type": "code",
   "execution_count": 2,
   "id": "173c086d",
   "metadata": {},
   "outputs": [
    {
     "name": "stdout",
     "output_type": "stream",
     "text": [
      "⚠️  No data available. Please run the previous cell to fetch FMR data.\n"
     ]
    }
   ],
   "source": [
    "if 'ri_fmrs' in locals() and not ri_fmrs.empty:\n",
    "    # Create affordability matrix\n",
    "    income_levels = [30000, 40000, 50000, 60000, 75000, 100000]\n",
    "    avg_2br_fmr = ri_fmrs['fmr_2br'].mean()\n",
    "    \n",
    "    fig = make_subplots(\n",
    "        rows=1, cols=2,\n",
    "        subplot_titles=(\n",
    "            'Affordability by Income Level (2BR)',\n",
    "            'Rent Burden Analysis'\n",
    "        ),\n",
    "        specs=[[{'type': 'bar'}, {'type': 'scatter'}]]\n",
    "    )\n",
    "    \n",
    "    # Calculate affordability metrics\n",
    "    affordable = []\n",
    "    max_affordable_rents = []\n",
    "    rent_burdens = []\n",
    "    \n",
    "    for income in income_levels:\n",
    "        max_rent = (income / 12) * 0.30\n",
    "        max_affordable_rents.append(max_rent)\n",
    "        affordable.append(max_rent >= avg_2br_fmr)\n",
    "        rent_burdens.append((avg_2br_fmr / (income / 12)) * 100)\n",
    "    \n",
    "    # 1. Affordability bar chart\n",
    "    colors = ['green' if a else 'red' for a in affordable]\n",
    "    fig.add_trace(\n",
    "        go.Bar(\n",
    "            x=[f\"${i//1000}k\" for i in income_levels],\n",
    "            y=max_affordable_rents,\n",
    "            name='Max Affordable Rent',\n",
    "            marker_color=colors,\n",
    "            text=[f\"${r:.0f}\" for r in max_affordable_rents],\n",
    "            textposition='auto'\n",
    "        ),\n",
    "        row=1, col=1\n",
    "    )\n",
    "    \n",
    "    # Add average FMR line\n",
    "    fig.add_trace(\n",
    "        go.Scatter(\n",
    "            x=[f\"${i//1000}k\" for i in income_levels],\n",
    "            y=[avg_2br_fmr] * len(income_levels),\n",
    "            mode='lines',\n",
    "            name=f'Avg 2BR FMR (${avg_2br_fmr:.0f})',\n",
    "            line=dict(color='red', dash='dash', width=3)\n",
    "        ),\n",
    "        row=1, col=1\n",
    "    )\n",
    "    \n",
    "    # 2. Rent burden percentage\n",
    "    fig.add_trace(\n",
    "        go.Scatter(\n",
    "            x=[f\"${i//1000}k\" for i in income_levels],\n",
    "            y=rent_burdens,\n",
    "            mode='lines+markers',\n",
    "            name='Rent Burden %',\n",
    "            line=dict(color='darkblue', width=3),\n",
    "            marker=dict(size=10),\n",
    "            text=[f\"{b:.1f}%\" for b in rent_burdens],\n",
    "            textposition='top center'\n",
    "        ),\n",
    "        row=1, col=2\n",
    "    )\n",
    "    \n",
    "    # Add 30% guideline\n",
    "    fig.add_trace(\n",
    "        go.Scatter(\n",
    "            x=[f\"${i//1000}k\" for i in income_levels],\n",
    "            y=[30] * len(income_levels),\n",
    "            mode='lines',\n",
    "            name='30% Guideline',\n",
    "            line=dict(color='green', dash='dash', width=2)\n",
    "        ),\n",
    "        row=1, col=2\n",
    "    )\n",
    "    \n",
    "    # Update layout\n",
    "    fig.update_xaxes(title_text=\"Annual Income\", row=1, col=1)\n",
    "    fig.update_yaxes(title_text=\"Monthly Rent ($)\", row=1, col=1)\n",
    "    fig.update_xaxes(title_text=\"Annual Income\", row=1, col=2)\n",
    "    fig.update_yaxes(title_text=\"Rent Burden (%)\", row=1, col=2)\n",
    "    \n",
    "    fig.update_layout(\n",
    "        title_text=f\"Housing Affordability Analysis - RI Average 2BR FMR: ${avg_2br_fmr:.0f}\",\n",
    "        height=500,\n",
    "        showlegend=True,\n",
    "        template='plotly_white'\n",
    "    )\n",
    "    \n",
    "    fig.show()\n",
    "    \n",
    "    # Print summary\n",
    "    print(\"\\n📊 Affordability Summary:\")\n",
    "    print(f\"Average 2BR FMR: ${avg_2br_fmr:.2f}\")\n",
    "    print(f\"\\nIncome needed for affordability (30% rule): ${(avg_2br_fmr * 12 / 0.30):,.0f}/year\")\n",
    "    affordable_count = sum(affordable)\n",
    "    print(f\"Income levels tested: {len(income_levels)}\")\n",
    "    print(f\"Affordable at: {affordable_count}/{len(income_levels)} income levels\")\n",
    "else:\n",
    "    print(\"⚠️  No data available. Please run the previous cell to fetch FMR data.\")"
   ]
  },
  {
   "cell_type": "markdown",
   "id": "d72526fb",
   "metadata": {},
   "source": [
    "## 4. Affordability Analysis Visualization\n",
    "\n",
    "Analyze housing affordability across income levels."
   ]
  },
  {
   "cell_type": "code",
   "execution_count": 3,
   "id": "9dc1e035",
   "metadata": {},
   "outputs": [
    {
     "name": "stdout",
     "output_type": "stream",
     "text": [
      "⚠️  No data available. Please run the previous cell to fetch FMR data.\n"
     ]
    }
   ],
   "source": [
    "import plotly.graph_objects as go\n",
    "from plotly.subplots import make_subplots\n",
    "\n",
    "if 'ri_fmrs' in locals() and not ri_fmrs.empty:\n",
    "    # Create 2x2 dashboard\n",
    "    fig = make_subplots(\n",
    "        rows=2, cols=2,\n",
    "        subplot_titles=(\n",
    "            'FMR Distribution by Bedroom Count',\n",
    "            'Geographic Distribution (2BR FMRs)',\n",
    "            'Metro vs County Comparison',\n",
    "            'FMR Statistics Summary'\n",
    "        ),\n",
    "        specs=[\n",
    "            [{'type': 'box'}, {'type': 'bar'}],\n",
    "            [{'type': 'bar'}, {'type': 'table'}]\n",
    "        ],\n",
    "        vertical_spacing=0.12,\n",
    "        horizontal_spacing=0.1\n",
    "    )\n",
    "    \n",
    "    # 1. Box plot - FMR distribution by bedroom count\n",
    "    bedroom_cols = ['fmr_0br', 'fmr_1br', 'fmr_2br', 'fmr_3br', 'fmr_4br']\n",
    "    for col in bedroom_cols:\n",
    "        fig.add_trace(\n",
    "            go.Box(\n",
    "                y=ri_fmrs[col],\n",
    "                name=col.replace('fmr_', '').upper(),\n",
    "                marker_color='lightblue'\n",
    "            ),\n",
    "            row=1, col=1\n",
    "        )\n",
    "    \n",
    "    # 2. Bar chart - Top areas by 2BR FMR\n",
    "    top_areas = ri_fmrs.nlargest(10, 'fmr_2br')\n",
    "    area_names = top_areas.apply(\n",
    "        lambda x: x['county_name'] if pd.notna(x['county_name']) else x['metro_name'],\n",
    "        axis=1\n",
    "    )\n",
    "    fig.add_trace(\n",
    "        go.Bar(\n",
    "            x=top_areas['fmr_2br'],\n",
    "            y=area_names,\n",
    "            orientation='h',\n",
    "            marker_color='coral',\n",
    "            text=top_areas['fmr_2br'],\n",
    "            textposition='auto'\n",
    "        ),\n",
    "        row=1, col=2\n",
    "    )\n",
    "    \n",
    "    # 3. Metro vs County comparison\n",
    "    metros = ri_fmrs[ri_fmrs['county_name'].isna()]\n",
    "    counties = ri_fmrs[ri_fmrs['county_name'].notna()]\n",
    "    \n",
    "    fig.add_trace(\n",
    "        go.Bar(\n",
    "            name='Metro Areas',\n",
    "            x=['0BR', '1BR', '2BR', '3BR', '4BR'],\n",
    "            y=[metros[col].mean() for col in bedroom_cols],\n",
    "            marker_color='lightgreen'\n",
    "        ),\n",
    "        row=2, col=1\n",
    "    )\n",
    "    fig.add_trace(\n",
    "        go.Bar(\n",
    "            name='Counties/Towns',\n",
    "            x=['0BR', '1BR', '2BR', '3BR', '4BR'],\n",
    "            y=[counties[col].mean() for col in bedroom_cols],\n",
    "            marker_color='lightcoral'\n",
    "        ),\n",
    "        row=2, col=1\n",
    "    )\n",
    "    \n",
    "    # 4. Statistics table\n",
    "    stats_data = []\n",
    "    for col in bedroom_cols:\n",
    "        stats_data.append([\n",
    "            col.replace('fmr_', '').upper(),\n",
    "            f\"${ri_fmrs[col].min():.0f}\",\n",
    "            f\"${ri_fmrs[col].mean():.0f}\",\n",
    "            f\"${ri_fmrs[col].max():.0f}\",\n",
    "            f\"${ri_fmrs[col].std():.0f}\"\n",
    "        ])\n",
    "    \n",
    "    fig.add_trace(\n",
    "        go.Table(\n",
    "            header=dict(\n",
    "                values=['Type', 'Min', 'Mean', 'Max', 'Std Dev'],\n",
    "                fill_color='paleturquoise',\n",
    "                align='left'\n",
    "            ),\n",
    "            cells=dict(\n",
    "                values=list(zip(*stats_data)),\n",
    "                fill_color='lavender',\n",
    "                align='left'\n",
    "            )\n",
    "        ),\n",
    "        row=2, col=2\n",
    "    )\n",
    "    \n",
    "    # Update layout\n",
    "    fig.update_xaxes(title_text=\"FMR ($)\", row=1, col=2)\n",
    "    fig.update_yaxes(title_text=\"Area\", row=1, col=2)\n",
    "    fig.update_xaxes(title_text=\"Bedroom Type\", row=2, col=1)\n",
    "    fig.update_yaxes(title_text=\"Average FMR ($)\", row=2, col=1)\n",
    "    \n",
    "    fig.update_layout(\n",
    "        title_text=\"Rhode Island Fair Market Rents Dashboard - 2023\",\n",
    "        showlegend=True,\n",
    "        height=800,\n",
    "        template='plotly_white'\n",
    "    )\n",
    "    \n",
    "    fig.show()\n",
    "    \n",
    "    print(f\"✓ Dashboard created with {len(ri_fmrs)} areas\")\n",
    "else:\n",
    "    print(\"⚠️  No data available. Please run the previous cell to fetch FMR data.\")"
   ]
  },
  {
   "cell_type": "markdown",
   "id": "d20de368",
   "metadata": {},
   "source": [
    "## 3. Visualize FMR Distribution\n",
    "\n",
    "Comprehensive dashboard of Fair Market Rents across Rhode Island."
   ]
  },
  {
   "cell_type": "code",
   "execution_count": 4,
   "id": "64f6f1ce",
   "metadata": {},
   "outputs": [
    {
     "name": "stdout",
     "output_type": "stream",
     "text": [
      "{\"timestamp\": \"2025-10-20T16:51:37.783563Z\", \"level\": \"INFO\", \"name\": \"HUDFMRConnector\", \"message\": \"Returning cached FMR data\", \"source\": {\"file\": \"hud_fmr_connector.py\", \"line\": 246, \"function\": \"_api_get_state_fmrs\"}, \"levelname\": \"INFO\", \"taskName\": \"Task-23\", \"state\": \"RI\"}\n",
      "✓ Retrieved FMR data for 42 areas\n",
      "\n",
      "Columns: ['metro_name', 'code', 'fmr_0br', 'fmr_1br', 'fmr_2br', 'fmr_3br', 'fmr_4br', 'FMR Percentile', 'statename', 'statecode', 'smallarea_status', 'town_name', 'county_name', 'fips_code']\n",
      "\n",
      "Data Types:\n",
      "  Metro areas: 3\n",
      "  Counties/Towns: 39\n",
      "✓ Retrieved FMR data for 42 areas\n",
      "\n",
      "Columns: ['metro_name', 'code', 'fmr_0br', 'fmr_1br', 'fmr_2br', 'fmr_3br', 'fmr_4br', 'FMR Percentile', 'statename', 'statecode', 'smallarea_status', 'town_name', 'county_name', 'fips_code']\n",
      "\n",
      "Data Types:\n",
      "  Metro areas: 3\n",
      "  Counties/Towns: 39\n"
     ]
    }
   ],
   "source": [
    "# Get Rhode Island FMRs for 2023\n",
    "try:\n",
    "    ri_fmrs = hud.get_state_fmrs('RI', year=2023)\n",
    "    print(f\"✓ Retrieved FMR data for {len(ri_fmrs)} areas\")\n",
    "    print(f\"\\nColumns: {ri_fmrs.columns.tolist()}\")\n",
    "    print(f\"\\nData Types:\")\n",
    "    print(f\"  Metro areas: {len(ri_fmrs[ri_fmrs['county_name'].isna()])}\")\n",
    "    print(f\"  Counties/Towns: {len(ri_fmrs[ri_fmrs['county_name'].notna()])}\")\n",
    "    ri_fmrs.head()\n",
    "except Exception as e:\n",
    "    print(f\"✗ Error fetching data: {e}\")\n",
    "    print(\"\\nMake sure you have set your HUD_API_KEY environment variable\")\n",
    "    print(\"Get your free key: https://www.huduser.gov/hudapi/public/register?comingfrom=2,3\")"
   ]
  },
  {
   "cell_type": "markdown",
   "id": "8bb6fa25",
   "metadata": {},
   "source": [
    "## 5. Load FMR Data from File\n",
    "\n",
    "Alternative: Load downloaded FMR data from CSV/Excel."
   ]
  },
  {
   "cell_type": "code",
   "execution_count": 5,
   "id": "84325efa",
   "metadata": {},
   "outputs": [],
   "source": [
    "# If you prefer to use downloaded files\n",
    "# Download from: https://www.huduser.gov/portal/datasets/fmr.html\n",
    "\n",
    "# fmr_file = \"path/to/FY2023_FMRs.xlsx\"\n",
    "# fmr_data = hud.load_fmr_data(fmr_file)\n",
    "# print(f\"Loaded {len(fmr_data)} FMR records\")"
   ]
  },
  {
   "cell_type": "markdown",
   "id": "7e210b1c",
   "metadata": {},
   "source": [
    "## 6. Filter by Bedroom Count\n",
    "\n",
    "Extract FMRs for specific bedroom counts."
   ]
  },
  {
   "cell_type": "code",
   "execution_count": 6,
   "id": "1eb3032c",
   "metadata": {},
   "outputs": [
    {
     "name": "stdout",
     "output_type": "stream",
     "text": [
      "2-Bedroom Fair Market Rents:\n",
      "                                                area  fmr_2br\n",
      "0  Newport-Middleton-Portsmouth, RI HUD Metro FMR...     1976\n",
      "1    Providence-Fall River, RI-MA HUD Metro FMR Area     1409\n",
      "2  Westerly-Hopkinton-New Shoreham, RI HUD Metro ...     1416\n",
      "3                                     Bristol County     1409\n",
      "4                                     Bristol County     1409\n",
      "5                                  Providence County     1409\n",
      "6                                  Providence County     1409\n",
      "7                                  Washington County     1409\n",
      "8                                        Kent County     1409\n",
      "9                                  Providence County     1409\n",
      "\n",
      "📊 2BR FMR Statistics:\n",
      "  Average: $1464\n",
      "  Median: $1409\n",
      "  Min: $1409\n",
      "  Max: $1976\n",
      "  Std Dev: $168\n"
     ]
    }
   ],
   "source": [
    "if 'ri_fmrs' in locals() and not ri_fmrs.empty:\n",
    "    # Get 2-bedroom FMRs\n",
    "    fmr_2br_data = ri_fmrs[['county_name', 'metro_name', 'fmr_2br']].copy()\n",
    "    fmr_2br_data['area'] = fmr_2br_data.apply(\n",
    "        lambda x: x['county_name'] if pd.notna(x['county_name']) else x['metro_name'],\n",
    "        axis=1\n",
    "    )\n",
    "    \n",
    "    print(\"2-Bedroom Fair Market Rents:\")\n",
    "    print(fmr_2br_data[['area', 'fmr_2br']].head(10))\n",
    "    \n",
    "    # Summary statistics\n",
    "    print(f\"\\n📊 2BR FMR Statistics:\")\n",
    "    print(f\"  Average: ${ri_fmrs['fmr_2br'].mean():.0f}\")\n",
    "    print(f\"  Median: ${ri_fmrs['fmr_2br'].median():.0f}\")\n",
    "    print(f\"  Min: ${ri_fmrs['fmr_2br'].min():.0f}\")\n",
    "    print(f\"  Max: ${ri_fmrs['fmr_2br'].max():.0f}\")\n",
    "    print(f\"  Std Dev: ${ri_fmrs['fmr_2br'].std():.0f}\")\n",
    "else:\n",
    "    print(\"⚠️  No data available. Run cell 2 first to fetch FMR data.\")"
   ]
  },
  {
   "cell_type": "markdown",
   "id": "fdc08f5b",
   "metadata": {},
   "source": [
    "## 7. Calculate Affordability\n",
    "\n",
    "Determine if housing is affordable based on income (30% rule)."
   ]
  },
  {
   "cell_type": "code",
   "execution_count": 7,
   "id": "428bd1e4",
   "metadata": {},
   "outputs": [
    {
     "name": "stdout",
     "output_type": "stream",
     "text": [
      "{\"timestamp\": \"2025-10-20T16:51:37.802611Z\", \"level\": \"INFO\", \"name\": \"HUDFMRConnector\", \"message\": \"Calculated affordability\", \"source\": {\"file\": \"hud_fmr_connector.py\", \"line\": 443, \"function\": \"calculate_affordability\"}, \"levelname\": \"INFO\", \"taskName\": \"Task-29\", \"annual_income\": 50000, \"monthly_income\": 4166.666666666667, \"max_affordable_rent\": 1250.0, \"income_threshold_pct\": 30.0, \"bedrooms\": 2, \"fmr\": 1200, \"is_affordable\": true, \"rent_to_income_ratio\": 28.799999999999997, \"monthly_surplus_deficit\": 50.0}\n",
      "Household Income: $50,000\n",
      "FMR (2BR): $1200\n",
      "\n",
      "Max Affordable Rent: $1250.00\n",
      "Rent-to-Income Ratio: 28.8%\n",
      "Affordable: True\n",
      "Monthly Surplus/Deficit: $50.00\n",
      "Household Income: $50,000\n",
      "FMR (2BR): $1200\n",
      "\n",
      "Max Affordable Rent: $1250.00\n",
      "Rent-to-Income Ratio: 28.8%\n",
      "Affordable: True\n",
      "Monthly Surplus/Deficit: $50.00\n"
     ]
    }
   ],
   "source": [
    "# Example: Household earning $50,000/year\n",
    "household_income = 50000\n",
    "typical_fmr = 1200  # 2BR FMR\n",
    "bedrooms = 2\n",
    "\n",
    "affordability = hud.calculate_affordability(\n",
    "    income=household_income,\n",
    "    bedrooms=bedrooms,\n",
    "    fmr_value=typical_fmr,\n",
    "    income_threshold=0.30\n",
    ")\n",
    "\n",
    "print(f\"Household Income: ${household_income:,}\")\n",
    "print(f\"FMR ({bedrooms}BR): ${typical_fmr}\")\n",
    "print(f\"\\nMax Affordable Rent: ${affordability['max_affordable_rent']:.2f}\")\n",
    "print(f\"Rent-to-Income Ratio: {affordability['rent_to_income_ratio']:.1f}%\")\n",
    "print(f\"Affordable: {affordability['is_affordable']}\")\n",
    "print(f\"Monthly Surplus/Deficit: ${affordability['monthly_surplus_deficit']:.2f}\")"
   ]
  },
  {
   "cell_type": "markdown",
   "id": "ec332dc7",
   "metadata": {},
   "source": [
    "## 8. Compare Counties\n",
    "\n",
    "Analyze FMR differences across counties."
   ]
  },
  {
   "cell_type": "code",
   "execution_count": 8,
   "id": "50674c4c",
   "metadata": {},
   "outputs": [
    {
     "name": "stdout",
     "output_type": "stream",
     "text": [
      "📊 County Comparison (2BR FMRs):\n",
      "                   Avg 2BR  Min 2BR  Max 2BR  Areas\n",
      "county_name                                        \n",
      "Newport County      1692.0     1409     1976      6\n",
      "Washington County   1411.0     1409     1416      9\n",
      "Bristol County      1409.0     1409     1409      3\n",
      "Kent County         1409.0     1409     1409      5\n",
      "Providence County   1409.0     1409     1409     16\n"
     ]
    },
    {
     "data": {
      "application/vnd.plotly.v1+json": {
       "config": {
        "plotlyServerURL": "https://plot.ly"
       },
       "data": [
        {
         "marker": {
          "color": "steelblue"
         },
         "name": "Average 2BR FMR",
         "text": {
          "bdata": "AAAAAABwmkAAAAAAAAyWQAAAAAAABJZAAAAAAAAElkAAAAAAAASWQA==",
          "dtype": "f8"
         },
         "textposition": "auto",
         "type": "bar",
         "x": [
          "Newport County",
          "Washington County",
          "Bristol County",
          "Kent County",
          "Providence County"
         ],
         "y": {
          "bdata": "AAAAAABwmkAAAAAAAAyWQAAAAAAABJZAAAAAAAAElkAAAAAAAASWQA==",
          "dtype": "f8"
         }
        }
       ],
       "layout": {
        "height": 400,
        "template": {
         "data": {
          "bar": [
           {
            "error_x": {
             "color": "#2a3f5f"
            },
            "error_y": {
             "color": "#2a3f5f"
            },
            "marker": {
             "line": {
              "color": "white",
              "width": 0.5
             },
             "pattern": {
              "fillmode": "overlay",
              "size": 10,
              "solidity": 0.2
             }
            },
            "type": "bar"
           }
          ],
          "barpolar": [
           {
            "marker": {
             "line": {
              "color": "white",
              "width": 0.5
             },
             "pattern": {
              "fillmode": "overlay",
              "size": 10,
              "solidity": 0.2
             }
            },
            "type": "barpolar"
           }
          ],
          "carpet": [
           {
            "aaxis": {
             "endlinecolor": "#2a3f5f",
             "gridcolor": "#C8D4E3",
             "linecolor": "#C8D4E3",
             "minorgridcolor": "#C8D4E3",
             "startlinecolor": "#2a3f5f"
            },
            "baxis": {
             "endlinecolor": "#2a3f5f",
             "gridcolor": "#C8D4E3",
             "linecolor": "#C8D4E3",
             "minorgridcolor": "#C8D4E3",
             "startlinecolor": "#2a3f5f"
            },
            "type": "carpet"
           }
          ],
          "choropleth": [
           {
            "colorbar": {
             "outlinewidth": 0,
             "ticks": ""
            },
            "type": "choropleth"
           }
          ],
          "contour": [
           {
            "colorbar": {
             "outlinewidth": 0,
             "ticks": ""
            },
            "colorscale": [
             [
              0,
              "#0d0887"
             ],
             [
              0.1111111111111111,
              "#46039f"
             ],
             [
              0.2222222222222222,
              "#7201a8"
             ],
             [
              0.3333333333333333,
              "#9c179e"
             ],
             [
              0.4444444444444444,
              "#bd3786"
             ],
             [
              0.5555555555555556,
              "#d8576b"
             ],
             [
              0.6666666666666666,
              "#ed7953"
             ],
             [
              0.7777777777777778,
              "#fb9f3a"
             ],
             [
              0.8888888888888888,
              "#fdca26"
             ],
             [
              1,
              "#f0f921"
             ]
            ],
            "type": "contour"
           }
          ],
          "contourcarpet": [
           {
            "colorbar": {
             "outlinewidth": 0,
             "ticks": ""
            },
            "type": "contourcarpet"
           }
          ],
          "heatmap": [
           {
            "colorbar": {
             "outlinewidth": 0,
             "ticks": ""
            },
            "colorscale": [
             [
              0,
              "#0d0887"
             ],
             [
              0.1111111111111111,
              "#46039f"
             ],
             [
              0.2222222222222222,
              "#7201a8"
             ],
             [
              0.3333333333333333,
              "#9c179e"
             ],
             [
              0.4444444444444444,
              "#bd3786"
             ],
             [
              0.5555555555555556,
              "#d8576b"
             ],
             [
              0.6666666666666666,
              "#ed7953"
             ],
             [
              0.7777777777777778,
              "#fb9f3a"
             ],
             [
              0.8888888888888888,
              "#fdca26"
             ],
             [
              1,
              "#f0f921"
             ]
            ],
            "type": "heatmap"
           }
          ],
          "histogram": [
           {
            "marker": {
             "pattern": {
              "fillmode": "overlay",
              "size": 10,
              "solidity": 0.2
             }
            },
            "type": "histogram"
           }
          ],
          "histogram2d": [
           {
            "colorbar": {
             "outlinewidth": 0,
             "ticks": ""
            },
            "colorscale": [
             [
              0,
              "#0d0887"
             ],
             [
              0.1111111111111111,
              "#46039f"
             ],
             [
              0.2222222222222222,
              "#7201a8"
             ],
             [
              0.3333333333333333,
              "#9c179e"
             ],
             [
              0.4444444444444444,
              "#bd3786"
             ],
             [
              0.5555555555555556,
              "#d8576b"
             ],
             [
              0.6666666666666666,
              "#ed7953"
             ],
             [
              0.7777777777777778,
              "#fb9f3a"
             ],
             [
              0.8888888888888888,
              "#fdca26"
             ],
             [
              1,
              "#f0f921"
             ]
            ],
            "type": "histogram2d"
           }
          ],
          "histogram2dcontour": [
           {
            "colorbar": {
             "outlinewidth": 0,
             "ticks": ""
            },
            "colorscale": [
             [
              0,
              "#0d0887"
             ],
             [
              0.1111111111111111,
              "#46039f"
             ],
             [
              0.2222222222222222,
              "#7201a8"
             ],
             [
              0.3333333333333333,
              "#9c179e"
             ],
             [
              0.4444444444444444,
              "#bd3786"
             ],
             [
              0.5555555555555556,
              "#d8576b"
             ],
             [
              0.6666666666666666,
              "#ed7953"
             ],
             [
              0.7777777777777778,
              "#fb9f3a"
             ],
             [
              0.8888888888888888,
              "#fdca26"
             ],
             [
              1,
              "#f0f921"
             ]
            ],
            "type": "histogram2dcontour"
           }
          ],
          "mesh3d": [
           {
            "colorbar": {
             "outlinewidth": 0,
             "ticks": ""
            },
            "type": "mesh3d"
           }
          ],
          "parcoords": [
           {
            "line": {
             "colorbar": {
              "outlinewidth": 0,
              "ticks": ""
             }
            },
            "type": "parcoords"
           }
          ],
          "pie": [
           {
            "automargin": true,
            "type": "pie"
           }
          ],
          "scatter": [
           {
            "fillpattern": {
             "fillmode": "overlay",
             "size": 10,
             "solidity": 0.2
            },
            "type": "scatter"
           }
          ],
          "scatter3d": [
           {
            "line": {
             "colorbar": {
              "outlinewidth": 0,
              "ticks": ""
             }
            },
            "marker": {
             "colorbar": {
              "outlinewidth": 0,
              "ticks": ""
             }
            },
            "type": "scatter3d"
           }
          ],
          "scattercarpet": [
           {
            "marker": {
             "colorbar": {
              "outlinewidth": 0,
              "ticks": ""
             }
            },
            "type": "scattercarpet"
           }
          ],
          "scattergeo": [
           {
            "marker": {
             "colorbar": {
              "outlinewidth": 0,
              "ticks": ""
             }
            },
            "type": "scattergeo"
           }
          ],
          "scattergl": [
           {
            "marker": {
             "colorbar": {
              "outlinewidth": 0,
              "ticks": ""
             }
            },
            "type": "scattergl"
           }
          ],
          "scattermap": [
           {
            "marker": {
             "colorbar": {
              "outlinewidth": 0,
              "ticks": ""
             }
            },
            "type": "scattermap"
           }
          ],
          "scattermapbox": [
           {
            "marker": {
             "colorbar": {
              "outlinewidth": 0,
              "ticks": ""
             }
            },
            "type": "scattermapbox"
           }
          ],
          "scatterpolar": [
           {
            "marker": {
             "colorbar": {
              "outlinewidth": 0,
              "ticks": ""
             }
            },
            "type": "scatterpolar"
           }
          ],
          "scatterpolargl": [
           {
            "marker": {
             "colorbar": {
              "outlinewidth": 0,
              "ticks": ""
             }
            },
            "type": "scatterpolargl"
           }
          ],
          "scatterternary": [
           {
            "marker": {
             "colorbar": {
              "outlinewidth": 0,
              "ticks": ""
             }
            },
            "type": "scatterternary"
           }
          ],
          "surface": [
           {
            "colorbar": {
             "outlinewidth": 0,
             "ticks": ""
            },
            "colorscale": [
             [
              0,
              "#0d0887"
             ],
             [
              0.1111111111111111,
              "#46039f"
             ],
             [
              0.2222222222222222,
              "#7201a8"
             ],
             [
              0.3333333333333333,
              "#9c179e"
             ],
             [
              0.4444444444444444,
              "#bd3786"
             ],
             [
              0.5555555555555556,
              "#d8576b"
             ],
             [
              0.6666666666666666,
              "#ed7953"
             ],
             [
              0.7777777777777778,
              "#fb9f3a"
             ],
             [
              0.8888888888888888,
              "#fdca26"
             ],
             [
              1,
              "#f0f921"
             ]
            ],
            "type": "surface"
           }
          ],
          "table": [
           {
            "cells": {
             "fill": {
              "color": "#EBF0F8"
             },
             "line": {
              "color": "white"
             }
            },
            "header": {
             "fill": {
              "color": "#C8D4E3"
             },
             "line": {
              "color": "white"
             }
            },
            "type": "table"
           }
          ]
         },
         "layout": {
          "annotationdefaults": {
           "arrowcolor": "#2a3f5f",
           "arrowhead": 0,
           "arrowwidth": 1
          },
          "autotypenumbers": "strict",
          "coloraxis": {
           "colorbar": {
            "outlinewidth": 0,
            "ticks": ""
           }
          },
          "colorscale": {
           "diverging": [
            [
             0,
             "#8e0152"
            ],
            [
             0.1,
             "#c51b7d"
            ],
            [
             0.2,
             "#de77ae"
            ],
            [
             0.3,
             "#f1b6da"
            ],
            [
             0.4,
             "#fde0ef"
            ],
            [
             0.5,
             "#f7f7f7"
            ],
            [
             0.6,
             "#e6f5d0"
            ],
            [
             0.7,
             "#b8e186"
            ],
            [
             0.8,
             "#7fbc41"
            ],
            [
             0.9,
             "#4d9221"
            ],
            [
             1,
             "#276419"
            ]
           ],
           "sequential": [
            [
             0,
             "#0d0887"
            ],
            [
             0.1111111111111111,
             "#46039f"
            ],
            [
             0.2222222222222222,
             "#7201a8"
            ],
            [
             0.3333333333333333,
             "#9c179e"
            ],
            [
             0.4444444444444444,
             "#bd3786"
            ],
            [
             0.5555555555555556,
             "#d8576b"
            ],
            [
             0.6666666666666666,
             "#ed7953"
            ],
            [
             0.7777777777777778,
             "#fb9f3a"
            ],
            [
             0.8888888888888888,
             "#fdca26"
            ],
            [
             1,
             "#f0f921"
            ]
           ],
           "sequentialminus": [
            [
             0,
             "#0d0887"
            ],
            [
             0.1111111111111111,
             "#46039f"
            ],
            [
             0.2222222222222222,
             "#7201a8"
            ],
            [
             0.3333333333333333,
             "#9c179e"
            ],
            [
             0.4444444444444444,
             "#bd3786"
            ],
            [
             0.5555555555555556,
             "#d8576b"
            ],
            [
             0.6666666666666666,
             "#ed7953"
            ],
            [
             0.7777777777777778,
             "#fb9f3a"
            ],
            [
             0.8888888888888888,
             "#fdca26"
            ],
            [
             1,
             "#f0f921"
            ]
           ]
          },
          "colorway": [
           "#636efa",
           "#EF553B",
           "#00cc96",
           "#ab63fa",
           "#FFA15A",
           "#19d3f3",
           "#FF6692",
           "#B6E880",
           "#FF97FF",
           "#FECB52"
          ],
          "font": {
           "color": "#2a3f5f"
          },
          "geo": {
           "bgcolor": "white",
           "lakecolor": "white",
           "landcolor": "white",
           "showlakes": true,
           "showland": true,
           "subunitcolor": "#C8D4E3"
          },
          "hoverlabel": {
           "align": "left"
          },
          "hovermode": "closest",
          "mapbox": {
           "style": "light"
          },
          "paper_bgcolor": "white",
          "plot_bgcolor": "white",
          "polar": {
           "angularaxis": {
            "gridcolor": "#EBF0F8",
            "linecolor": "#EBF0F8",
            "ticks": ""
           },
           "bgcolor": "white",
           "radialaxis": {
            "gridcolor": "#EBF0F8",
            "linecolor": "#EBF0F8",
            "ticks": ""
           }
          },
          "scene": {
           "xaxis": {
            "backgroundcolor": "white",
            "gridcolor": "#DFE8F3",
            "gridwidth": 2,
            "linecolor": "#EBF0F8",
            "showbackground": true,
            "ticks": "",
            "zerolinecolor": "#EBF0F8"
           },
           "yaxis": {
            "backgroundcolor": "white",
            "gridcolor": "#DFE8F3",
            "gridwidth": 2,
            "linecolor": "#EBF0F8",
            "showbackground": true,
            "ticks": "",
            "zerolinecolor": "#EBF0F8"
           },
           "zaxis": {
            "backgroundcolor": "white",
            "gridcolor": "#DFE8F3",
            "gridwidth": 2,
            "linecolor": "#EBF0F8",
            "showbackground": true,
            "ticks": "",
            "zerolinecolor": "#EBF0F8"
           }
          },
          "shapedefaults": {
           "line": {
            "color": "#2a3f5f"
           }
          },
          "ternary": {
           "aaxis": {
            "gridcolor": "#DFE8F3",
            "linecolor": "#A2B1C6",
            "ticks": ""
           },
           "baxis": {
            "gridcolor": "#DFE8F3",
            "linecolor": "#A2B1C6",
            "ticks": ""
           },
           "bgcolor": "white",
           "caxis": {
            "gridcolor": "#DFE8F3",
            "linecolor": "#A2B1C6",
            "ticks": ""
           }
          },
          "title": {
           "x": 0.05
          },
          "xaxis": {
           "automargin": true,
           "gridcolor": "#EBF0F8",
           "linecolor": "#EBF0F8",
           "ticks": "",
           "title": {
            "standoff": 15
           },
           "zerolinecolor": "#EBF0F8",
           "zerolinewidth": 2
          },
          "yaxis": {
           "automargin": true,
           "gridcolor": "#EBF0F8",
           "linecolor": "#EBF0F8",
           "ticks": "",
           "title": {
            "standoff": 15
           },
           "zerolinecolor": "#EBF0F8",
           "zerolinewidth": 2
          }
         }
        },
        "title": {
         "text": "Average 2-Bedroom FMR by County"
        },
        "xaxis": {
         "title": {
          "text": "County"
         }
        },
        "yaxis": {
         "title": {
          "text": "FMR ($)"
         }
        }
       }
      }
     },
     "metadata": {},
     "output_type": "display_data"
    }
   ],
   "source": [
    "if 'ri_fmrs' in locals() and not ri_fmrs.empty:\n",
    "    # Get county data (exclude metros)\n",
    "    county_data = ri_fmrs[ri_fmrs['county_name'].notna()].copy()\n",
    "    \n",
    "    if not county_data.empty:\n",
    "        # Group by county and get average FMRs\n",
    "        county_comparison = county_data.groupby('county_name').agg({\n",
    "            'fmr_2br': ['mean', 'min', 'max', 'count']\n",
    "        }).round(0)\n",
    "        \n",
    "        county_comparison.columns = ['Avg 2BR', 'Min 2BR', 'Max 2BR', 'Areas']\n",
    "        county_comparison = county_comparison.sort_values('Avg 2BR', ascending=False)\n",
    "        \n",
    "        print(\"📊 County Comparison (2BR FMRs):\")\n",
    "        print(county_comparison)\n",
    "        \n",
    "        # Visualize\n",
    "        fig = go.Figure()\n",
    "        \n",
    "        fig.add_trace(go.Bar(\n",
    "            x=county_comparison.index,\n",
    "            y=county_comparison['Avg 2BR'],\n",
    "            text=county_comparison['Avg 2BR'].astype(int),\n",
    "            textposition='auto',\n",
    "            marker_color='steelblue',\n",
    "            name='Average 2BR FMR'\n",
    "        ))\n",
    "        \n",
    "        fig.update_layout(\n",
    "            title='Average 2-Bedroom FMR by County',\n",
    "            xaxis_title='County',\n",
    "            yaxis_title='FMR ($)',\n",
    "            height=400,\n",
    "            template='plotly_white'\n",
    "        )\n",
    "        \n",
    "        fig.show()\n",
    "    else:\n",
    "        print(\"No county data available\")\n",
    "else:\n",
    "    print(\"⚠️  No data available. Run cell 2 first to fetch FMR data.\")"
   ]
  },
  {
   "cell_type": "markdown",
   "id": "0f812c6e",
   "metadata": {},
   "source": [
    "## 9. Metro Area Deep Dive\n",
    "\n",
    "Detailed analysis of metro areas with visualizations."
   ]
  },
  {
   "cell_type": "code",
   "execution_count": 9,
   "id": "45495dc8",
   "metadata": {},
   "outputs": [
    {
     "name": "stdout",
     "output_type": "stream",
     "text": [
      "Found 3 metro areas in Rhode Island:\n",
      "\n"
     ]
    },
    {
     "data": {
      "application/vnd.plotly.v1+json": {
       "config": {
        "plotlyServerURL": "https://plot.ly"
       },
       "data": [
        {
         "name": "Newport-Middleton-Portsmouth, RI HUD Metro FMR Area",
         "text": [
          "$1495",
          "$1526",
          "$1976",
          "$2649",
          "$3271"
         ],
         "textposition": "auto",
         "type": "bar",
         "x": [
          "0BR",
          "1BR",
          "2BR",
          "3BR",
          "4BR"
         ],
         "y": [
          1495,
          1526,
          1976,
          2649,
          3271
         ]
        },
        {
         "name": "Providence-Fall River, RI-MA HUD Metro FMR Area",
         "text": [
          "$1066",
          "$1171",
          "$1409",
          "$1715",
          "$2118"
         ],
         "textposition": "auto",
         "type": "bar",
         "x": [
          "0BR",
          "1BR",
          "2BR",
          "3BR",
          "4BR"
         ],
         "y": [
          1066,
          1171,
          1409,
          1715,
          2118
         ]
        },
        {
         "name": "Westerly-Hopkinton-New Shoreham, RI HUD Metro FMR Area",
         "text": [
          "$1179",
          "$1186",
          "$1416",
          "$1855",
          "$2412"
         ],
         "textposition": "auto",
         "type": "bar",
         "x": [
          "0BR",
          "1BR",
          "2BR",
          "3BR",
          "4BR"
         ],
         "y": [
          1179,
          1186,
          1416,
          1855,
          2412
         ]
        }
       ],
       "layout": {
        "barmode": "group",
        "height": 500,
        "legend": {
         "orientation": "h",
         "x": 1,
         "xanchor": "right",
         "y": 1.02,
         "yanchor": "bottom"
        },
        "template": {
         "data": {
          "bar": [
           {
            "error_x": {
             "color": "#2a3f5f"
            },
            "error_y": {
             "color": "#2a3f5f"
            },
            "marker": {
             "line": {
              "color": "white",
              "width": 0.5
             },
             "pattern": {
              "fillmode": "overlay",
              "size": 10,
              "solidity": 0.2
             }
            },
            "type": "bar"
           }
          ],
          "barpolar": [
           {
            "marker": {
             "line": {
              "color": "white",
              "width": 0.5
             },
             "pattern": {
              "fillmode": "overlay",
              "size": 10,
              "solidity": 0.2
             }
            },
            "type": "barpolar"
           }
          ],
          "carpet": [
           {
            "aaxis": {
             "endlinecolor": "#2a3f5f",
             "gridcolor": "#C8D4E3",
             "linecolor": "#C8D4E3",
             "minorgridcolor": "#C8D4E3",
             "startlinecolor": "#2a3f5f"
            },
            "baxis": {
             "endlinecolor": "#2a3f5f",
             "gridcolor": "#C8D4E3",
             "linecolor": "#C8D4E3",
             "minorgridcolor": "#C8D4E3",
             "startlinecolor": "#2a3f5f"
            },
            "type": "carpet"
           }
          ],
          "choropleth": [
           {
            "colorbar": {
             "outlinewidth": 0,
             "ticks": ""
            },
            "type": "choropleth"
           }
          ],
          "contour": [
           {
            "colorbar": {
             "outlinewidth": 0,
             "ticks": ""
            },
            "colorscale": [
             [
              0,
              "#0d0887"
             ],
             [
              0.1111111111111111,
              "#46039f"
             ],
             [
              0.2222222222222222,
              "#7201a8"
             ],
             [
              0.3333333333333333,
              "#9c179e"
             ],
             [
              0.4444444444444444,
              "#bd3786"
             ],
             [
              0.5555555555555556,
              "#d8576b"
             ],
             [
              0.6666666666666666,
              "#ed7953"
             ],
             [
              0.7777777777777778,
              "#fb9f3a"
             ],
             [
              0.8888888888888888,
              "#fdca26"
             ],
             [
              1,
              "#f0f921"
             ]
            ],
            "type": "contour"
           }
          ],
          "contourcarpet": [
           {
            "colorbar": {
             "outlinewidth": 0,
             "ticks": ""
            },
            "type": "contourcarpet"
           }
          ],
          "heatmap": [
           {
            "colorbar": {
             "outlinewidth": 0,
             "ticks": ""
            },
            "colorscale": [
             [
              0,
              "#0d0887"
             ],
             [
              0.1111111111111111,
              "#46039f"
             ],
             [
              0.2222222222222222,
              "#7201a8"
             ],
             [
              0.3333333333333333,
              "#9c179e"
             ],
             [
              0.4444444444444444,
              "#bd3786"
             ],
             [
              0.5555555555555556,
              "#d8576b"
             ],
             [
              0.6666666666666666,
              "#ed7953"
             ],
             [
              0.7777777777777778,
              "#fb9f3a"
             ],
             [
              0.8888888888888888,
              "#fdca26"
             ],
             [
              1,
              "#f0f921"
             ]
            ],
            "type": "heatmap"
           }
          ],
          "histogram": [
           {
            "marker": {
             "pattern": {
              "fillmode": "overlay",
              "size": 10,
              "solidity": 0.2
             }
            },
            "type": "histogram"
           }
          ],
          "histogram2d": [
           {
            "colorbar": {
             "outlinewidth": 0,
             "ticks": ""
            },
            "colorscale": [
             [
              0,
              "#0d0887"
             ],
             [
              0.1111111111111111,
              "#46039f"
             ],
             [
              0.2222222222222222,
              "#7201a8"
             ],
             [
              0.3333333333333333,
              "#9c179e"
             ],
             [
              0.4444444444444444,
              "#bd3786"
             ],
             [
              0.5555555555555556,
              "#d8576b"
             ],
             [
              0.6666666666666666,
              "#ed7953"
             ],
             [
              0.7777777777777778,
              "#fb9f3a"
             ],
             [
              0.8888888888888888,
              "#fdca26"
             ],
             [
              1,
              "#f0f921"
             ]
            ],
            "type": "histogram2d"
           }
          ],
          "histogram2dcontour": [
           {
            "colorbar": {
             "outlinewidth": 0,
             "ticks": ""
            },
            "colorscale": [
             [
              0,
              "#0d0887"
             ],
             [
              0.1111111111111111,
              "#46039f"
             ],
             [
              0.2222222222222222,
              "#7201a8"
             ],
             [
              0.3333333333333333,
              "#9c179e"
             ],
             [
              0.4444444444444444,
              "#bd3786"
             ],
             [
              0.5555555555555556,
              "#d8576b"
             ],
             [
              0.6666666666666666,
              "#ed7953"
             ],
             [
              0.7777777777777778,
              "#fb9f3a"
             ],
             [
              0.8888888888888888,
              "#fdca26"
             ],
             [
              1,
              "#f0f921"
             ]
            ],
            "type": "histogram2dcontour"
           }
          ],
          "mesh3d": [
           {
            "colorbar": {
             "outlinewidth": 0,
             "ticks": ""
            },
            "type": "mesh3d"
           }
          ],
          "parcoords": [
           {
            "line": {
             "colorbar": {
              "outlinewidth": 0,
              "ticks": ""
             }
            },
            "type": "parcoords"
           }
          ],
          "pie": [
           {
            "automargin": true,
            "type": "pie"
           }
          ],
          "scatter": [
           {
            "fillpattern": {
             "fillmode": "overlay",
             "size": 10,
             "solidity": 0.2
            },
            "type": "scatter"
           }
          ],
          "scatter3d": [
           {
            "line": {
             "colorbar": {
              "outlinewidth": 0,
              "ticks": ""
             }
            },
            "marker": {
             "colorbar": {
              "outlinewidth": 0,
              "ticks": ""
             }
            },
            "type": "scatter3d"
           }
          ],
          "scattercarpet": [
           {
            "marker": {
             "colorbar": {
              "outlinewidth": 0,
              "ticks": ""
             }
            },
            "type": "scattercarpet"
           }
          ],
          "scattergeo": [
           {
            "marker": {
             "colorbar": {
              "outlinewidth": 0,
              "ticks": ""
             }
            },
            "type": "scattergeo"
           }
          ],
          "scattergl": [
           {
            "marker": {
             "colorbar": {
              "outlinewidth": 0,
              "ticks": ""
             }
            },
            "type": "scattergl"
           }
          ],
          "scattermap": [
           {
            "marker": {
             "colorbar": {
              "outlinewidth": 0,
              "ticks": ""
             }
            },
            "type": "scattermap"
           }
          ],
          "scattermapbox": [
           {
            "marker": {
             "colorbar": {
              "outlinewidth": 0,
              "ticks": ""
             }
            },
            "type": "scattermapbox"
           }
          ],
          "scatterpolar": [
           {
            "marker": {
             "colorbar": {
              "outlinewidth": 0,
              "ticks": ""
             }
            },
            "type": "scatterpolar"
           }
          ],
          "scatterpolargl": [
           {
            "marker": {
             "colorbar": {
              "outlinewidth": 0,
              "ticks": ""
             }
            },
            "type": "scatterpolargl"
           }
          ],
          "scatterternary": [
           {
            "marker": {
             "colorbar": {
              "outlinewidth": 0,
              "ticks": ""
             }
            },
            "type": "scatterternary"
           }
          ],
          "surface": [
           {
            "colorbar": {
             "outlinewidth": 0,
             "ticks": ""
            },
            "colorscale": [
             [
              0,
              "#0d0887"
             ],
             [
              0.1111111111111111,
              "#46039f"
             ],
             [
              0.2222222222222222,
              "#7201a8"
             ],
             [
              0.3333333333333333,
              "#9c179e"
             ],
             [
              0.4444444444444444,
              "#bd3786"
             ],
             [
              0.5555555555555556,
              "#d8576b"
             ],
             [
              0.6666666666666666,
              "#ed7953"
             ],
             [
              0.7777777777777778,
              "#fb9f3a"
             ],
             [
              0.8888888888888888,
              "#fdca26"
             ],
             [
              1,
              "#f0f921"
             ]
            ],
            "type": "surface"
           }
          ],
          "table": [
           {
            "cells": {
             "fill": {
              "color": "#EBF0F8"
             },
             "line": {
              "color": "white"
             }
            },
            "header": {
             "fill": {
              "color": "#C8D4E3"
             },
             "line": {
              "color": "white"
             }
            },
            "type": "table"
           }
          ]
         },
         "layout": {
          "annotationdefaults": {
           "arrowcolor": "#2a3f5f",
           "arrowhead": 0,
           "arrowwidth": 1
          },
          "autotypenumbers": "strict",
          "coloraxis": {
           "colorbar": {
            "outlinewidth": 0,
            "ticks": ""
           }
          },
          "colorscale": {
           "diverging": [
            [
             0,
             "#8e0152"
            ],
            [
             0.1,
             "#c51b7d"
            ],
            [
             0.2,
             "#de77ae"
            ],
            [
             0.3,
             "#f1b6da"
            ],
            [
             0.4,
             "#fde0ef"
            ],
            [
             0.5,
             "#f7f7f7"
            ],
            [
             0.6,
             "#e6f5d0"
            ],
            [
             0.7,
             "#b8e186"
            ],
            [
             0.8,
             "#7fbc41"
            ],
            [
             0.9,
             "#4d9221"
            ],
            [
             1,
             "#276419"
            ]
           ],
           "sequential": [
            [
             0,
             "#0d0887"
            ],
            [
             0.1111111111111111,
             "#46039f"
            ],
            [
             0.2222222222222222,
             "#7201a8"
            ],
            [
             0.3333333333333333,
             "#9c179e"
            ],
            [
             0.4444444444444444,
             "#bd3786"
            ],
            [
             0.5555555555555556,
             "#d8576b"
            ],
            [
             0.6666666666666666,
             "#ed7953"
            ],
            [
             0.7777777777777778,
             "#fb9f3a"
            ],
            [
             0.8888888888888888,
             "#fdca26"
            ],
            [
             1,
             "#f0f921"
            ]
           ],
           "sequentialminus": [
            [
             0,
             "#0d0887"
            ],
            [
             0.1111111111111111,
             "#46039f"
            ],
            [
             0.2222222222222222,
             "#7201a8"
            ],
            [
             0.3333333333333333,
             "#9c179e"
            ],
            [
             0.4444444444444444,
             "#bd3786"
            ],
            [
             0.5555555555555556,
             "#d8576b"
            ],
            [
             0.6666666666666666,
             "#ed7953"
            ],
            [
             0.7777777777777778,
             "#fb9f3a"
            ],
            [
             0.8888888888888888,
             "#fdca26"
            ],
            [
             1,
             "#f0f921"
            ]
           ]
          },
          "colorway": [
           "#636efa",
           "#EF553B",
           "#00cc96",
           "#ab63fa",
           "#FFA15A",
           "#19d3f3",
           "#FF6692",
           "#B6E880",
           "#FF97FF",
           "#FECB52"
          ],
          "font": {
           "color": "#2a3f5f"
          },
          "geo": {
           "bgcolor": "white",
           "lakecolor": "white",
           "landcolor": "white",
           "showlakes": true,
           "showland": true,
           "subunitcolor": "#C8D4E3"
          },
          "hoverlabel": {
           "align": "left"
          },
          "hovermode": "closest",
          "mapbox": {
           "style": "light"
          },
          "paper_bgcolor": "white",
          "plot_bgcolor": "white",
          "polar": {
           "angularaxis": {
            "gridcolor": "#EBF0F8",
            "linecolor": "#EBF0F8",
            "ticks": ""
           },
           "bgcolor": "white",
           "radialaxis": {
            "gridcolor": "#EBF0F8",
            "linecolor": "#EBF0F8",
            "ticks": ""
           }
          },
          "scene": {
           "xaxis": {
            "backgroundcolor": "white",
            "gridcolor": "#DFE8F3",
            "gridwidth": 2,
            "linecolor": "#EBF0F8",
            "showbackground": true,
            "ticks": "",
            "zerolinecolor": "#EBF0F8"
           },
           "yaxis": {
            "backgroundcolor": "white",
            "gridcolor": "#DFE8F3",
            "gridwidth": 2,
            "linecolor": "#EBF0F8",
            "showbackground": true,
            "ticks": "",
            "zerolinecolor": "#EBF0F8"
           },
           "zaxis": {
            "backgroundcolor": "white",
            "gridcolor": "#DFE8F3",
            "gridwidth": 2,
            "linecolor": "#EBF0F8",
            "showbackground": true,
            "ticks": "",
            "zerolinecolor": "#EBF0F8"
           }
          },
          "shapedefaults": {
           "line": {
            "color": "#2a3f5f"
           }
          },
          "ternary": {
           "aaxis": {
            "gridcolor": "#DFE8F3",
            "linecolor": "#A2B1C6",
            "ticks": ""
           },
           "baxis": {
            "gridcolor": "#DFE8F3",
            "linecolor": "#A2B1C6",
            "ticks": ""
           },
           "bgcolor": "white",
           "caxis": {
            "gridcolor": "#DFE8F3",
            "linecolor": "#A2B1C6",
            "ticks": ""
           }
          },
          "title": {
           "x": 0.05
          },
          "xaxis": {
           "automargin": true,
           "gridcolor": "#EBF0F8",
           "linecolor": "#EBF0F8",
           "ticks": "",
           "title": {
            "standoff": 15
           },
           "zerolinecolor": "#EBF0F8",
           "zerolinewidth": 2
          },
          "yaxis": {
           "automargin": true,
           "gridcolor": "#EBF0F8",
           "linecolor": "#EBF0F8",
           "ticks": "",
           "title": {
            "standoff": 15
           },
           "zerolinecolor": "#EBF0F8",
           "zerolinewidth": 2
          }
         }
        },
        "title": {
         "text": "Metro Area FMR Comparison - All Bedroom Types"
        },
        "xaxis": {
         "title": {
          "text": "Bedroom Count"
         }
        },
        "yaxis": {
         "title": {
          "text": "FMR ($)"
         }
        }
       }
      }
     },
     "metadata": {},
     "output_type": "display_data"
    },
    {
     "name": "stdout",
     "output_type": "stream",
     "text": [
      "\n",
      "📊 Metro Area Details:\n",
      "\n",
      "Newport-Middleton-Portsmouth, RI HUD Metro FMR Area:\n",
      "  0BR: $1495\n",
      "  1BR: $1526\n",
      "  2BR: $1976\n",
      "  3BR: $2649\n",
      "  4BR: $3271\n",
      "\n",
      "Providence-Fall River, RI-MA HUD Metro FMR Area:\n",
      "  0BR: $1066\n",
      "  1BR: $1171\n",
      "  2BR: $1409\n",
      "  3BR: $1715\n",
      "  4BR: $2118\n",
      "\n",
      "Westerly-Hopkinton-New Shoreham, RI HUD Metro FMR Area:\n",
      "  0BR: $1179\n",
      "  1BR: $1186\n",
      "  2BR: $1416\n",
      "  3BR: $1855\n",
      "  4BR: $2412\n"
     ]
    }
   ],
   "source": [
    "if 'ri_fmrs' in locals() and not ri_fmrs.empty:\n",
    "    # Get metro area data\n",
    "    metros = ri_fmrs[ri_fmrs['county_name'].isna()].copy()\n",
    "    \n",
    "    if not metros.empty:\n",
    "        print(f\"Found {len(metros)} metro areas in Rhode Island:\\n\")\n",
    "        \n",
    "        # Create comparison chart\n",
    "        bedroom_cols = ['fmr_0br', 'fmr_1br', 'fmr_2br', 'fmr_3br', 'fmr_4br']\n",
    "        \n",
    "        fig = go.Figure()\n",
    "        \n",
    "        for _, metro in metros.iterrows():\n",
    "            fig.add_trace(go.Bar(\n",
    "                name=metro['metro_name'],\n",
    "                x=['0BR', '1BR', '2BR', '3BR', '4BR'],\n",
    "                y=[metro[col] for col in bedroom_cols],\n",
    "                text=[f\"${metro[col]:.0f}\" for col in bedroom_cols],\n",
    "                textposition='auto'\n",
    "            ))\n",
    "        \n",
    "        fig.update_layout(\n",
    "            title='Metro Area FMR Comparison - All Bedroom Types',\n",
    "            xaxis_title='Bedroom Count',\n",
    "            yaxis_title='FMR ($)',\n",
    "            barmode='group',\n",
    "            height=500,\n",
    "            template='plotly_white',\n",
    "            legend=dict(\n",
    "                orientation=\"h\",\n",
    "                yanchor=\"bottom\",\n",
    "                y=1.02,\n",
    "                xanchor=\"right\",\n",
    "                x=1\n",
    "            )\n",
    "        )\n",
    "        \n",
    "        fig.show()\n",
    "        \n",
    "        # Print detailed stats\n",
    "        print(\"\\n📊 Metro Area Details:\")\n",
    "        for _, metro in metros.iterrows():\n",
    "            print(f\"\\n{metro['metro_name']}:\")\n",
    "            for col in bedroom_cols:\n",
    "                br_type = col.replace('fmr_', '').upper()\n",
    "                print(f\"  {br_type}: ${metro[col]:.0f}\")\n",
    "    else:\n",
    "        print(\"No metro area data available\")\n",
    "else:\n",
    "    print(\"⚠️  No data available. Run cell 2 first to fetch FMR data.\")"
   ]
  },
  {
   "cell_type": "markdown",
   "id": "3da51cde",
   "metadata": {},
   "source": [
    "## 10. Year-over-Year Analysis\n",
    "\n",
    "Calculate FMR changes between years (requires fetching multiple years)."
   ]
  },
  {
   "cell_type": "code",
   "execution_count": null,
   "id": "8b75dc63",
   "metadata": {},
   "outputs": [
    {
     "name": "stdout",
     "output_type": "stream",
     "text": [
      "{\"timestamp\": \"2025-10-20T16:51:38.024749Z\", \"level\": \"INFO\", \"name\": \"HUDFMRConnector\", \"message\": \"Returning cached FMR data\", \"source\": {\"file\": \"hud_fmr_connector.py\", \"line\": 246, \"function\": \"_api_get_state_fmrs\"}, \"levelname\": \"INFO\", \"taskName\": \"Task-35\", \"state\": \"RI\"}\n",
      "{\"timestamp\": \"2025-10-20T16:51:38.025804Z\", \"level\": \"INFO\", \"name\": \"HUDFMRConnector\", \"message\": \"Fetching FMR data via API\", \"source\": {\"file\": \"hud_fmr_connector.py\", \"line\": 249, \"function\": \"_api_get_state_fmrs\"}, \"levelname\": \"INFO\", \"taskName\": \"Task-35\", \"state\": \"RI\", \"year\": 2022}\n",
      "{\"timestamp\": \"2025-10-20T16:51:38.025804Z\", \"level\": \"INFO\", \"name\": \"HUDFMRConnector\", \"message\": \"Fetching FMR data via API\", \"source\": {\"file\": \"hud_fmr_connector.py\", \"line\": 249, \"function\": \"_api_get_state_fmrs\"}, \"levelname\": \"INFO\", \"taskName\": \"Task-35\", \"state\": \"RI\", \"year\": 2022}\n",
      "{\"timestamp\": \"2025-10-20T16:51:38.840253Z\", \"level\": \"INFO\", \"name\": \"HUDFMRConnector\", \"message\": \"FMR data retrieved\", \"source\": {\"file\": \"hud_fmr_connector.py\", \"line\": 286, \"function\": \"_api_get_state_fmrs\"}, \"levelname\": \"INFO\", \"taskName\": \"Task-35\", \"state\": \"RI\", \"rows\": 42}\n",
      "{\"timestamp\": \"2025-10-20T16:51:38.842300Z\", \"level\": \"WARNING\", \"name\": \"HUDFMRConnector\", \"message\": \"FMR column 'fmr_fmr_2br' not found\", \"source\": {\"file\": \"hud_fmr_connector.py\", \"line\": 557, \"function\": \"calculate_yoy_change\"}, \"levelname\": \"WARNING\", \"taskName\": \"Task-35\"}\n",
      "{\"timestamp\": \"2025-10-20T16:51:38.840253Z\", \"level\": \"INFO\", \"name\": \"HUDFMRConnector\", \"message\": \"FMR data retrieved\", \"source\": {\"file\": \"hud_fmr_connector.py\", \"line\": 286, \"function\": \"_api_get_state_fmrs\"}, \"levelname\": \"INFO\", \"taskName\": \"Task-35\", \"state\": \"RI\", \"rows\": 42}\n",
      "{\"timestamp\": \"2025-10-20T16:51:38.842300Z\", \"level\": \"WARNING\", \"name\": \"HUDFMRConnector\", \"message\": \"FMR column 'fmr_fmr_2br' not found\", \"source\": {\"file\": \"hud_fmr_connector.py\", \"line\": 557, \"function\": \"calculate_yoy_change\"}, \"levelname\": \"WARNING\", \"taskName\": \"Task-35\"}\n",
      "Year-over-Year FMR Changes (2BR):\n",
      "Year-over-Year FMR Changes (2BR):\n"
     ]
    },
    {
     "ename": "KeyError",
     "evalue": "\"None of [Index(['countyname', 'fmr_2br_current', 'fmr_2br_previous', 'yoy_change',\\n       'yoy_change_pct'],\\n      dtype='object')] are in the [columns]\"",
     "output_type": "error",
     "traceback": [
      "\u001b[31m---------------------------------------------------------------------------\u001b[39m",
      "\u001b[31mKeyError\u001b[39m                                  Traceback (most recent call last)",
      "\u001b[36mCell\u001b[39m\u001b[36m \u001b[39m\u001b[32mIn[10]\u001b[39m\u001b[32m, line 9\u001b[39m\n\u001b[32m      6\u001b[39m yoy_change = hud.calculate_yoy_change(fmr_2023, fmr_2022, \u001b[33m'\u001b[39m\u001b[33mfmr_2br\u001b[39m\u001b[33m'\u001b[39m)\n\u001b[32m      8\u001b[39m \u001b[38;5;28mprint\u001b[39m(\u001b[33m\"\u001b[39m\u001b[33mYear-over-Year FMR Changes (2BR):\u001b[39m\u001b[33m\"\u001b[39m)\n\u001b[32m----> \u001b[39m\u001b[32m9\u001b[39m \u001b[38;5;28mprint\u001b[39m(\u001b[43myoy_change\u001b[49m\u001b[43m[\u001b[49m\u001b[43m[\u001b[49m\u001b[33;43m'\u001b[39;49m\u001b[33;43mcountyname\u001b[39;49m\u001b[33;43m'\u001b[39;49m\u001b[43m,\u001b[49m\u001b[43m \u001b[49m\u001b[33;43m'\u001b[39;49m\u001b[33;43mfmr_2br_current\u001b[39;49m\u001b[33;43m'\u001b[39;49m\u001b[43m,\u001b[49m\u001b[43m \u001b[49m\u001b[33;43m'\u001b[39;49m\u001b[33;43mfmr_2br_previous\u001b[39;49m\u001b[33;43m'\u001b[39;49m\u001b[43m,\u001b[49m\u001b[43m \u001b[49m\n\u001b[32m     10\u001b[39m \u001b[43m                   \u001b[49m\u001b[33;43m'\u001b[39;49m\u001b[33;43myoy_change\u001b[39;49m\u001b[33;43m'\u001b[39;49m\u001b[43m,\u001b[49m\u001b[43m \u001b[49m\u001b[33;43m'\u001b[39;49m\u001b[33;43myoy_change_pct\u001b[39;49m\u001b[33;43m'\u001b[39;49m\u001b[43m]\u001b[49m\u001b[43m]\u001b[49m.round(\u001b[32m2\u001b[39m))\n",
      "\u001b[36mFile \u001b[39m\u001b[32m~/KR-Labs/.venv/lib/python3.13/site-packages/pandas/core/frame.py:4119\u001b[39m, in \u001b[36mDataFrame.__getitem__\u001b[39m\u001b[34m(self, key)\u001b[39m\n\u001b[32m   4117\u001b[39m     \u001b[38;5;28;01mif\u001b[39;00m is_iterator(key):\n\u001b[32m   4118\u001b[39m         key = \u001b[38;5;28mlist\u001b[39m(key)\n\u001b[32m-> \u001b[39m\u001b[32m4119\u001b[39m     indexer = \u001b[38;5;28;43mself\u001b[39;49m\u001b[43m.\u001b[49m\u001b[43mcolumns\u001b[49m\u001b[43m.\u001b[49m\u001b[43m_get_indexer_strict\u001b[49m\u001b[43m(\u001b[49m\u001b[43mkey\u001b[49m\u001b[43m,\u001b[49m\u001b[43m \u001b[49m\u001b[33;43m\"\u001b[39;49m\u001b[33;43mcolumns\u001b[39;49m\u001b[33;43m\"\u001b[39;49m\u001b[43m)\u001b[49m[\u001b[32m1\u001b[39m]\n\u001b[32m   4121\u001b[39m \u001b[38;5;66;03m# take() does not accept boolean indexers\u001b[39;00m\n\u001b[32m   4122\u001b[39m \u001b[38;5;28;01mif\u001b[39;00m \u001b[38;5;28mgetattr\u001b[39m(indexer, \u001b[33m\"\u001b[39m\u001b[33mdtype\u001b[39m\u001b[33m\"\u001b[39m, \u001b[38;5;28;01mNone\u001b[39;00m) == \u001b[38;5;28mbool\u001b[39m:\n",
      "\u001b[36mFile \u001b[39m\u001b[32m~/KR-Labs/.venv/lib/python3.13/site-packages/pandas/core/indexes/base.py:6212\u001b[39m, in \u001b[36mIndex._get_indexer_strict\u001b[39m\u001b[34m(self, key, axis_name)\u001b[39m\n\u001b[32m   6209\u001b[39m \u001b[38;5;28;01melse\u001b[39;00m:\n\u001b[32m   6210\u001b[39m     keyarr, indexer, new_indexer = \u001b[38;5;28mself\u001b[39m._reindex_non_unique(keyarr)\n\u001b[32m-> \u001b[39m\u001b[32m6212\u001b[39m \u001b[38;5;28;43mself\u001b[39;49m\u001b[43m.\u001b[49m\u001b[43m_raise_if_missing\u001b[49m\u001b[43m(\u001b[49m\u001b[43mkeyarr\u001b[49m\u001b[43m,\u001b[49m\u001b[43m \u001b[49m\u001b[43mindexer\u001b[49m\u001b[43m,\u001b[49m\u001b[43m \u001b[49m\u001b[43maxis_name\u001b[49m\u001b[43m)\u001b[49m\n\u001b[32m   6214\u001b[39m keyarr = \u001b[38;5;28mself\u001b[39m.take(indexer)\n\u001b[32m   6215\u001b[39m \u001b[38;5;28;01mif\u001b[39;00m \u001b[38;5;28misinstance\u001b[39m(key, Index):\n\u001b[32m   6216\u001b[39m     \u001b[38;5;66;03m# GH 42790 - Preserve name from an Index\u001b[39;00m\n",
      "\u001b[36mFile \u001b[39m\u001b[32m~/KR-Labs/.venv/lib/python3.13/site-packages/pandas/core/indexes/base.py:6261\u001b[39m, in \u001b[36mIndex._raise_if_missing\u001b[39m\u001b[34m(self, key, indexer, axis_name)\u001b[39m\n\u001b[32m   6259\u001b[39m \u001b[38;5;28;01mif\u001b[39;00m nmissing:\n\u001b[32m   6260\u001b[39m     \u001b[38;5;28;01mif\u001b[39;00m nmissing == \u001b[38;5;28mlen\u001b[39m(indexer):\n\u001b[32m-> \u001b[39m\u001b[32m6261\u001b[39m         \u001b[38;5;28;01mraise\u001b[39;00m \u001b[38;5;167;01mKeyError\u001b[39;00m(\u001b[33mf\u001b[39m\u001b[33m\"\u001b[39m\u001b[33mNone of [\u001b[39m\u001b[38;5;132;01m{\u001b[39;00mkey\u001b[38;5;132;01m}\u001b[39;00m\u001b[33m] are in the [\u001b[39m\u001b[38;5;132;01m{\u001b[39;00maxis_name\u001b[38;5;132;01m}\u001b[39;00m\u001b[33m]\u001b[39m\u001b[33m\"\u001b[39m)\n\u001b[32m   6263\u001b[39m     not_found = \u001b[38;5;28mlist\u001b[39m(ensure_index(key)[missing_mask.nonzero()[\u001b[32m0\u001b[39m]].unique())\n\u001b[32m   6264\u001b[39m     \u001b[38;5;28;01mraise\u001b[39;00m \u001b[38;5;167;01mKeyError\u001b[39;00m(\u001b[33mf\u001b[39m\u001b[33m\"\u001b[39m\u001b[38;5;132;01m{\u001b[39;00mnot_found\u001b[38;5;132;01m}\u001b[39;00m\u001b[33m not in index\u001b[39m\u001b[33m\"\u001b[39m)\n",
      "\u001b[31mKeyError\u001b[39m: \"None of [Index(['countyname', 'fmr_2br_current', 'fmr_2br_previous', 'yoy_change',\\n       'yoy_change_pct'],\\n      dtype='object')] are in the [columns]\""
     ]
    }
   ],
   "source": [
    "if 'hud' in locals() and hud.api_key:\n",
    "    try:\n",
    "        # Get FMRs for two consecutive years\n",
    "        print(\"Fetching FMR data for 2023 and 2022...\")\n",
    "        fmr_2023 = hud.get_state_fmrs('RI', year=2023)\n",
    "        fmr_2022 = hud.get_state_fmrs('RI', year=2022)\n",
    "        \n",
    "        # Calculate year-over-year change for 2BR\n",
    "        yoy_change = hud.calculate_yoy_change(\n",
    "            current_year_data=fmr_2023,\n",
    "            previous_year_data=fmr_2022,\n",
    "            bedrooms=2\n",
    "        )\n",
    "        \n",
    "        if not yoy_change.empty:\n",
    "            print(\"\\nYear-over-Year FMR Changes (2BR):\")\n",
    "            # Display relevant columns\n",
    "            display_cols = ['county_name', 'metro_name', 'fmr_2_current', 'fmr_2_previous', \n",
    "                          'fmr_change', 'fmr_change_pct']\n",
    "            # Filter to only columns that exist\n",
    "            available_cols = [col for col in display_cols if col in yoy_change.columns]\n",
    "            \n",
    "            result = yoy_change[available_cols].round(2)\n",
    "            print(result.head(10))\n",
    "            \n",
    "            # Summary statistics\n",
    "            print(f\"\\n📊 YoY Change Summary:\")\n",
    "            print(f\"  Average change: ${yoy_change['fmr_change'].mean():.2f}\")\n",
    "            print(f\"  Average % change: {yoy_change['fmr_change_pct'].mean():.2f}%\")\n",
    "            print(f\"  Max increase: ${yoy_change['fmr_change'].max():.2f}\")\n",
    "            print(f\"  Max decrease: ${yoy_change['fmr_change'].min():.2f}\")\n",
    "        else:\n",
    "            print(\"No year-over-year data available\")\n",
    "    except Exception as e:\n",
    "        print(f\"Error calculating YoY changes: {e}\")\n",
    "        print(\"This requires API access for multiple years\")\n",
    "else:\n",
    "    print(\"⚠️  API key required for year-over-year analysis\")\n",
    "    print(\"   This feature requires fetching data from multiple years\")"
   ]
  },
  {
   "cell_type": "markdown",
   "id": "279d90f9",
   "metadata": {},
   "source": [
    "## 11. Affordability Across Income Levels\n",
    "\n",
    "Test multiple income scenarios."
   ]
  },
  {
   "cell_type": "code",
   "execution_count": null,
   "id": "5918a401",
   "metadata": {},
   "outputs": [],
   "source": [
    "# Test multiple income levels\n",
    "income_levels = [30000, 40000, 50000, 60000, 75000]\n",
    "fmr_value = 1200  # 2BR FMR\n",
    "bedrooms = 2\n",
    "\n",
    "print(f\"Affordability Analysis ({bedrooms}BR FMR: ${fmr_value}):\\n\")\n",
    "for income in income_levels:\n",
    "    result = hud.calculate_affordability(\n",
    "        income=income,\n",
    "        bedrooms=bedrooms,\n",
    "        fmr_value=fmr_value\n",
    "    )\n",
    "    status = \"✓ Affordable\" if result['is_affordable'] else \"✗ Not Affordable\"\n",
    "    print(f\"${income:,}: {status} (Max: ${result['max_affordable_rent']:.0f})\")"
   ]
  },
  {
   "cell_type": "markdown",
   "id": "a90dc442",
   "metadata": {},
   "source": [
    "## 12. Export Results\n",
    "\n",
    "Save FMR data for further analysis."
   ]
  },
  {
   "cell_type": "code",
   "execution_count": null,
   "id": "56a26bb5",
   "metadata": {},
   "outputs": [],
   "source": [
    "# Export state FMRs\n",
    "hud.export_to_csv(ri_fmrs, 'ri_fmrs_2023.csv')\n",
    "\n",
    "# Export comparison\n",
    "if not comparison.empty:\n",
    "    hud.export_to_csv(comparison, 'ri_county_comparison.csv')\n",
    "\n",
    "print(\"✓ Data exported successfully\")"
   ]
  },
  {
   "cell_type": "markdown",
   "id": "448ee84e",
   "metadata": {},
   "source": [
    "## Next Steps\n",
    "\n",
    "**Explore More:**\n",
    "- Filter by metro area: `get_metro_fmrs()`\n",
    "- Get income limits: `get_income_limits()`\n",
    "- Compare across states\n",
    "- Analyze Small Area FMRs (ZIP level)\n",
    "\n",
    "**Resources:**\n",
    "- [HUD USER API Documentation](https://www.huduser.gov/portal/dataset/fmr-api.html)\n",
    "- [FMR Documentation](https://www.huduser.gov/portal/datasets/fmr.html)\n",
    "- [Income Limits](https://www.huduser.gov/portal/datasets/il.html)\n",
    "\n",
    "**Use Cases:**\n",
    "- Housing voucher program analysis\n",
    "- Affordable housing site selection\n",
    "- Regional cost-of-living comparisons\n",
    "- Policy impact assessment"
   ]
  }
 ],
 "metadata": {
  "kernelspec": {
   "display_name": ".venv",
   "language": "python",
   "name": "python3"
  },
  "language_info": {
   "codemirror_mode": {
    "name": "ipython",
    "version": 3
   },
   "file_extension": ".py",
   "mimetype": "text/x-python",
   "name": "python",
   "nbconvert_exporter": "python",
   "pygments_lexer": "ipython3",
   "version": "3.13.7"
  }
 },
 "nbformat": 4,
 "nbformat_minor": 5
}
