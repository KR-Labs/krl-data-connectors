{
 "cells": [
  {
   "cell_type": "markdown",
   "id": "0fefda93",
   "metadata": {},
   "source": [
    "# NCES Education Data - Quick Start Guide\n",
    "\n",
    "This notebook demonstrates how to use the **NCESConnector** to access National Center for Education Statistics data.\n",
    "\n",
    "**Data Systems:**\n",
    "- **CCD:** Common Core of Data (public K-12 schools)\n",
    "- **PSS:** Private School Universe Survey\n",
    "- **IPEDS:** Integrated Postsecondary Education Data (colleges)\n",
    "\n",
    "**Data Categories:**\n",
    "- School directory & enrollment\n",
    "- Demographics (race/ethnicity, gender)\n",
    "- Performance (test scores, graduation rates)\n",
    "- Finances (revenues, expenditures, per-pupil spending)\n",
    "\n",
    "**API Provider:** Urban Institute Education Data Portal (no key required)\n",
    "\n",
    "---\n",
    "\n",
    "*© 2025 KR-Labs. Licensed under Apache-2.0.*"
   ]
  },
  {
   "cell_type": "markdown",
   "id": "c281cc2f",
   "metadata": {},
   "source": [
    "## 1. Setup and Import"
   ]
  },
  {
   "cell_type": "code",
   "execution_count": 1,
   "id": "96aff807",
   "metadata": {},
   "outputs": [
    {
     "ename": "TypeError",
     "evalue": "Can't instantiate abstract class NCESConnector without an implementation for abstract methods 'connect', 'fetch'",
     "output_type": "error",
     "traceback": [
      "\u001b[31m---------------------------------------------------------------------------\u001b[39m",
      "\u001b[31mTypeError\u001b[39m                                 Traceback (most recent call last)",
      "\u001b[36mCell\u001b[39m\u001b[36m \u001b[39m\u001b[32mIn[1]\u001b[39m\u001b[32m, line 5\u001b[39m\n\u001b[32m      2\u001b[39m \u001b[38;5;28;01mimport\u001b[39;00m\u001b[38;5;250m \u001b[39m\u001b[34;01mpandas\u001b[39;00m\u001b[38;5;250m \u001b[39m\u001b[38;5;28;01mas\u001b[39;00m\u001b[38;5;250m \u001b[39m\u001b[34;01mpd\u001b[39;00m\n\u001b[32m      4\u001b[39m \u001b[38;5;66;03m# Initialize connector\u001b[39;00m\n\u001b[32m----> \u001b[39m\u001b[32m5\u001b[39m nces = \u001b[43mNCESConnector\u001b[49m\u001b[43m(\u001b[49m\u001b[43m)\u001b[49m\n\u001b[32m      7\u001b[39m \u001b[38;5;28mprint\u001b[39m(\u001b[33m\"\u001b[39m\u001b[33m✓ NCES connector initialized\u001b[39m\u001b[33m\"\u001b[39m)\n\u001b[32m      8\u001b[39m \u001b[38;5;28mprint\u001b[39m(\u001b[33mf\u001b[39m\u001b[33m\"\u001b[39m\u001b[33mAPI Base URL: \u001b[39m\u001b[38;5;132;01m{\u001b[39;00mnces.base_url\u001b[38;5;132;01m}\u001b[39;00m\u001b[33m\"\u001b[39m)\n",
      "\u001b[31mTypeError\u001b[39m: Can't instantiate abstract class NCESConnector without an implementation for abstract methods 'connect', 'fetch'"
     ]
    }
   ],
   "source": [
    "from krl_data_connectors.education import NCESConnector\n",
    "import pandas as pd\n",
    "\n",
    "# Initialize connector\n",
    "nces = NCESConnector()\n",
    "\n",
    "print(\"✓ NCES connector initialized\")\n",
    "print(f\"API Base URL: {nces.base_url}\")"
   ]
  },
  {
   "cell_type": "markdown",
   "id": "3ed521cb",
   "metadata": {},
   "source": [
    "## 2. Get State Schools\n",
    "\n",
    "Retrieve school directory for a state."
   ]
  },
  {
   "cell_type": "code",
   "execution_count": null,
   "id": "92e5dc0b",
   "metadata": {},
   "outputs": [],
   "source": [
    "# Get Rhode Island schools for 2023\n",
    "ri_schools = nces.get_state_schools('RI', year=2023)\n",
    "\n",
    "print(f\"Retrieved {len(ri_schools)} schools\")\n",
    "if not ri_schools.empty:\n",
    "    print(\"\\nColumns:\", ri_schools.columns.tolist()[:10])\n",
    "    ri_schools.head()"
   ]
  },
  {
   "cell_type": "markdown",
   "id": "45949acb",
   "metadata": {},
   "source": [
    "## 3. Load School Data from File\n",
    "\n",
    "Alternative: Load downloaded NCES data from CSV."
   ]
  },
  {
   "cell_type": "code",
   "execution_count": null,
   "id": "0800a10c",
   "metadata": {},
   "outputs": [],
   "source": [
    "# If you have downloaded CCD files\n",
    "# Download from: https://nces.ed.gov/ccd/files.asp\n",
    "\n",
    "# school_file = \"path/to/ccd_schools_2023.csv\"\n",
    "# schools = nces.load_school_data(school_file)\n",
    "# print(f\"Loaded {len(schools)} schools\")"
   ]
  },
  {
   "cell_type": "markdown",
   "id": "82a1d3e4",
   "metadata": {},
   "source": [
    "## 4. Get Enrollment Data\n",
    "\n",
    "Retrieve enrollment statistics."
   ]
  },
  {
   "cell_type": "code",
   "execution_count": null,
   "id": "1771d0b5",
   "metadata": {},
   "outputs": [],
   "source": [
    "# Get enrollment data for Rhode Island\n",
    "enrollment = nces.get_enrollment_data('RI', year=2023)\n",
    "\n",
    "if not enrollment.empty:\n",
    "    print(f\"Retrieved enrollment for {len(enrollment)} schools/districts\")\n",
    "    print(\"\\nSample enrollment data:\")\n",
    "    enrollment.head()\n",
    "else:\n",
    "    print(\"No enrollment data available (API may require authentication)\")"
   ]
  },
  {
   "cell_type": "markdown",
   "id": "b1317314",
   "metadata": {},
   "source": [
    "## 5. Extract Demographics\n",
    "\n",
    "Analyze student demographics from school data."
   ]
  },
  {
   "cell_type": "code",
   "execution_count": null,
   "id": "e946e88c",
   "metadata": {},
   "outputs": [],
   "source": [
    "# Extract demographic information\n",
    "if not ri_schools.empty:\n",
    "    demographics = nces.get_demographics(ri_schools)\n",
    "    \n",
    "    if not demographics.empty:\n",
    "        print(\"Demographic Categories:\")\n",
    "        print(demographics.columns.tolist())\n",
    "        print(\"\\nSample demographics:\")\n",
    "        demographics.head()\n",
    "    else:\n",
    "        print(\"No demographic columns found in school data\")\n",
    "else:\n",
    "    print(\"Load school data first to extract demographics\")"
   ]
  },
  {
   "cell_type": "markdown",
   "id": "1d6bae23",
   "metadata": {},
   "source": [
    "## 6. Get Graduation Rates\n",
    "\n",
    "Retrieve graduation rate statistics."
   ]
  },
  {
   "cell_type": "code",
   "execution_count": null,
   "id": "2bc13947",
   "metadata": {},
   "outputs": [],
   "source": [
    "# Get graduation rates\n",
    "grad_rates = nces.get_graduation_rates('RI', year=2023)\n",
    "\n",
    "if not grad_rates.empty:\n",
    "    print(f\"Retrieved graduation data: {len(grad_rates)} records\")\n",
    "    print(\"\\nGraduation rates:\")\n",
    "    grad_rates.head()\n",
    "else:\n",
    "    print(\"No graduation rate data available\")"
   ]
  },
  {
   "cell_type": "markdown",
   "id": "82b54b9b",
   "metadata": {},
   "source": [
    "## 7. Get District Finances\n",
    "\n",
    "Analyze school district financial data."
   ]
  },
  {
   "cell_type": "code",
   "execution_count": null,
   "id": "e5de63c8",
   "metadata": {},
   "outputs": [],
   "source": [
    "# Get district finance data\n",
    "finances = nces.get_district_finance('RI', year=2023)\n",
    "\n",
    "if not finances.empty:\n",
    "    print(f\"Retrieved finance data for {len(finances)} districts\")\n",
    "    print(\"\\nFinancial data columns:\")\n",
    "    print(finances.columns.tolist())\n",
    "    print(\"\\nSample finance data:\")\n",
    "    finances.head()\n",
    "else:\n",
    "    print(\"No finance data available\")"
   ]
  },
  {
   "cell_type": "markdown",
   "id": "4def2f50",
   "metadata": {},
   "source": [
    "## 8. Calculate Per-Pupil Spending\n",
    "\n",
    "Compute spending per student by district."
   ]
  },
  {
   "cell_type": "code",
   "execution_count": null,
   "id": "99644993",
   "metadata": {},
   "outputs": [],
   "source": [
    "# Calculate per-pupil spending\n",
    "if not finances.empty and not enrollment.empty:\n",
    "    per_pupil = nces.calculate_per_pupil_spending(finances, enrollment)\n",
    "    \n",
    "    if not per_pupil.empty and 'per_pupil_spending' in per_pupil.columns:\n",
    "        print(\"Per-Pupil Spending by District:\")\n",
    "        print(per_pupil[['leaid', 'total_expenditures', 'enrollment', \n",
    "                         'per_pupil_spending']].head())\n",
    "        \n",
    "        print(f\"\\nAverage per-pupil spending: ${per_pupil['per_pupil_spending'].mean():.2f}\")\n",
    "    else:\n",
    "        print(\"Unable to calculate per-pupil spending (missing columns)\")\n",
    "else:\n",
    "    print(\"Example per-pupil calculation:\")\n",
    "    print(\"Total expenditures: $50,000,000\")\n",
    "    print(\"Total enrollment: 10,000\")\n",
    "    print(f\"Per-pupil spending: ${50000000/10000:.2f}\")"
   ]
  },
  {
   "cell_type": "markdown",
   "id": "0de081c7",
   "metadata": {},
   "source": [
    "## 9. Compare Districts\n",
    "\n",
    "Compare metrics across districts."
   ]
  },
  {
   "cell_type": "code",
   "execution_count": null,
   "id": "85417026",
   "metadata": {},
   "outputs": [],
   "source": [
    "# Compare districts by enrollment\n",
    "district_enrollment = nces.compare_districts('RI', 2023, metric='enrollment')\n",
    "\n",
    "if not district_enrollment.empty:\n",
    "    print(\"District Comparison (Enrollment):\")\n",
    "    if 'enrollment' in district_enrollment.columns:\n",
    "        top_districts = district_enrollment.nlargest(5, 'enrollment')\n",
    "        print(top_districts[['leaid', 'enrollment']])\n",
    "    else:\n",
    "        print(district_enrollment.head())\n",
    "else:\n",
    "    print(\"No district data available for comparison\")"
   ]
  },
  {
   "cell_type": "markdown",
   "id": "5958c109",
   "metadata": {},
   "source": [
    "## 10. Extract Performance Metrics\n",
    "\n",
    "Analyze school performance data."
   ]
  },
  {
   "cell_type": "code",
   "execution_count": null,
   "id": "64ad3c6f",
   "metadata": {},
   "outputs": [],
   "source": [
    "# Get school performance metrics\n",
    "if not ri_schools.empty:\n",
    "    performance = nces.get_school_performance(ri_schools)\n",
    "    \n",
    "    if not performance.empty:\n",
    "        print(\"Performance Metrics:\")\n",
    "        print(performance.columns.tolist())\n",
    "        print(\"\\nSample performance data:\")\n",
    "        performance.head()\n",
    "    else:\n",
    "        print(\"No performance metrics found in school data\")\n",
    "        print(\"\\nPerformance columns typically include:\")\n",
    "        print(\"  - Test scores (math, reading, science)\")\n",
    "        print(\"  - Proficiency rates\")\n",
    "        print(\"  - Graduation rates\")\n",
    "        print(\"  - College readiness indicators\")"
   ]
  },
  {
   "cell_type": "markdown",
   "id": "dc797a9a",
   "metadata": {},
   "source": [
    "## 11. School Type Analysis\n",
    "\n",
    "Examine different school types."
   ]
  },
  {
   "cell_type": "code",
   "execution_count": null,
   "id": "fcf1e26a",
   "metadata": {},
   "outputs": [],
   "source": [
    "# Show school type definitions\n",
    "print(\"School Type Classifications:\")\n",
    "for code, description in nces.school_types.items():\n",
    "    print(f\"  {code}: {description}\")\n",
    "\n",
    "# If school data has type codes\n",
    "if not ri_schools.empty and 'school_type' in ri_schools.columns:\n",
    "    print(\"\\nSchool Type Distribution:\")\n",
    "    print(ri_schools['school_type'].value_counts())"
   ]
  },
  {
   "cell_type": "markdown",
   "id": "27f29ebf",
   "metadata": {},
   "source": [
    "## 12. Export Results\n",
    "\n",
    "Save education data for further analysis."
   ]
  },
  {
   "cell_type": "code",
   "execution_count": null,
   "id": "f3ac43d0",
   "metadata": {},
   "outputs": [],
   "source": [
    "# Export school directory\n",
    "if not ri_schools.empty:\n",
    "    nces.export_to_csv(ri_schools, 'ri_schools_2023.csv')\n",
    "    print(\"✓ School directory exported\")\n",
    "\n",
    "# Export demographics\n",
    "if not ri_schools.empty:\n",
    "    demographics = nces.get_demographics(ri_schools)\n",
    "    if not demographics.empty:\n",
    "        nces.export_to_csv(demographics, 'ri_school_demographics.csv')\n",
    "        print(\"✓ Demographics exported\")\n",
    "\n",
    "# Export per-pupil spending\n",
    "if not finances.empty and not enrollment.empty:\n",
    "    per_pupil = nces.calculate_per_pupil_spending(finances, enrollment)\n",
    "    if not per_pupil.empty:\n",
    "        nces.export_to_csv(per_pupil, 'ri_per_pupil_spending.csv')\n",
    "        print(\"✓ Per-pupil spending exported\")"
   ]
  },
  {
   "cell_type": "markdown",
   "id": "16b66181",
   "metadata": {},
   "source": [
    "## Next Steps\n",
    "\n",
    "**Explore More:**\n",
    "- Private school data (PSS)\n",
    "- College/university data (IPEDS)\n",
    "- National Assessment of Educational Progress (NAEP) scores\n",
    "- Teacher demographics and qualifications\n",
    "- Special education programs\n",
    "- Chronic absenteeism rates\n",
    "\n",
    "**Resources:**\n",
    "- [NCES Data Tools](https://nces.ed.gov/datatools/)\n",
    "- [Urban Institute Education Data Portal](https://educationdata.urban.org/)\n",
    "- [CCD Documentation](https://nces.ed.gov/ccd/)\n",
    "- [IPEDS Documentation](https://nces.ed.gov/ipeds/)\n",
    "\n",
    "**Analysis Ideas:**\n",
    "- Achievement gap analysis by demographics\n",
    "- Resource equity across districts\n",
    "- School choice and charter school impact\n",
    "- College readiness trends\n",
    "- Teacher retention patterns\n",
    "- School funding adequacy studies"
   ]
  }
 ],
 "metadata": {
  "kernelspec": {
   "display_name": ".venv",
   "language": "python",
   "name": "python3"
  },
  "language_info": {
   "codemirror_mode": {
    "name": "ipython",
    "version": 3
   },
   "file_extension": ".py",
   "mimetype": "text/x-python",
   "name": "python",
   "nbconvert_exporter": "python",
   "pygments_lexer": "ipython3",
   "version": "3.13.7"
  }
 },
 "nbformat": 4,
 "nbformat_minor": 5
}
