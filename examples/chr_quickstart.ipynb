{
 "cells": [
  {
   "cell_type": "markdown",
   "id": "1f4d63ec",
   "metadata": {},
   "source": [
    "# County Health Rankings & Roadmaps Connector - Quickstart Guide\n",
    "\n",
    "This notebook demonstrates how to use the **CountyHealthRankingsConnector** to analyze county-level health outcomes, health factors, and rankings data from the County Health Rankings & Roadmaps program.\n",
    "\n",
    "**Data Source:** County Health Rankings & Roadmaps (https://www.countyhealthrankings.org/)\n",
    "\n",
    "**Rankings Methodology:**\n",
    "- Health Outcomes (50%): Length of Life + Quality of Life\n",
    "- Health Factors (50%): Health Behaviors + Clinical Care + Social/Economic + Physical Environment\n",
    "\n",
    "© 2025 KR-Labs. All rights reserved."
   ]
  },
  {
   "cell_type": "markdown",
   "id": "a26e1a5d",
   "metadata": {},
   "source": [
    "## 1. Setup and Installation\n",
    "\n",
    "First, ensure the KRL Data Connectors package is installed."
   ]
  },
  {
   "cell_type": "code",
   "execution_count": null,
   "id": "050c3088",
   "metadata": {},
   "outputs": [],
   "source": [
    "# Install the package (uncomment if needed)\n",
    "# !pip install krl-data-connectors\n",
    "\n",
    "import pandas as pd\n",
    "import matplotlib.pyplot as plt\n",
    "import seaborn as sns\n",
    "import numpy as np\n",
    "from pathlib import Path\n",
    "\n",
    "from krl_data_connectors.health import CountyHealthRankingsConnector\n",
    "\n",
    "# Configure plotting\n",
    "sns.set_style('whitegrid')\n",
    "plt.rcParams['figure.figsize'] = (14, 6)\n",
    "\n",
    "print(\"✅ Imports successful!\")"
   ]
  },
  {
   "cell_type": "markdown",
   "id": "5782fd97",
   "metadata": {},
   "source": [
    "## 2. Initialize Connector\n",
    "\n",
    "The County Health Rankings connector works with annual CSV releases from the CHR&R program."
   ]
  },
  {
   "cell_type": "code",
   "execution_count": null,
   "id": "42c2afd3",
   "metadata": {},
   "outputs": [],
   "source": [
    "# Initialize the connector\n",
    "connector = CountyHealthRankingsConnector()\n",
    "\n",
    "print(\"County Health Rankings Connector initialized!\")\n",
    "print(f\"\\nRanking categories: {len(connector.RANKING_COLUMNS)} total\")\n",
    "print(f\"Health outcome measures: {len(connector.HEALTH_OUTCOME_MEASURES)}\")\n",
    "print(f\"Health factor measures: {len(connector.HEALTH_FACTOR_MEASURES)}\")"
   ]
  },
  {
   "cell_type": "markdown",
   "id": "6b47ce3b",
   "metadata": {},
   "source": [
    "## 3. Create Sample Data\n",
    "\n",
    "**Note:** Download actual data from https://www.countyhealthrankings.org/health-data\n",
    "\n",
    "For this example, we'll create sample data to demonstrate functionality."
   ]
  },
  {
   "cell_type": "code",
   "execution_count": null,
   "id": "94c7d019",
   "metadata": {},
   "outputs": [],
   "source": [
    "# Create sample County Health Rankings data\n",
    "np.random.seed(42)\n",
    "\n",
    "states = ['California', 'Texas', 'New York', 'Florida', 'Illinois']\n",
    "counties_per_state = 6\n",
    "\n",
    "data_list = []\n",
    "for state in states:\n",
    "    for i in range(1, counties_per_state + 1):\n",
    "        data_list.append({\n",
    "            'state': state,\n",
    "            'county': f'{state[:3]} County {i}',\n",
    "            'health_outcomes_rank': i,\n",
    "            'health_factors_rank': np.random.randint(1, counties_per_state + 1),\n",
    "            'length_of_life_rank': np.random.randint(1, counties_per_state + 1),\n",
    "            'quality_of_life_rank': np.random.randint(1, counties_per_state + 1),\n",
    "            'health_behaviors_rank': np.random.randint(1, counties_per_state + 1),\n",
    "            'clinical_care_rank': np.random.randint(1, counties_per_state + 1),\n",
    "            'social_economic_factors_rank': np.random.randint(1, counties_per_state + 1),\n",
    "            'physical_environment_rank': np.random.randint(1, counties_per_state + 1),\n",
    "            'premature_death': 5000 + i * 500 + np.random.randint(-200, 200),\n",
    "            'poor_or_fair_health': 0.10 + i * 0.02 + np.random.uniform(-0.01, 0.01),\n",
    "            'adult_smoking': 0.12 + i * 0.015 + np.random.uniform(-0.01, 0.01),\n",
    "            'adult_obesity': 0.25 + i * 0.02 + np.random.uniform(-0.02, 0.02),\n",
    "            'uninsured': 0.08 + i * 0.01 + np.random.uniform(-0.005, 0.005),\n",
    "            'primary_care_physicians': 1500 - i * 100 + np.random.randint(-50, 50),\n",
    "            'unemployment': 0.04 + i * 0.005 + np.random.uniform(-0.002, 0.002),\n",
    "            'children_in_poverty': 0.15 + i * 0.02 + np.random.uniform(-0.01, 0.01),\n",
    "            'high_school_graduation': 0.90 - i * 0.02 + np.random.uniform(-0.01, 0.01),\n",
    "            'air_pollution_particulate_matter': 8.0 + i * 0.5 + np.random.uniform(-0.5, 0.5)\n",
    "        })\n",
    "\n",
    "sample_chr = pd.DataFrame(data_list)\n",
    "\n",
    "# Save to temporary CSV\n",
    "temp_dir = Path('/tmp/chr_demo')\n",
    "temp_dir.mkdir(exist_ok=True)\n",
    "chr_file = temp_dir / 'sample_chr_2025.csv'\n",
    "sample_chr.to_csv(chr_file, index=False)\n",
    "\n",
    "print(f\"✅ Sample CHR data created ({len(sample_chr)} counties)\")\n",
    "print(f\"📁 Saved to: {chr_file}\")\n",
    "print(f\"\\nStates included: {', '.join(states)}\")\n",
    "print(f\"Counties per state: {counties_per_state}\")"
   ]
  },
  {
   "cell_type": "markdown",
   "id": "522f8fe0",
   "metadata": {},
   "source": [
    "## 4. Load Rankings Data\n",
    "\n",
    "Load the annual County Health Rankings data."
   ]
  },
  {
   "cell_type": "code",
   "execution_count": null,
   "id": "3e7cf2bb",
   "metadata": {},
   "outputs": [],
   "source": [
    "# Load CHR data\n",
    "chr_data = connector.load_rankings_data(chr_file)\n",
    "\n",
    "print(f\"Loaded {len(chr_data)} county records\\n\")\n",
    "print(\"First few records:\")\n",
    "chr_data.head()"
   ]
  },
  {
   "cell_type": "markdown",
   "id": "9f2171eb",
   "metadata": {},
   "source": [
    "## 5. State-Level Analysis\n",
    "\n",
    "Analyze health rankings for a specific state."
   ]
  },
  {
   "cell_type": "code",
   "execution_count": null,
   "id": "932d00a8",
   "metadata": {},
   "outputs": [],
   "source": [
    "# Get California data\n",
    "ca_data = connector.get_state_data(chr_data, 'California')\n",
    "\n",
    "print(f\"California: {len(ca_data)} counties\\n\")\n",
    "print(\"Health Outcomes Rankings:\")\n",
    "print(ca_data[['county', 'health_outcomes_rank', 'health_factors_rank']].head(10))"
   ]
  },
  {
   "cell_type": "markdown",
   "id": "8f71bca6",
   "metadata": {},
   "source": [
    "## 6. Top Performers\n",
    "\n",
    "Identify counties with the best health outcomes (rank 1 = best)."
   ]
  },
  {
   "cell_type": "code",
   "execution_count": null,
   "id": "13aca451",
   "metadata": {},
   "outputs": [],
   "source": [
    "# Get top 5 performers in health outcomes\n",
    "top_outcomes = connector.get_top_performers(chr_data, n=5, rank_column='health_outcomes_rank')\n",
    "\n",
    "print(\"Top 5 Counties - Health Outcomes:\")\n",
    "print(top_outcomes[['state', 'county', 'health_outcomes_rank', 'premature_death', \n",
    "                     'poor_or_fair_health']].to_string(index=False))\n",
    "\n",
    "# Get top performers in health factors\n",
    "top_factors = connector.get_top_performers(chr_data, n=5, rank_column='health_factors_rank')\n",
    "\n",
    "print(\"\\nTop 5 Counties - Health Factors:\")\n",
    "print(top_factors[['state', 'county', 'health_factors_rank', 'adult_smoking', \n",
    "                    'adult_obesity']].to_string(index=False))"
   ]
  },
  {
   "cell_type": "markdown",
   "id": "9f874018",
   "metadata": {},
   "source": [
    "## 7. Poor Performers\n",
    "\n",
    "Identify counties in the bottom 25% (poorest health outcomes)."
   ]
  },
  {
   "cell_type": "code",
   "execution_count": null,
   "id": "a9824e3a",
   "metadata": {},
   "outputs": [],
   "source": [
    "# Get poor performers (bottom 25%)\n",
    "poor_outcomes = connector.get_poor_performers(chr_data, percentile=75, \n",
    "                                               rank_column='health_outcomes_rank')\n",
    "\n",
    "print(f\"Counties in bottom 25% for health outcomes: {len(poor_outcomes)}\\n\")\n",
    "print(\"Worst performing counties:\")\n",
    "print(poor_outcomes[['state', 'county', 'health_outcomes_rank', \n",
    "                      'premature_death']].sort_values('health_outcomes_rank', \n",
    "                                                      ascending=False).head(10).to_string(index=False))"
   ]
  },
  {
   "cell_type": "markdown",
   "id": "816f2a2c",
   "metadata": {},
   "source": [
    "## 8. Filter by Health Measure\n",
    "\n",
    "Find counties with high adult obesity rates."
   ]
  },
  {
   "cell_type": "code",
   "execution_count": null,
   "id": "19bcc9d5",
   "metadata": {},
   "outputs": [],
   "source": [
    "# Get counties with adult obesity > 30%\n",
    "high_obesity = connector.filter_by_measure(chr_data, 'adult_obesity', 0.30, above=True)\n",
    "\n",
    "print(f\"Counties with adult obesity > 30%: {len(high_obesity)}\\n\")\n",
    "print(\"High obesity counties:\")\n",
    "print(high_obesity[['state', 'county', 'adult_obesity', 'health_outcomes_rank']]\n",
    "      .sort_values('adult_obesity', ascending=False).head(10).to_string(index=False))"
   ]
  },
  {
   "cell_type": "markdown",
   "id": "0df82fe6",
   "metadata": {},
   "source": [
    "## 9. Compare to State Average\n",
    "\n",
    "Compare county values to their state averages."
   ]
  },
  {
   "cell_type": "code",
   "execution_count": null,
   "id": "cc925b7f",
   "metadata": {},
   "outputs": [],
   "source": [
    "# Compare premature death to state average\n",
    "comparison = connector.compare_to_state(chr_data, 'premature_death')\n",
    "\n",
    "print(\"Counties vs State Average (Premature Death):\")\n",
    "print(comparison[['state', 'county', 'premature_death', 'state_avg', 'diff_from_avg']]\n",
    "      .sort_values('diff_from_avg', ascending=False).head(10).to_string(index=False))\n",
    "\n",
    "print(\"\\nNote: Positive diff_from_avg means worse than state average\")"
   ]
  },
  {
   "cell_type": "markdown",
   "id": "d3b62840",
   "metadata": {},
   "source": [
    "## 10. Available Measures Discovery\n",
    "\n",
    "Explore all available health measures in the dataset."
   ]
  },
  {
   "cell_type": "code",
   "execution_count": null,
   "id": "b8bf5fa0",
   "metadata": {},
   "outputs": [],
   "source": [
    "# Get available measures\n",
    "measures = connector.get_available_measures(chr_data)\n",
    "\n",
    "print(\"Available Health Measures:\\n\")\n",
    "for category, measure_list in measures.items():\n",
    "    print(f\"\\n{category}:\")\n",
    "    for measure in measure_list:\n",
    "        print(f\"  - {measure}\")"
   ]
  },
  {
   "cell_type": "markdown",
   "id": "bb33eabc",
   "metadata": {},
   "source": [
    "## 11. State Summary Statistics\n",
    "\n",
    "Generate comprehensive statistics by state."
   ]
  },
  {
   "cell_type": "code",
   "execution_count": null,
   "id": "ce18f72c",
   "metadata": {},
   "outputs": [],
   "source": [
    "# Summarize key measures by state\n",
    "state_summary = connector.summarize_by_state(\n",
    "    chr_data,\n",
    "    measures=['premature_death', 'adult_obesity', 'uninsured', 'unemployment']\n",
    ")\n",
    "\n",
    "print(\"State-Level Health Summary:\")\n",
    "print(state_summary.round(2))"
   ]
  },
  {
   "cell_type": "markdown",
   "id": "af3fde71",
   "metadata": {},
   "source": [
    "## 12. Visualization: Health Outcomes by State"
   ]
  },
  {
   "cell_type": "code",
   "execution_count": null,
   "id": "ffd93490",
   "metadata": {},
   "outputs": [],
   "source": [
    "# Box plot of health outcomes rank by state\n",
    "fig, ax = plt.subplots(figsize=(14, 6))\n",
    "\n",
    "chr_data.boxplot(column='health_outcomes_rank', by='state', ax=ax)\n",
    "ax.set_title('Health Outcomes Rankings Distribution by State', fontsize=14, fontweight='bold')\n",
    "ax.set_xlabel('State', fontsize=12)\n",
    "ax.set_ylabel('Health Outcomes Rank (1=Best)', fontsize=12)\n",
    "plt.suptitle('')  # Remove default title\n",
    "\n",
    "plt.tight_layout()\n",
    "plt.show()\n",
    "\n",
    "print(\"Note: Lower rank = better health outcomes (1 is best)\")"
   ]
  },
  {
   "cell_type": "markdown",
   "id": "6af18e12",
   "metadata": {},
   "source": [
    "## 13. Visualization: Health Behaviors Comparison"
   ]
  },
  {
   "cell_type": "code",
   "execution_count": null,
   "id": "db5d27b5",
   "metadata": {},
   "outputs": [],
   "source": [
    "# Compare smoking and obesity rates by state\n",
    "fig, (ax1, ax2) = plt.subplots(1, 2, figsize=(16, 6))\n",
    "\n",
    "# Adult smoking\n",
    "state_smoking = chr_data.groupby('state')['adult_smoking'].mean().sort_values()\n",
    "ax1.barh(state_smoking.index, state_smoking.values * 100, color='#E74C3C')\n",
    "ax1.set_xlabel('Adult Smoking Rate (%)', fontsize=12)\n",
    "ax1.set_title('Average Adult Smoking Rate by State', fontsize=13, fontweight='bold')\n",
    "ax1.grid(axis='x', alpha=0.3)\n",
    "\n",
    "# Adult obesity\n",
    "state_obesity = chr_data.groupby('state')['adult_obesity'].mean().sort_values()\n",
    "ax2.barh(state_obesity.index, state_obesity.values * 100, color='#F39C12')\n",
    "ax2.set_xlabel('Adult Obesity Rate (%)', fontsize=12)\n",
    "ax2.set_title('Average Adult Obesity Rate by State', fontsize=13, fontweight='bold')\n",
    "ax2.grid(axis='x', alpha=0.3)\n",
    "\n",
    "plt.tight_layout()\n",
    "plt.show()"
   ]
  },
  {
   "cell_type": "markdown",
   "id": "fa781720",
   "metadata": {},
   "source": [
    "## 14. Visualization: Social Determinants"
   ]
  },
  {
   "cell_type": "code",
   "execution_count": null,
   "id": "47280a8d",
   "metadata": {},
   "outputs": [],
   "source": [
    "# Scatter plot: Poverty vs Health Outcomes\n",
    "fig, ax = plt.subplots(figsize=(12, 8))\n",
    "\n",
    "for state in chr_data['state'].unique():\n",
    "    state_data = chr_data[chr_data['state'] == state]\n",
    "    ax.scatter(state_data['children_in_poverty'] * 100, \n",
    "               state_data['health_outcomes_rank'],\n",
    "               label=state, alpha=0.7, s=100)\n",
    "\n",
    "ax.set_xlabel('Children in Poverty (%)', fontsize=12)\n",
    "ax.set_ylabel('Health Outcomes Rank (1=Best)', fontsize=12)\n",
    "ax.set_title('Child Poverty vs Health Outcomes', fontsize=14, fontweight='bold')\n",
    "ax.legend(loc='best', framealpha=0.9)\n",
    "ax.grid(alpha=0.3)\n",
    "\n",
    "plt.tight_layout()\n",
    "plt.show()\n",
    "\n",
    "# Calculate correlation\n",
    "corr = chr_data[['children_in_poverty', 'health_outcomes_rank']].corr().iloc[0, 1]\n",
    "print(f\"\\nCorrelation: {corr:.3f}\")\n",
    "print(\"Note: Positive correlation suggests higher poverty associated with worse health outcomes\")"
   ]
  },
  {
   "cell_type": "markdown",
   "id": "5a4bf1b3",
   "metadata": {},
   "source": [
    "## 15. Heatmap: State Health Metrics"
   ]
  },
  {
   "cell_type": "code",
   "execution_count": null,
   "id": "715ade13",
   "metadata": {},
   "outputs": [],
   "source": [
    "# Create heatmap of average values by state\n",
    "metrics = ['adult_smoking', 'adult_obesity', 'uninsured', 'unemployment', 'children_in_poverty']\n",
    "state_metrics = chr_data.groupby('state')[metrics].mean()\n",
    "\n",
    "# Normalize to percentages\n",
    "state_metrics_pct = state_metrics * 100\n",
    "\n",
    "fig, ax = plt.subplots(figsize=(12, 6))\n",
    "sns.heatmap(state_metrics_pct.T, annot=True, fmt='.1f', cmap='RdYlGn_r', \n",
    "            cbar_kws={'label': 'Percentage (%)'}, ax=ax)\n",
    "ax.set_title('Health Metrics Heatmap by State', fontsize=14, fontweight='bold')\n",
    "ax.set_xlabel('State', fontsize=12)\n",
    "ax.set_ylabel('Health Metric', fontsize=12)\n",
    "\n",
    "plt.tight_layout()\n",
    "plt.show()\n",
    "\n",
    "print(\"Note: Red = higher (worse), Green = lower (better)\")"
   ]
  },
  {
   "cell_type": "markdown",
   "id": "0c6383e7",
   "metadata": {},
   "source": [
    "## 16. County-Specific Deep Dive\n",
    "\n",
    "Examine a specific county in detail."
   ]
  },
  {
   "cell_type": "code",
   "execution_count": null,
   "id": "66ea845c",
   "metadata": {},
   "outputs": [],
   "source": [
    "# Get specific county data\n",
    "county_data = connector.get_county_data(chr_data, 'Cal County 1', 'California')\n",
    "\n",
    "if len(county_data) > 0:\n",
    "    county_row = county_data.iloc[0]\n",
    "    \n",
    "    print(f\"\\n{'='*60}\")\n",
    "    print(f\"COUNTY HEALTH PROFILE: {county_row['county']}, {county_row['state']}\")\n",
    "    print(f\"{'='*60}\\n\")\n",
    "    \n",
    "    print(\"RANKINGS:\")\n",
    "    print(f\"  Health Outcomes Rank: #{county_row['health_outcomes_rank']}\")\n",
    "    print(f\"  Health Factors Rank: #{county_row['health_factors_rank']}\")\n",
    "    \n",
    "    print(\"\\nHEALTH OUTCOMES:\")\n",
    "    print(f\"  Premature Death: {county_row['premature_death']:.0f} per 100,000\")\n",
    "    print(f\"  Poor/Fair Health: {county_row['poor_or_fair_health']:.1%}\")\n",
    "    \n",
    "    print(\"\\nHEALTH BEHAVIORS:\")\n",
    "    print(f\"  Adult Smoking: {county_row['adult_smoking']:.1%}\")\n",
    "    print(f\"  Adult Obesity: {county_row['adult_obesity']:.1%}\")\n",
    "    \n",
    "    print(\"\\nCLINICAL CARE:\")\n",
    "    print(f\"  Uninsured: {county_row['uninsured']:.1%}\")\n",
    "    print(f\"  Primary Care Physicians: {county_row['primary_care_physicians']:.0f} per 100,000\")\n",
    "    \n",
    "    print(\"\\nSOCIAL & ECONOMIC:\")\n",
    "    print(f\"  Unemployment: {county_row['unemployment']:.1%}\")\n",
    "    print(f\"  Children in Poverty: {county_row['children_in_poverty']:.1%}\")\n",
    "    print(f\"  HS Graduation: {county_row['high_school_graduation']:.1%}\")\n",
    "    \n",
    "    print(f\"\\n{'='*60}\")\n",
    "else:\n",
    "    print(\"County not found in dataset\")"
   ]
  },
  {
   "cell_type": "markdown",
   "id": "721ceb02",
   "metadata": {},
   "source": [
    "## 17. Trends Analysis (Multi-Year)\n",
    "\n",
    "If you have multi-year data, use `load_trends_data()` to analyze changes over time."
   ]
  },
  {
   "cell_type": "code",
   "execution_count": null,
   "id": "6024998d",
   "metadata": {},
   "outputs": [],
   "source": [
    "# Note: This requires multi-year CHR data files\n",
    "# Example usage:\n",
    "# trends_data = connector.load_trends_data('chr_trends_2015_2025.csv')\n",
    "# \n",
    "# Analyze trends:\n",
    "# - Adult smoking rates over time\n",
    "# - Obesity trends\n",
    "# - Uninsured rate changes\n",
    "# - Health outcome improvements/declines\n",
    "\n",
    "print(\"Multi-year trends analysis:\")\n",
    "print(\"- Download annual CHR data for multiple years\")\n",
    "print(\"- Load each year separately or use combined trends file\")\n",
    "print(\"- Track county rankings changes\")\n",
    "print(\"- Identify improving/declining counties\")\n",
    "print(\"- Analyze policy impact over time\")"
   ]
  },
  {
   "cell_type": "markdown",
   "id": "f801340e",
   "metadata": {},
   "source": [
    "## 18. Key Findings Summary"
   ]
  },
  {
   "cell_type": "code",
   "execution_count": null,
   "id": "1f5487a5",
   "metadata": {},
   "outputs": [],
   "source": [
    "print(\"=\"*70)\n",
    "print(\"COUNTY HEALTH RANKINGS - KEY FINDINGS SUMMARY\")\n",
    "print(\"=\"*70)\n",
    "\n",
    "print(f\"\\n📊 Total Counties Analyzed: {len(chr_data)}\")\n",
    "print(f\"📍 States Covered: {chr_data['state'].nunique()}\")\n",
    "\n",
    "print(\"\\n🏥 National Averages (Sample Data):\")\n",
    "print(f\"   Premature Death: {chr_data['premature_death'].mean():.0f} per 100,000\")\n",
    "print(f\"   Poor/Fair Health: {chr_data['poor_or_fair_health'].mean():.1%}\")\n",
    "print(f\"   Adult Smoking: {chr_data['adult_smoking'].mean():.1%}\")\n",
    "print(f\"   Adult Obesity: {chr_data['adult_obesity'].mean():.1%}\")\n",
    "print(f\"   Uninsured Rate: {chr_data['uninsured'].mean():.1%}\")\n",
    "print(f\"   Unemployment: {chr_data['unemployment'].mean():.1%}\")\n",
    "print(f\"   Children in Poverty: {chr_data['children_in_poverty'].mean():.1%}\")\n",
    "\n",
    "print(\"\\n🎯 Best Performing State (Avg Health Outcomes Rank):\")\n",
    "best_state = chr_data.groupby('state')['health_outcomes_rank'].mean().idxmin()\n",
    "best_rank = chr_data.groupby('state')['health_outcomes_rank'].mean().min()\n",
    "print(f\"   {best_state} (Avg Rank: {best_rank:.1f})\")\n",
    "\n",
    "print(\"\\n⚠️ Areas Needing Improvement:\")\n",
    "high_obesity_pct = (chr_data['adult_obesity'] > 0.30).sum() / len(chr_data) * 100\n",
    "high_uninsured_pct = (chr_data['uninsured'] > 0.10).sum() / len(chr_data) * 100\n",
    "print(f\"   Counties with >30% obesity: {high_obesity_pct:.1f}%\")\n",
    "print(f\"   Counties with >10% uninsured: {high_uninsured_pct:.1f}%\")\n",
    "\n",
    "print(\"\\n📈 Correlation Insights:\")\n",
    "corr_poverty_health = chr_data[['children_in_poverty', 'health_outcomes_rank']].corr().iloc[0,1]\n",
    "corr_obesity_health = chr_data[['adult_obesity', 'health_outcomes_rank']].corr().iloc[0,1]\n",
    "print(f\"   Poverty ↔ Health Outcomes: {corr_poverty_health:.3f}\")\n",
    "print(f\"   Obesity ↔ Health Outcomes: {corr_obesity_health:.3f}\")\n",
    "\n",
    "print(\"\\n\" + \"=\"*70)"
   ]
  },
  {
   "cell_type": "markdown",
   "id": "5f2ece72",
   "metadata": {},
   "source": [
    "## 19. Next Steps\n",
    "\n",
    "**Further Analysis:**\n",
    "- Download actual CHR data from https://www.countyhealthrankings.org/health-data\n",
    "- Load multi-year data to analyze trends\n",
    "- Compare urban vs rural counties\n",
    "- Analyze specific health measures in detail\n",
    "- Create geographic visualizations (choropleth maps)\n",
    "- Correlate with other data sources (HRSA, EPA, Census)\n",
    "\n",
    "**Data Documentation:**\n",
    "- Methodology: https://www.countyhealthrankings.org/health-data/methodology\n",
    "- Data Dictionary: https://www.countyhealthrankings.org/health-data/data-dictionary\n",
    "- Reports: https://www.countyhealthrankings.org/reports\n",
    "\n",
    "**Ranking Weights:**\n",
    "- Health Outcomes (50%): Length of Life (50%) + Quality of Life (50%)\n",
    "- Health Factors (50%):\n",
    "  - Health Behaviors: 30%\n",
    "  - Clinical Care: 20%\n",
    "  - Social & Economic Factors: 40%\n",
    "  - Physical Environment: 10%\n",
    "\n",
    "---\n",
    "\n",
    "© 2025 KR-Labs. All rights reserved.  \n",
    "KR-Labs™ is a trademark of Quipu Research Labs, LLC."
   ]
  }
 ],
 "metadata": {
  "language_info": {
   "name": "python"
  }
 },
 "nbformat": 4,
 "nbformat_minor": 5
}
