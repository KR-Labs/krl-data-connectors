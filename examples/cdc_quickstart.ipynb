{
 "cells": [
  {
   "cell_type": "markdown",
   "id": "e200f17e",
   "metadata": {},
   "source": [
    "# CDC WONDER Data Connector - Quick Start Guide\n",
    "\n",
    "**CDC WONDER** (Wide-ranging Online Data for Epidemiologic Research) provides access to public health data including:\n",
    "- **Mortality data**: Underlying and multiple causes of death\n",
    "- **Natality data**: Birth statistics and trends\n",
    "- **Population estimates**: Demographic population data\n",
    "- **Cancer statistics**: Cancer incidence and mortality\n",
    "\n",
    "**Key Features:**\n",
    "- ✅ No API key required (publicly accessible)\n",
    "- 🌐 National, state, and county-level data\n",
    "- 📊 Supports mortality, natality, and population datasets\n",
    "- 🔍 Query by year, geography, demographics, and cause\n",
    "\n",
    "**Data Domains:**\n",
    "- D04: Health (primary)\n",
    "- D25: Food & Nutrition\n",
    "- D28: Mental Health\n",
    "\n",
    "---\n",
    "\n",
    "**© 2025 KR-Labs. All rights reserved.**  \n",
    "KR-Labs™ is a trademark of Quipu Research Labs, LLC, a subsidiary of Sudiata Giddasira, Inc.  \n",
    "Licensed under the Apache License, Version 2.0"
   ]
  },
  {
   "cell_type": "markdown",
   "id": "24b54e9e",
   "metadata": {},
   "source": [
    "## 1. Installation\n",
    "\n",
    "Install the KRL Data Connectors package:"
   ]
  },
  {
   "cell_type": "code",
   "execution_count": 7,
   "id": "ba0e766f",
   "metadata": {},
   "outputs": [],
   "source": [
    "# Uncomment to install\n",
    "# !pip install krl-data-connectors"
   ]
  },
  {
   "cell_type": "markdown",
   "id": "ea6275ef",
   "metadata": {},
   "source": [
    "## 2. Initialize Connector\n",
    "\n",
    "No API key needed for CDC WONDER!"
   ]
  },
  {
   "cell_type": "code",
   "execution_count": null,
   "id": "7ee07f25",
   "metadata": {},
   "outputs": [
    {
     "name": "stdout",
     "output_type": "stream",
     "text": [
      "{\"timestamp\": \"2025-10-20T02:24:11.868475Z\", \"level\": \"WARNING\", \"name\": \"CDCWonderConnector\", \"message\": \"No API key provided\", \"source\": {\"file\": \"base_connector.py\", \"line\": 72, \"function\": \"__init__\"}, \"levelname\": \"WARNING\", \"taskName\": \"Task-37\", \"connector\": \"CDCWonderConnector\"}\n",
      "{\"timestamp\": \"2025-10-20T02:24:11.869605Z\", \"level\": \"INFO\", \"name\": \"CDCWonderConnector\", \"message\": \"Connector initialized\", \"source\": {\"file\": \"base_connector.py\", \"line\": 82, \"function\": \"__init__\"}, \"levelname\": \"INFO\", \"taskName\": \"Task-37\", \"connector\": \"CDCWonderConnector\", \"cache_dir\": \"~/.krl_cache\", \"cache_ttl\": 86400, \"has_api_key\": false}\n",
      "✅ CDC WONDER connector initialized\n",
      "⚠️  Note: CDC WONDER API requires complex XML requests.\n",
      "    The actual data retrieval may require specific parameter configurations.\n",
      "    This is a work-in-progress connector - some features may be limited.\n",
      "{\"timestamp\": \"2025-10-20T02:24:11.869605Z\", \"level\": \"INFO\", \"name\": \"CDCWonderConnector\", \"message\": \"Connector initialized\", \"source\": {\"file\": \"base_connector.py\", \"line\": 82, \"function\": \"__init__\"}, \"levelname\": \"INFO\", \"taskName\": \"Task-37\", \"connector\": \"CDCWonderConnector\", \"cache_dir\": \"~/.krl_cache\", \"cache_ttl\": 86400, \"has_api_key\": false}\n",
      "✅ CDC WONDER connector initialized\n",
      "⚠️  Note: CDC WONDER API requires complex XML requests.\n",
      "    The actual data retrieval may require specific parameter configurations.\n",
      "    This is a work-in-progress connector - some features may be limited.\n"
     ]
    }
   ],
   "source": [
    "from krl_data_connectors.health import CDCWonderConnector\n",
    "import pandas as pd\n",
    "\n",
    "# Initialize connector (no API key required)\n",
    "cdc = CDCWonderConnector()\n",
    "\n",
    "print(\"✅ CDC WONDER connector initialized\")\n",
    "print()\n",
    "print(\"⚠️  IMPORTANT: CDC WONDER API STATUS\")\n",
    "print(\"=\" * 60)\n",
    "print(\"The CDC WONDER public API is highly restrictive and unstable.\")\n",
    "print(\"Common issues:\")\n",
    "print(\"  • HTTP 500 errors (server-side failures)\")\n",
    "print(\"  • Strict XML formatting requirements\")\n",
    "print(\"  • Undocumented parameter validation\")\n",
    "print(\"  • Rate limiting and temporary unavailability\")\n",
    "print()\n",
    "print(\"This connector demonstrates the intended interface design,\")\n",
    "print(\"but API calls may frequently fail due to CDC's restrictions.\")\n",
    "print()\n",
    "print(\"For reliable access, use CDC WONDER's web interface:\")\n",
    "print(\"  https://wonder.cdc.gov/\")\n",
    "print(\"=\" * 60)"
   ]
  },
  {
   "cell_type": "markdown",
   "id": "fb7d6b8c",
   "metadata": {},
   "source": [
    "## 3. Available Databases\n",
    "\n",
    "Check available CDC WONDER databases:"
   ]
  },
  {
   "cell_type": "code",
   "execution_count": 9,
   "id": "b1653079",
   "metadata": {},
   "outputs": [
    {
     "name": "stdout",
     "output_type": "stream",
     "text": [
      "Available CDC WONDER Databases:\n",
      "  mortality_underlying: D76\n",
      "  mortality_multiple: D77\n",
      "  natality: D149\n",
      "  population: D157\n"
     ]
    }
   ],
   "source": [
    "databases = cdc.get_available_databases()\n",
    "print(\"Available CDC WONDER Databases:\")\n",
    "for name, code in databases.items():\n",
    "    print(f\"  {name}: {code}\")"
   ]
  },
  {
   "cell_type": "markdown",
   "id": "5a663099",
   "metadata": {},
   "source": [
    "## 4. Mortality Data\n",
    "\n",
    "Get mortality statistics by state and year:\n",
    "\n",
    "**⚠️ IMPORTANT NOTE**: CDC WONDER's public API is highly restrictive and frequently returns errors (HTTP 500). The API requires:\n",
    "- Specific XML formatting that varies by database\n",
    "- Strict parameter validation\n",
    "- Rate limiting and may be temporarily unavailable\n",
    "- Complex request structures that are not well-documented\n",
    "\n",
    "**This connector is currently in BETA** and demonstrates the interface design. For production use:\n",
    "1. Consider using CDC WONDER's web interface directly: https://wonder.cdc.gov/\n",
    "2. Download data files manually for reliable access\n",
    "3. Contact CDC for API access terms and support\n",
    "\n",
    "The following examples show the intended API usage, but **may fail** due to CDC's server restrictions:"
   ]
  },
  {
   "cell_type": "code",
   "execution_count": null,
   "id": "a7a8ddae",
   "metadata": {},
   "outputs": [
    {
     "ename": "HTTPError",
     "evalue": "500 Server Error: Internal Server Error for url: https://wonder.cdc.gov/controller/datarequest/D76",
     "output_type": "error",
     "traceback": [
      "\u001b[31m---------------------------------------------------------------------------\u001b[39m",
      "\u001b[31mHTTPError\u001b[39m                                 Traceback (most recent call last)",
      "\u001b[36mCell\u001b[39m\u001b[36m \u001b[39m\u001b[32mIn[10]\u001b[39m\u001b[32m, line 2\u001b[39m\n\u001b[32m      1\u001b[39m \u001b[38;5;66;03m# Get mortality data for California and New York (2019-2021)\u001b[39;00m\n\u001b[32m----> \u001b[39m\u001b[32m2\u001b[39m mortality = \u001b[43mcdc\u001b[49m\u001b[43m.\u001b[49m\u001b[43mget_mortality_data\u001b[49m\u001b[43m(\u001b[49m\n\u001b[32m      3\u001b[39m \u001b[43m    \u001b[49m\u001b[43myears\u001b[49m\u001b[43m=\u001b[49m\u001b[43m[\u001b[49m\u001b[32;43m2019\u001b[39;49m\u001b[43m,\u001b[49m\u001b[43m \u001b[49m\u001b[32;43m2020\u001b[39;49m\u001b[43m,\u001b[49m\u001b[43m \u001b[49m\u001b[32;43m2021\u001b[39;49m\u001b[43m]\u001b[49m\u001b[43m,\u001b[49m\n\u001b[32m      4\u001b[39m \u001b[43m    \u001b[49m\u001b[43mgeo_level\u001b[49m\u001b[43m=\u001b[49m\u001b[33;43m'\u001b[39;49m\u001b[33;43mstate\u001b[39;49m\u001b[33;43m'\u001b[39;49m\u001b[43m,\u001b[49m\n\u001b[32m      5\u001b[39m \u001b[43m    \u001b[49m\u001b[43mstates\u001b[49m\u001b[43m=\u001b[49m\u001b[43m[\u001b[49m\u001b[33;43m'\u001b[39;49m\u001b[33;43m06\u001b[39;49m\u001b[33;43m'\u001b[39;49m\u001b[43m,\u001b[49m\u001b[43m \u001b[49m\u001b[33;43m'\u001b[39;49m\u001b[33;43m36\u001b[39;49m\u001b[33;43m'\u001b[39;49m\u001b[43m]\u001b[49m\u001b[43m  \u001b[49m\u001b[38;5;66;43;03m# CA=06, NY=36 (FIPS codes)\u001b[39;49;00m\n\u001b[32m      6\u001b[39m \u001b[43m)\u001b[49m\n\u001b[32m      8\u001b[39m \u001b[38;5;28mprint\u001b[39m(\u001b[33mf\u001b[39m\u001b[33m\"\u001b[39m\u001b[33mRetrieved \u001b[39m\u001b[38;5;132;01m{\u001b[39;00m\u001b[38;5;28mlen\u001b[39m(mortality)\u001b[38;5;132;01m}\u001b[39;00m\u001b[33m mortality records\u001b[39m\u001b[33m\"\u001b[39m)\n\u001b[32m      9\u001b[39m mortality.head(\u001b[32m10\u001b[39m)\n",
      "\u001b[36mFile \u001b[39m\u001b[32m~/KR-Labs/krl-data-connectors/src/krl_data_connectors/health/cdc_connector.py:329\u001b[39m, in \u001b[36mCDCWonderConnector.get_mortality_data\u001b[39m\u001b[34m(self, years, geo_level, states, counties, cause_of_death, age_groups, database)\u001b[39m\n\u001b[32m    326\u001b[39m parameters[\u001b[33m'\u001b[39m\u001b[33mO_precision\u001b[39m\u001b[33m'\u001b[39m] = \u001b[33m'\u001b[39m\u001b[33m1\u001b[39m\u001b[33m'\u001b[39m\n\u001b[32m    328\u001b[39m db_code = \u001b[38;5;28mself\u001b[39m.DATABASES.get(database, \u001b[38;5;28mself\u001b[39m.DATABASES[\u001b[33m'\u001b[39m\u001b[33mmortality_underlying\u001b[39m\u001b[33m'\u001b[39m])\n\u001b[32m--> \u001b[39m\u001b[32m329\u001b[39m xml_response = \u001b[38;5;28;43mself\u001b[39;49m\u001b[43m.\u001b[49m\u001b[43m_make_cdc_request\u001b[49m\u001b[43m(\u001b[49m\u001b[43mdb_code\u001b[49m\u001b[43m,\u001b[49m\u001b[43m \u001b[49m\u001b[43mparameters\u001b[49m\u001b[43m)\u001b[49m\n\u001b[32m    331\u001b[39m df = \u001b[38;5;28mself\u001b[39m._parse_response(xml_response)\n\u001b[32m    333\u001b[39m \u001b[38;5;28;01mif\u001b[39;00m \u001b[38;5;129;01mnot\u001b[39;00m df.empty:\n",
      "\u001b[36mFile \u001b[39m\u001b[32m~/KR-Labs/krl-data-connectors/src/krl_data_connectors/health/cdc_connector.py:182\u001b[39m, in \u001b[36mCDCWonderConnector._make_cdc_request\u001b[39m\u001b[34m(self, database, parameters, stage)\u001b[39m\n\u001b[32m    179\u001b[39m     \u001b[38;5;28;01mreturn\u001b[39;00m cached_response\n\u001b[32m    181\u001b[39m \u001b[38;5;66;03m# Make request and cache\u001b[39;00m\n\u001b[32m--> \u001b[39m\u001b[32m182\u001b[39m result = \u001b[43mfetch_data\u001b[49m\u001b[43m(\u001b[49m\u001b[43m)\u001b[49m\n\u001b[32m    183\u001b[39m \u001b[38;5;28mself\u001b[39m.cache.set(cache_key, result)\n\u001b[32m    184\u001b[39m \u001b[38;5;28;01mreturn\u001b[39;00m result\n",
      "\u001b[36mFile \u001b[39m\u001b[32m~/KR-Labs/krl-data-connectors/src/krl_data_connectors/health/cdc_connector.py:173\u001b[39m, in \u001b[36mCDCWonderConnector._make_cdc_request.<locals>.fetch_data\u001b[39m\u001b[34m()\u001b[39m\n\u001b[32m    167\u001b[39m logger.info(\u001b[33mf\u001b[39m\u001b[33m\"\u001b[39m\u001b[33mFetching data from CDC WONDER database \u001b[39m\u001b[38;5;132;01m{\u001b[39;00mdatabase\u001b[38;5;132;01m}\u001b[39;00m\u001b[33m\"\u001b[39m)\n\u001b[32m    168\u001b[39m response = \u001b[38;5;28mself\u001b[39m.session.post(\n\u001b[32m    169\u001b[39m     \u001b[33mf\u001b[39m\u001b[33m\"\u001b[39m\u001b[38;5;132;01m{\u001b[39;00m\u001b[38;5;28mself\u001b[39m.BASE_URL\u001b[38;5;132;01m}\u001b[39;00m\u001b[33m/\u001b[39m\u001b[38;5;132;01m{\u001b[39;00mdatabase\u001b[38;5;132;01m}\u001b[39;00m\u001b[33m\"\u001b[39m,\n\u001b[32m    170\u001b[39m     data=data,\n\u001b[32m    171\u001b[39m     timeout=\u001b[32m30\u001b[39m\n\u001b[32m    172\u001b[39m )\n\u001b[32m--> \u001b[39m\u001b[32m173\u001b[39m \u001b[43mresponse\u001b[49m\u001b[43m.\u001b[49m\u001b[43mraise_for_status\u001b[49m\u001b[43m(\u001b[49m\u001b[43m)\u001b[49m\n\u001b[32m    174\u001b[39m \u001b[38;5;28;01mreturn\u001b[39;00m response.text\n",
      "\u001b[36mFile \u001b[39m\u001b[32m~/KR-Labs/.venv/lib/python3.13/site-packages/requests/models.py:1026\u001b[39m, in \u001b[36mResponse.raise_for_status\u001b[39m\u001b[34m(self)\u001b[39m\n\u001b[32m   1021\u001b[39m     http_error_msg = (\n\u001b[32m   1022\u001b[39m         \u001b[33mf\u001b[39m\u001b[33m\"\u001b[39m\u001b[38;5;132;01m{\u001b[39;00m\u001b[38;5;28mself\u001b[39m.status_code\u001b[38;5;132;01m}\u001b[39;00m\u001b[33m Server Error: \u001b[39m\u001b[38;5;132;01m{\u001b[39;00mreason\u001b[38;5;132;01m}\u001b[39;00m\u001b[33m for url: \u001b[39m\u001b[38;5;132;01m{\u001b[39;00m\u001b[38;5;28mself\u001b[39m.url\u001b[38;5;132;01m}\u001b[39;00m\u001b[33m\"\u001b[39m\n\u001b[32m   1023\u001b[39m     )\n\u001b[32m   1025\u001b[39m \u001b[38;5;28;01mif\u001b[39;00m http_error_msg:\n\u001b[32m-> \u001b[39m\u001b[32m1026\u001b[39m     \u001b[38;5;28;01mraise\u001b[39;00m HTTPError(http_error_msg, response=\u001b[38;5;28mself\u001b[39m)\n",
      "\u001b[31mHTTPError\u001b[39m: 500 Server Error: Internal Server Error for url: https://wonder.cdc.gov/controller/datarequest/D76"
     ]
    }
   ],
   "source": [
    "# Attempt to get mortality data for California and New York (2019-2021)\n",
    "try:\n",
    "    mortality = cdc.get_mortality_data(\n",
    "        years=[2019, 2020, 2021],\n",
    "        geo_level='state',\n",
    "        states=['06', '36']  # CA=06, NY=36 (FIPS codes)\n",
    "    )\n",
    "    \n",
    "    print(f\"✅ Retrieved {len(mortality)} mortality records\")\n",
    "    mortality.head(10)\n",
    "    \n",
    "except Exception as e:\n",
    "    print(f\"❌ CDC WONDER API Error: {e}\")\n",
    "    print(\"\\n⚠️  CDC WONDER's API is currently unavailable or returned an error.\")\n",
    "    print(\"This is a known limitation of CDC's public API.\")\n",
    "    print(\"\\nAlternatives:\")\n",
    "    print(\"  1. Visit https://wonder.cdc.gov/ to access data via web interface\")\n",
    "    print(\"  2. Download pre-compiled datasets from CDC's data portal\")\n",
    "    print(\"  3. Try again later (API may be temporarily down)\")\n",
    "    \n",
    "    # Create sample data for demonstration\n",
    "    print(\"\\n📊 Creating sample data for demonstration purposes...\")\n",
    "    mortality = pd.DataFrame({\n",
    "        'Year': [2019, 2020, 2021] * 2,\n",
    "        'State': ['California'] * 3 + ['New York'] * 3,\n",
    "        'Deaths': [259082, 283960, 289137, 171103, 188266, 193563],\n",
    "        'Population': [39512223, 39538223, 39237836, 19453561, 20201249, 20201249],\n",
    "        'Crude Rate': [655.5, 718.4, 737.0, 879.7, 931.8, 958.2]\n",
    "    })\n",
    "    print(f\"📝 Sample data created: {len(mortality)} records\")\n",
    "    mortality"
   ]
  },
  {
   "cell_type": "markdown",
   "id": "14291372",
   "metadata": {},
   "source": [
    "### Visualize Mortality Trends"
   ]
  },
  {
   "cell_type": "code",
   "execution_count": null,
   "id": "dc24ac4e",
   "metadata": {},
   "outputs": [],
   "source": [
    "import matplotlib.pyplot as plt\n",
    "\n",
    "if 'Crude Rate' in mortality.columns and 'Year' in mortality.columns:\n",
    "    fig, ax = plt.subplots(figsize=(10, 6))\n",
    "    \n",
    "    for state in mortality['State'].unique():\n",
    "        state_data = mortality[mortality['State'] == state]\n",
    "        ax.plot(state_data['Year'], state_data['Crude Rate'], marker='o', label=state)\n",
    "    \n",
    "    ax.set_xlabel('Year')\n",
    "    ax.set_ylabel('Crude Mortality Rate (per 100,000)')\n",
    "    ax.set_title('Mortality Trends by State')\n",
    "    ax.legend()\n",
    "    ax.grid(True, alpha=0.3)\n",
    "    plt.show()\n",
    "else:\n",
    "    print(\"Note: Crude Rate or Year not available in response\")"
   ]
  },
  {
   "cell_type": "markdown",
   "id": "14591a2d",
   "metadata": {},
   "source": [
    "## 5. Natality (Birth) Data\n",
    "\n",
    "Get birth statistics:"
   ]
  },
  {
   "cell_type": "code",
   "execution_count": null,
   "id": "3c0139f9",
   "metadata": {},
   "outputs": [],
   "source": [
    "# Attempt to get natality data for top 5 states\n",
    "try:\n",
    "    natality = cdc.get_natality_data(\n",
    "        years=[2020, 2021],\n",
    "        geo_level='state',\n",
    "        states=['06', '48', '12', '36', '17']  # CA, TX, FL, NY, IL\n",
    "    )\n",
    "    \n",
    "    print(f\"✅ Retrieved {len(natality)} natality records\")\n",
    "    natality.head(10)\n",
    "    \n",
    "except Exception as e:\n",
    "    print(f\"❌ CDC WONDER API Error: {e}\")\n",
    "    print(\"\\n⚠️  Using sample data for demonstration...\")\n",
    "    \n",
    "    # Create sample data\n",
    "    natality = pd.DataFrame({\n",
    "        'Year': [2020, 2021] * 5,\n",
    "        'State': ['California'] * 2 + ['Texas'] * 2 + ['Florida'] * 2 + ['New York'] * 2 + ['Illinois'] * 2,\n",
    "        'Births': [420259, 416686, 368190, 377599, 220002, 224190, 209338, 207980, 138556, 135127]\n",
    "    })\n",
    "    print(f\"📝 Sample data created: {len(natality)} records\")\n",
    "    natality"
   ]
  },
  {
   "cell_type": "markdown",
   "id": "35d03205",
   "metadata": {},
   "source": [
    "### Compare Birth Rates"
   ]
  },
  {
   "cell_type": "code",
   "execution_count": null,
   "id": "0ead433f",
   "metadata": {},
   "outputs": [],
   "source": [
    "if 'Births' in natality.columns and 'State' in natality.columns:\n",
    "    # Group by state and sum births\n",
    "    births_by_state = natality.groupby('State')['Births'].sum().sort_values(ascending=False)\n",
    "    \n",
    "    fig, ax = plt.subplots(figsize=(10, 6))\n",
    "    births_by_state.plot(kind='bar', ax=ax, color='steelblue')\n",
    "    ax.set_xlabel('State')\n",
    "    ax.set_ylabel('Total Births (2020-2021)')\n",
    "    ax.set_title('Birth Statistics by State')\n",
    "    ax.grid(True, alpha=0.3, axis='y')\n",
    "    plt.xticks(rotation=45)\n",
    "    plt.tight_layout()\n",
    "    plt.show()\n",
    "else:\n",
    "    print(\"Note: Births or State not available in response\")"
   ]
  },
  {
   "cell_type": "markdown",
   "id": "ce6af2c9",
   "metadata": {},
   "source": [
    "## 6. Population Estimates\n",
    "\n",
    "Get population data:"
   ]
  },
  {
   "cell_type": "code",
   "execution_count": null,
   "id": "457c6353",
   "metadata": {},
   "outputs": [],
   "source": [
    "# Attempt to get population estimates for all states\n",
    "try:\n",
    "    population = cdc.get_population_estimates(\n",
    "        years=[2020],\n",
    "        geo_level='state'\n",
    "    )\n",
    "    \n",
    "    print(f\"✅ Retrieved {len(population)} population records\")\n",
    "    population.head(10)\n",
    "    \n",
    "except Exception as e:\n",
    "    print(f\"❌ CDC WONDER API Error: {e}\")\n",
    "    print(\"\\n⚠️  Using sample data for demonstration...\")\n",
    "    \n",
    "    # Create sample data\n",
    "    population = pd.DataFrame({\n",
    "        'Year': [2020] * 10,\n",
    "        'State': ['California', 'Texas', 'Florida', 'New York', 'Pennsylvania', \n",
    "                  'Illinois', 'Ohio', 'Georgia', 'North Carolina', 'Michigan'],\n",
    "        'Population': [39538223, 29145505, 21538187, 20201249, 13002700, \n",
    "                       12812508, 11799448, 10711908, 10439388, 10077331]\n",
    "    })\n",
    "    print(f\"📝 Sample data created: {len(population)} records\")\n",
    "    population"
   ]
  },
  {
   "cell_type": "markdown",
   "id": "811110c1",
   "metadata": {},
   "source": [
    "### Top 10 Most Populous States"
   ]
  },
  {
   "cell_type": "code",
   "execution_count": null,
   "id": "40687ef0",
   "metadata": {},
   "outputs": [],
   "source": [
    "if 'Population' in population.columns and 'State' in population.columns:\n",
    "    top_states = population.nlargest(10, 'Population')\n",
    "    \n",
    "    fig, ax = plt.subplots(figsize=(12, 6))\n",
    "    ax.barh(top_states['State'], top_states['Population'], color='coral')\n",
    "    ax.set_xlabel('Population')\n",
    "    ax.set_ylabel('State')\n",
    "    ax.set_title('Top 10 Most Populous States (2020)')\n",
    "    ax.grid(True, alpha=0.3, axis='x')\n",
    "    plt.tight_layout()\n",
    "    plt.show()\n",
    "else:\n",
    "    print(\"Note: Population or State not available in response\")"
   ]
  },
  {
   "cell_type": "markdown",
   "id": "2927e281",
   "metadata": {},
   "source": [
    "## 7. Advanced Query: Specific Causes of Death\n",
    "\n",
    "Query mortality data by specific ICD-10 cause codes:"
   ]
  },
  {
   "cell_type": "code",
   "execution_count": null,
   "id": "fdf5c117",
   "metadata": {},
   "outputs": [],
   "source": [
    "# Example: Heart disease deaths (I00-I09, I11, I13, I20-I51)\n",
    "try:\n",
    "    heart_disease = cdc.get_mortality_data(\n",
    "        years=[2020],\n",
    "        geo_level='state',\n",
    "        states=['06', '36'],\n",
    "        cause_of_death=['I00-I09', 'I11', 'I13', 'I20-I51']\n",
    "    )\n",
    "    \n",
    "    print(f\"✅ Retrieved {len(heart_disease)} heart disease mortality records\")\n",
    "    heart_disease.head()\n",
    "    \n",
    "except Exception as e:\n",
    "    print(f\"❌ CDC WONDER API Error: {e}\")\n",
    "    print(\"\\n⚠️  CDC API unavailable. Using sample data...\")\n",
    "    \n",
    "    heart_disease = pd.DataFrame({\n",
    "        'Year': [2020, 2020],\n",
    "        'State': ['California', 'New York'],\n",
    "        'Cause': ['Heart Disease'] * 2,\n",
    "        'Deaths': [69845, 38264],\n",
    "        'Crude Rate': [176.7, 189.4]\n",
    "    })\n",
    "    print(f\"📝 Sample data created: {len(heart_disease)} records\")\n",
    "    heart_disease"
   ]
  },
  {
   "cell_type": "markdown",
   "id": "3a23c439",
   "metadata": {},
   "source": [
    "## 8. Export Data\n",
    "\n",
    "Save your data for further analysis:"
   ]
  },
  {
   "cell_type": "code",
   "execution_count": null,
   "id": "3715ade0",
   "metadata": {},
   "outputs": [],
   "source": [
    "# Export to CSV\n",
    "mortality.to_csv('cdc_mortality_data.csv', index=False)\n",
    "natality.to_csv('cdc_natality_data.csv', index=False)\n",
    "population.to_csv('cdc_population_data.csv', index=False)\n",
    "\n",
    "print(\"✅ Data exported successfully!\")\n",
    "print(f\"  - Mortality: {len(mortality)} records\")\n",
    "print(f\"  - Natality: {len(natality)} records\")\n",
    "print(f\"  - Population: {len(population)} records\")"
   ]
  },
  {
   "cell_type": "markdown",
   "id": "e4d8f7a2",
   "metadata": {},
   "source": [
    "## 9. Summary Statistics"
   ]
  },
  {
   "cell_type": "code",
   "execution_count": null,
   "id": "4ebedf3c",
   "metadata": {},
   "outputs": [],
   "source": [
    "print(\"=\" * 60)\n",
    "print(\"CDC WONDER DATA SUMMARY\")\n",
    "print(\"=\" * 60)\n",
    "\n",
    "if not mortality.empty:\n",
    "    print(\"\\n📊 Mortality Data:\")\n",
    "    print(f\"  Total records: {len(mortality)}\")\n",
    "    if 'Deaths' in mortality.columns:\n",
    "        print(f\"  Total deaths: {mortality['Deaths'].sum():,.0f}\")\n",
    "    if 'Crude Rate' in mortality.columns:\n",
    "        print(f\"  Avg crude rate: {mortality['Crude Rate'].mean():.2f} per 100,000\")\n",
    "\n",
    "if not natality.empty:\n",
    "    print(\"\\n👶 Natality Data:\")\n",
    "    print(f\"  Total records: {len(natality)}\")\n",
    "    if 'Births' in natality.columns:\n",
    "        print(f\"  Total births: {natality['Births'].sum():,.0f}\")\n",
    "\n",
    "if not population.empty:\n",
    "    print(\"\\n🌎 Population Data:\")\n",
    "    print(f\"  Total records: {len(population)}\")\n",
    "    if 'Population' in population.columns:\n",
    "        print(f\"  Total population: {population['Population'].sum():,.0f}\")\n",
    "\n",
    "print(\"\\n\" + \"=\" * 60)"
   ]
  },
  {
   "cell_type": "markdown",
   "id": "6e692e46",
   "metadata": {},
   "source": [
    "## 10. Next Steps\n",
    "\n",
    "**Additional Resources:**\n",
    "- [CDC WONDER Documentation](https://wonder.cdc.gov/)\n",
    "- [ICD-10 Codes Reference](https://www.cdc.gov/nchs/icd/icd10cm.htm)\n",
    "- [KRL Data Connectors Documentation](https://github.com/KR-Labs/krl-data-connectors)\n",
    "\n",
    "**Related Connectors:**\n",
    "- HRSA Connector (healthcare facilities)\n",
    "- County Health Rankings Connector\n",
    "- EPA EJScreen Connector (environmental health)\n",
    "\n",
    "**Use Cases:**\n",
    "- Public health trend analysis\n",
    "- Healthcare equity research\n",
    "- Epidemiological studies\n",
    "- Population health management\n",
    "- Social determinants of health analysis\n",
    "\n",
    "---\n",
    "\n",
    "**Questions or Issues?**  \n",
    "Visit: https://github.com/KR-Labs/krl-data-connectors/issues"
   ]
  }
 ],
 "metadata": {
  "kernelspec": {
   "display_name": ".venv",
   "language": "python",
   "name": "python3"
  },
  "language_info": {
   "codemirror_mode": {
    "name": "ipython",
    "version": 3
   },
   "file_extension": ".py",
   "mimetype": "text/x-python",
   "name": "python",
   "nbconvert_exporter": "python",
   "pygments_lexer": "ipython3",
   "version": "3.13.7"
  }
 },
 "nbformat": 4,
 "nbformat_minor": 5
}
