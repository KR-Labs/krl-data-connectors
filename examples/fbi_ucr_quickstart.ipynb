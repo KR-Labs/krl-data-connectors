{
 "cells": [
  {
   "cell_type": "markdown",
   "id": "e3f58a59",
   "metadata": {},
   "source": [
    "# FBI Uniform Crime Reporting - Quick Start Guide\n",
    "\n",
    "This notebook demonstrates how to use the **FBIUCRConnector** to access FBI crime statistics.\n",
    "\n",
    "**Data Categories:**\n",
    "- **Violent Crime:** Murder, rape, robbery, aggravated assault\n",
    "- **Property Crime:** Burglary, larceny-theft, motor vehicle theft, arson\n",
    "- **Arrest Data:** Arrests by offense, demographics\n",
    "\n",
    "**Geographic Levels:**\n",
    "- National (aggregate)\n",
    "- State\n",
    "- Agency (individual police departments)\n",
    "\n",
    "**API Access:** No API key required (public access)\n",
    "\n",
    "---\n",
    "\n",
    "*© 2025 KR-Labs. Licensed under Apache-2.0.*"
   ]
  },
  {
   "cell_type": "markdown",
   "id": "26c52ffa",
   "metadata": {},
   "source": [
    "## 1. Setup and Import"
   ]
  },
  {
   "cell_type": "code",
   "execution_count": null,
   "id": "31b40b36",
   "metadata": {},
   "outputs": [],
   "source": [
    "from krl_data_connectors.crime import FBIUCRConnector\n",
    "import pandas as pd\n",
    "\n",
    "# Initialize connector\n",
    "fbi = FBIUCRConnector()\n",
    "\n",
    "print(\"✓ FBI UCR connector initialized\")\n",
    "print(f\"API Base URL: {fbi.base_url}\")"
   ]
  },
  {
   "cell_type": "markdown",
   "id": "80444519",
   "metadata": {},
   "source": [
    "## 2. Get State Crime Data\n",
    "\n",
    "Retrieve crime statistics for a state."
   ]
  },
  {
   "cell_type": "code",
   "execution_count": null,
   "id": "5a8e4739",
   "metadata": {},
   "outputs": [],
   "source": [
    "# Get Rhode Island crime data for 2023\n",
    "ri_crime = fbi.get_state_crime_data('RI', year=2023)\n",
    "\n",
    "print(f\"Retrieved crime data: {len(ri_crime)} records\")\n",
    "print(\"\\nColumns:\", ri_crime.columns.tolist())\n",
    "ri_crime.head()"
   ]
  },
  {
   "cell_type": "markdown",
   "id": "a78d5226",
   "metadata": {},
   "source": [
    "## 3. Load Crime Data from File\n",
    "\n",
    "Alternative: Load downloaded UCR data from CSV."
   ]
  },
  {
   "cell_type": "code",
   "execution_count": null,
   "id": "3d835fa7",
   "metadata": {},
   "outputs": [],
   "source": [
    "# If you have downloaded UCR data files\n",
    "# Download from: https://cde.ucr.cjis.gov/LATEST/webapp/#/pages/downloads\n",
    "\n",
    "# crime_file = \"path/to/ucr_crime_data.csv\"\n",
    "# crime_data = fbi.load_crime_data(crime_file)\n",
    "# print(f\"Loaded {len(crime_data)} crime records\")"
   ]
  },
  {
   "cell_type": "markdown",
   "id": "481a2c86",
   "metadata": {},
   "source": [
    "## 4. Extract Violent Crime\n",
    "\n",
    "Filter for violent crime categories."
   ]
  },
  {
   "cell_type": "code",
   "execution_count": null,
   "id": "ed91f2ed",
   "metadata": {},
   "outputs": [],
   "source": [
    "# Get violent crime data\n",
    "violent = fbi.get_violent_crime(ri_crime)\n",
    "\n",
    "print(\"Violent Crime Categories:\")\n",
    "print(violent.columns.tolist())\n",
    "print(\"\\nViolent Crime Data:\")\n",
    "violent.head()"
   ]
  },
  {
   "cell_type": "markdown",
   "id": "3ec7a4f9",
   "metadata": {},
   "source": [
    "## 5. Extract Property Crime\n",
    "\n",
    "Filter for property crime categories."
   ]
  },
  {
   "cell_type": "code",
   "execution_count": null,
   "id": "8cfadc98",
   "metadata": {},
   "outputs": [],
   "source": [
    "# Get property crime data\n",
    "property_crime = fbi.get_property_crime(ri_crime)\n",
    "\n",
    "print(\"Property Crime Categories:\")\n",
    "print(property_crime.columns.tolist())\n",
    "print(\"\\nProperty Crime Data:\")\n",
    "property_crime.head()"
   ]
  },
  {
   "cell_type": "markdown",
   "id": "3d3b40ba",
   "metadata": {},
   "source": [
    "## 6. Calculate Crime Rates\n",
    "\n",
    "Calculate crime rates per 100,000 population."
   ]
  },
  {
   "cell_type": "code",
   "execution_count": null,
   "id": "50fdfe74",
   "metadata": {},
   "outputs": [],
   "source": [
    "# Assuming crime data has population column\n",
    "if 'population' in ri_crime.columns and 'violent_crime' in ri_crime.columns:\n",
    "    # Calculate violent crime rate per 100,000\n",
    "    with_rates = fbi.calculate_crime_rate(\n",
    "        ri_crime,\n",
    "        crime_col='violent_crime',\n",
    "        population_col='population',\n",
    "        per_capita=100000\n",
    "    )\n",
    "    \n",
    "    print(\"Crime Rates (per 100,000 population):\")\n",
    "    print(with_rates[['state', 'violent_crime', 'population', 'violent_crime_rate']].head())\n",
    "else:\n",
    "    print(\"Sample crime rate calculation:\")\n",
    "    print(\"Violent crimes: 500\")\n",
    "    print(\"Population: 180,000\")\n",
    "    print(f\"Rate per 100k: {(500/180000)*100000:.2f}\")"
   ]
  },
  {
   "cell_type": "markdown",
   "id": "5465a3c1",
   "metadata": {},
   "source": [
    "## 7. Compare States\n",
    "\n",
    "Compare crime statistics across multiple states."
   ]
  },
  {
   "cell_type": "code",
   "execution_count": null,
   "id": "a2c469d3",
   "metadata": {},
   "outputs": [],
   "source": [
    "# Compare Northeast states\n",
    "states = ['RI', 'MA', 'CT']\n",
    "comparison = fbi.compare_states(states, year=2023, crime_type='violent')\n",
    "\n",
    "print(f\"State Comparison: {len(comparison)} records\")\n",
    "print(\"\\nViolent Crime by State:\")\n",
    "comparison.head(10)"
   ]
  },
  {
   "cell_type": "markdown",
   "id": "e5ddefa3",
   "metadata": {},
   "source": [
    "## 8. Year-over-Year Analysis\n",
    "\n",
    "Calculate crime changes between years."
   ]
  },
  {
   "cell_type": "code",
   "execution_count": null,
   "id": "1952366c",
   "metadata": {},
   "outputs": [],
   "source": [
    "# Get crime data for two consecutive years\n",
    "crime_2023 = fbi.get_state_crime_data('RI', year=2023)\n",
    "crime_2022 = fbi.get_state_crime_data('RI', year=2022)\n",
    "\n",
    "# Calculate year-over-year change\n",
    "if not crime_2023.empty and not crime_2022.empty and 'violent_crime' in crime_2023.columns:\n",
    "    yoy_change = fbi.calculate_yoy_change(\n",
    "        crime_2023,\n",
    "        crime_2022,\n",
    "        'violent_crime'\n",
    "    )\n",
    "    \n",
    "    print(\"Year-over-Year Changes:\")\n",
    "    print(yoy_change[['state', 'violent_crime_current', 'violent_crime_previous',\n",
    "                       'yoy_change', 'yoy_change_pct']].round(2))\n",
    "else:\n",
    "    print(\"Example YoY calculation:\")\n",
    "    print(\"2023: 500 violent crimes\")\n",
    "    print(\"2022: 450 violent crimes\")\n",
    "    print(f\"Change: +50 (+11.1%)\")"
   ]
  },
  {
   "cell_type": "markdown",
   "id": "e7298617",
   "metadata": {},
   "source": [
    "## 9. Multi-Year Trends\n",
    "\n",
    "Analyze crime trends over multiple years."
   ]
  },
  {
   "cell_type": "code",
   "execution_count": null,
   "id": "4b33f565",
   "metadata": {},
   "outputs": [],
   "source": [
    "# Get 5-year trend data\n",
    "trends = fbi.get_trend_data('RI', start_year=2019, end_year=2023)\n",
    "\n",
    "if not trends.empty:\n",
    "    print(f\"Retrieved {len(trends)} years of trend data\")\n",
    "    print(\"\\nCrime Trends (2019-2023):\")\n",
    "    if 'violent_crime' in trends.columns:\n",
    "        print(trends[['year', 'violent_crime', 'property_crime']].sort_values('year'))\n",
    "    else:\n",
    "        print(trends.head())\n",
    "else:\n",
    "    print(\"No trend data available\")"
   ]
  },
  {
   "cell_type": "markdown",
   "id": "6f497c3b",
   "metadata": {},
   "source": [
    "## 10. Crime Category Breakdown\n",
    "\n",
    "Analyze specific crime types."
   ]
  },
  {
   "cell_type": "code",
   "execution_count": null,
   "id": "31cc1872",
   "metadata": {},
   "outputs": [],
   "source": [
    "# Show violent crime categories\n",
    "print(\"Violent Crime Types:\")\n",
    "for crime in fbi.violent_crimes:\n",
    "    print(f\"  - {crime}\")\n",
    "\n",
    "print(\"\\nProperty Crime Types:\")\n",
    "for crime in fbi.property_crimes:\n",
    "    print(f\"  - {crime}\")"
   ]
  },
  {
   "cell_type": "markdown",
   "id": "d1a5fb2b",
   "metadata": {},
   "source": [
    "## 11. Export Results\n",
    "\n",
    "Save crime data for further analysis."
   ]
  },
  {
   "cell_type": "code",
   "execution_count": null,
   "id": "a1499e5c",
   "metadata": {},
   "outputs": [],
   "source": [
    "# Export state crime data\n",
    "if not ri_crime.empty:\n",
    "    fbi.export_to_csv(ri_crime, 'ri_crime_2023.csv')\n",
    "    print(\"✓ Crime data exported\")\n",
    "\n",
    "# Export comparison\n",
    "if not comparison.empty:\n",
    "    fbi.export_to_csv(comparison, 'state_crime_comparison.csv')\n",
    "    print(\"✓ Comparison exported\")"
   ]
  },
  {
   "cell_type": "markdown",
   "id": "0df32973",
   "metadata": {},
   "source": [
    "## Next Steps\n",
    "\n",
    "**Explore More:**\n",
    "- Agency-level analysis (individual police departments)\n",
    "- Arrest statistics by demographics\n",
    "- Hate crime data\n",
    "- Law enforcement officer statistics\n",
    "- Clearance rates\n",
    "\n",
    "**Resources:**\n",
    "- [Crime Data Explorer](https://cde.ucr.cjis.gov/LATEST/webapp/)\n",
    "- [FBI UCR Documentation](https://ucr.fbi.gov/)\n",
    "- [API Documentation](https://cde.ucr.cjis.gov/LATEST/webapp/#/pages/docApi)\n",
    "\n",
    "**Analysis Ideas:**\n",
    "- Seasonal crime patterns\n",
    "- Urban vs rural crime rates\n",
    "- Crime hotspot identification\n",
    "- Policy impact assessment\n",
    "- Resource allocation optimization"
   ]
  }
 ],
 "metadata": {
  "language_info": {
   "name": "python"
  }
 },
 "nbformat": 4,
 "nbformat_minor": 5
}
