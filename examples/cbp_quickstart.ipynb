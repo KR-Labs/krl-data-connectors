{
 "cells": [
  {
   "cell_type": "markdown",
   "id": "2386ad4b",
   "metadata": {},
   "source": [
    "# Census County Business Patterns (CBP) - Quick Start Guide\n",
    "\n",
    "© 2025 KR-Labs. All rights reserved.  \n",
    "**Part of the KR-Labs Analytics Suite**\n",
    "\n",
    "---\n",
    "\n",
    "## Overview\n",
    "\n",
    "This notebook demonstrates the **County Business Patterns (CBP) Connector** for accessing U.S. Census Bureau business statistics data.\n",
    "\n",
    "**What is CBP?**\n",
    "- Business establishment counts by industry (NAICS codes)\n",
    "- Employment levels and annual payroll\n",
    "- County, state, and metropolitan area data\n",
    "- Historical data back to 1986\n",
    "\n",
    "**Use Cases:**\n",
    "- 📊 Industry composition analysis\n",
    "- 👥 Employment by sector\n",
    "- 💰 Payroll and wage analysis\n",
    "- 🏢 Business establishment trends\n",
    "- 📍 Geographic economic patterns\n",
    "\n",
    "**API Information:**\n",
    "- Source: U.S. Census Bureau\n",
    "- API Key: Required (free at https://api.census.gov/data/key_signup.html)\n",
    "- Rate Limit: Generous (no documented limit)\n",
    "- Data Format: JSON → pandas DataFrame"
   ]
  },
  {
   "cell_type": "markdown",
   "id": "cb1e49d4",
   "metadata": {},
   "source": [
    "## 1. Setup and Installation"
   ]
  },
  {
   "cell_type": "code",
   "execution_count": 1,
   "id": "aa6f5911",
   "metadata": {},
   "outputs": [
    {
     "name": "stdout",
     "output_type": "stream",
     "text": [
      "✅ Setup complete!\n"
     ]
    }
   ],
   "source": [
    "# Install krl-data-connectors (if not already installed)\n",
    "# !pip install krl-data-connectors\n",
    "\n",
    "# Import required libraries\n",
    "import os\n",
    "import pandas as pd\n",
    "import matplotlib.pyplot as plt\n",
    "import seaborn as sns\n",
    "from krl_data_connectors import CountyBusinessPatternsConnector\n",
    "\n",
    "# Set display options\n",
    "pd.set_option('display.max_columns', None)\n",
    "pd.set_option('display.width', None)\n",
    "sns.set_style('whitegrid')\n",
    "\n",
    "print(\"✅ Setup complete!\")"
   ]
  },
  {
   "cell_type": "markdown",
   "id": "9c3422fb",
   "metadata": {},
   "source": [
    "## 2. API Key Configuration\n",
    "\n",
    "The CBP connector requires a Census Bureau API key. Get yours at: https://api.census.gov/data/key_signup.html\n",
    "\n",
    "**Option 1: Environment Variable (Recommended)**\n",
    "```bash\n",
    "export CENSUS_API_KEY=\"your_key_here\"\n",
    "```\n",
    "\n",
    "**Option 2: Pass directly to connector**\n",
    "```python\n",
    "cbp = CountyBusinessPatternsConnector(api_key=\"your_key_here\")\n",
    "```"
   ]
  },
  {
   "cell_type": "code",
   "execution_count": 2,
   "id": "40efaaae",
   "metadata": {},
   "outputs": [
    {
     "name": "stdout",
     "output_type": "stream",
     "text": [
      "{\"timestamp\": \"2025-10-19T20:33:17.280285Z\", \"level\": \"INFO\", \"name\": \"CountyBusinessPatternsConnector\", \"message\": \"Connector initialized\", \"source\": {\"file\": \"base_connector.py\", \"line\": 82, \"function\": \"__init__\"}, \"levelname\": \"INFO\", \"taskName\": \"Task-19\", \"connector\": \"CountyBusinessPatternsConnector\", \"cache_dir\": \"~/.krl_cache\", \"cache_ttl\": 3600, \"has_api_key\": true}\n",
      "{\"timestamp\": \"2025-10-19T20:33:17.280691Z\", \"level\": \"INFO\", \"name\": \"CountyBusinessPatternsConnector\", \"message\": \"Initialized County Business Patterns connector\", \"source\": {\"file\": \"cbp_connector.py\", \"line\": 81, \"function\": \"__init__\"}, \"levelname\": \"INFO\", \"taskName\": \"Task-19\"}\n",
      "✅ API key loaded: 199343249e...\n",
      "{\"timestamp\": \"2025-10-19T20:33:17.280691Z\", \"level\": \"INFO\", \"name\": \"CountyBusinessPatternsConnector\", \"message\": \"Initialized County Business Patterns connector\", \"source\": {\"file\": \"cbp_connector.py\", \"line\": 81, \"function\": \"__init__\"}, \"levelname\": \"INFO\", \"taskName\": \"Task-19\"}\n",
      "✅ API key loaded: 199343249e...\n"
     ]
    }
   ],
   "source": [
    "# Initialize connector (will automatically detect CENSUS_API_KEY from environment)\n",
    "cbp = CountyBusinessPatternsConnector()\n",
    "\n",
    "# Verify API key is loaded\n",
    "if cbp.api_key:\n",
    "    print(f\"✅ API key loaded: {cbp.api_key[:10]}...\")\n",
    "else:\n",
    "    print(\"⚠️  No API key found. Please set CENSUS_API_KEY environment variable.\")\n",
    "    print(\"   Get your key at: https://api.census.gov/data/key_signup.html\")"
   ]
  },
  {
   "cell_type": "markdown",
   "id": "65a8d95b",
   "metadata": {},
   "source": [
    "## 3. Basic Usage: State-Level Data\n",
    "\n",
    "Let's start by fetching business data for a single state."
   ]
  },
  {
   "cell_type": "code",
   "execution_count": 3,
   "id": "d9072a77",
   "metadata": {},
   "outputs": [
    {
     "name": "stdout",
     "output_type": "stream",
     "text": [
      "{\"timestamp\": \"2025-10-19T20:33:17.291246Z\", \"level\": \"INFO\", \"name\": \"CountyBusinessPatternsConnector\", \"message\": \"Fetching CBP state data: year=2021, state=44, naics=44\", \"source\": {\"file\": \"cbp_connector.py\", \"line\": 266, \"function\": \"get_state_data\"}, \"levelname\": \"INFO\", \"taskName\": \"Task-21\"}\n",
      "{\"timestamp\": \"2025-10-19T20:33:17.294159Z\", \"level\": \"INFO\", \"name\": \"CountyBusinessPatternsConnector\", \"message\": \"Cache hit\", \"source\": {\"file\": \"base_connector.py\", \"line\": 178, \"function\": \"_make_request\"}, \"levelname\": \"INFO\", \"taskName\": \"Task-21\", \"url\": \"https://api.census.gov/data/2021/cbp\", \"cache_key\": \"1bf34f24d8608554\"}\n",
      "{\"timestamp\": \"2025-10-19T20:33:17.294159Z\", \"level\": \"INFO\", \"name\": \"CountyBusinessPatternsConnector\", \"message\": \"Cache hit\", \"source\": {\"file\": \"base_connector.py\", \"line\": 178, \"function\": \"_make_request\"}, \"levelname\": \"INFO\", \"taskName\": \"Task-21\", \"url\": \"https://api.census.gov/data/2021/cbp\", \"cache_key\": \"1bf34f24d8608554\"}\n",
      "{\"timestamp\": \"2025-10-19T20:33:17.303234Z\", \"level\": \"INFO\", \"name\": \"CountyBusinessPatternsConnector\", \"message\": \"Retrieved 103 CBP state records\", \"source\": {\"file\": \"cbp_connector.py\", \"line\": 284, \"function\": \"get_state_data\"}, \"levelname\": \"INFO\", \"taskName\": \"Task-21\"}\n",
      "📊 Retrieved 103 records for Rhode Island retail trade\n",
      "\n",
      "================================================================================\n",
      "Sample Data:\n",
      "================================================================================\n",
      "    NAICS2017          NAME  ESTAB    EMP   PAYANN\n",
      "522     44-45  Rhode Island   3566  47172  1672377\n",
      "523       441  Rhode Island    409   5261   326613\n",
      "524    441110  Rhode Island     68   3078   236401\n",
      "525     44112  Rhode Island    108    416    20101\n",
      "526      4413  Rhode Island    169   1404    49730\n",
      "527    441310  Rhode Island    123   1075    35038\n",
      "528    441320  Rhode Island     46    329    14692\n",
      "529      4421  Rhode Island     57    429    24049\n",
      "530     44211  Rhode Island     57    429    24049\n",
      "531    444210  Rhode Island     13     77     3668\n",
      "{\"timestamp\": \"2025-10-19T20:33:17.303234Z\", \"level\": \"INFO\", \"name\": \"CountyBusinessPatternsConnector\", \"message\": \"Retrieved 103 CBP state records\", \"source\": {\"file\": \"cbp_connector.py\", \"line\": 284, \"function\": \"get_state_data\"}, \"levelname\": \"INFO\", \"taskName\": \"Task-21\"}\n",
      "📊 Retrieved 103 records for Rhode Island retail trade\n",
      "\n",
      "================================================================================\n",
      "Sample Data:\n",
      "================================================================================\n",
      "    NAICS2017          NAME  ESTAB    EMP   PAYANN\n",
      "522     44-45  Rhode Island   3566  47172  1672377\n",
      "523       441  Rhode Island    409   5261   326613\n",
      "524    441110  Rhode Island     68   3078   236401\n",
      "525     44112  Rhode Island    108    416    20101\n",
      "526      4413  Rhode Island    169   1404    49730\n",
      "527    441310  Rhode Island    123   1075    35038\n",
      "528    441320  Rhode Island     46    329    14692\n",
      "529      4421  Rhode Island     57    429    24049\n",
      "530     44211  Rhode Island     57    429    24049\n",
      "531    444210  Rhode Island     13     77     3668\n"
     ]
    }
   ],
   "source": [
    "# Get retail trade data for Rhode Island (FIPS code: 44)\n",
    "retail_ri = cbp.get_state_data(\n",
    "    year=2021,\n",
    "    state='44',  # Rhode Island\n",
    "    naics='44'   # Retail trade sector\n",
    ")\n",
    "\n",
    "print(f\"📊 Retrieved {len(retail_ri)} records for Rhode Island retail trade\")\n",
    "print(\"\\n\" + \"=\"*80)\n",
    "print(\"Sample Data:\")\n",
    "print(\"=\"*80)\n",
    "print(retail_ri[['NAICS2017', 'NAME', 'ESTAB', 'EMP', 'PAYANN']].head(10))"
   ]
  },
  {
   "cell_type": "markdown",
   "id": "e5b5af3c",
   "metadata": {},
   "source": [
    "## 4. NAICS Industry Codes\n",
    "\n",
    "CBP data is organized by NAICS (North American Industry Classification System) codes.\n",
    "\n",
    "**Common NAICS Sectors:**\n",
    "- `11` - Agriculture, Forestry, Fishing\n",
    "- `21` - Mining, Quarrying, Oil & Gas\n",
    "- `22` - Utilities\n",
    "- `23` - Construction\n",
    "- `31-33` - Manufacturing\n",
    "- `42` - Wholesale Trade\n",
    "- `44-45` - Retail Trade\n",
    "- `48-49` - Transportation & Warehousing\n",
    "- `51` - Information\n",
    "- `52` - Finance & Insurance\n",
    "- `53` - Real Estate & Rental\n",
    "- `54` - Professional & Technical Services\n",
    "- `55` - Management of Companies\n",
    "- `56` - Administrative Support\n",
    "- `61` - Educational Services\n",
    "- `62` - Health Care & Social Assistance\n",
    "- `71` - Arts, Entertainment, Recreation\n",
    "- `72` - Accommodation & Food Services\n",
    "- `81` - Other Services"
   ]
  },
  {
   "cell_type": "code",
   "execution_count": 4,
   "id": "62c40643",
   "metadata": {},
   "outputs": [
    {
     "name": "stdout",
     "output_type": "stream",
     "text": [
      "{\"timestamp\": \"2025-10-19T20:33:17.320823Z\", \"level\": \"INFO\", \"name\": \"CountyBusinessPatternsConnector\", \"message\": \"Fetching CBP state data: year=2021, state=06, naics=31\", \"source\": {\"file\": \"cbp_connector.py\", \"line\": 266, \"function\": \"get_state_data\"}, \"levelname\": \"INFO\", \"taskName\": \"Task-23\"}\n",
      "{\"timestamp\": \"2025-10-19T20:33:17.327757Z\", \"level\": \"INFO\", \"name\": \"CountyBusinessPatternsConnector\", \"message\": \"Cache hit\", \"source\": {\"file\": \"base_connector.py\", \"line\": 178, \"function\": \"_make_request\"}, \"levelname\": \"INFO\", \"taskName\": \"Task-23\", \"url\": \"https://api.census.gov/data/2021/cbp\", \"cache_key\": \"e62259418d5d3cee\"}\n",
      "{\"timestamp\": \"2025-10-19T20:33:17.331289Z\", \"level\": \"INFO\", \"name\": \"CountyBusinessPatternsConnector\", \"message\": \"Retrieved 147 CBP state records\", \"source\": {\"file\": \"cbp_connector.py\", \"line\": 284, \"function\": \"get_state_data\"}, \"levelname\": \"INFO\", \"taskName\": \"Task-23\"}\n",
      "{\"timestamp\": \"2025-10-19T20:33:17.327757Z\", \"level\": \"INFO\", \"name\": \"CountyBusinessPatternsConnector\", \"message\": \"Cache hit\", \"source\": {\"file\": \"base_connector.py\", \"line\": 178, \"function\": \"_make_request\"}, \"levelname\": \"INFO\", \"taskName\": \"Task-23\", \"url\": \"https://api.census.gov/data/2021/cbp\", \"cache_key\": \"e62259418d5d3cee\"}\n",
      "{\"timestamp\": \"2025-10-19T20:33:17.331289Z\", \"level\": \"INFO\", \"name\": \"CountyBusinessPatternsConnector\", \"message\": \"Retrieved 147 CBP state records\", \"source\": {\"file\": \"cbp_connector.py\", \"line\": 284, \"function\": \"get_state_data\"}, \"levelname\": \"INFO\", \"taskName\": \"Task-23\"}\n",
      "{\"timestamp\": \"2025-10-19T20:33:17.331786Z\", \"level\": \"INFO\", \"name\": \"CountyBusinessPatternsConnector\", \"message\": \"Fetching CBP state data: year=2021, state=06, naics=44\", \"source\": {\"file\": \"cbp_connector.py\", \"line\": 266, \"function\": \"get_state_data\"}, \"levelname\": \"INFO\", \"taskName\": \"Task-23\"}\n",
      "{\"timestamp\": \"2025-10-19T20:33:17.333032Z\", \"level\": \"INFO\", \"name\": \"CountyBusinessPatternsConnector\", \"message\": \"Cache hit\", \"source\": {\"file\": \"base_connector.py\", \"line\": 178, \"function\": \"_make_request\"}, \"levelname\": \"INFO\", \"taskName\": \"Task-23\", \"url\": \"https://api.census.gov/data/2021/cbp\", \"cache_key\": \"e62259418d5d3cee\"}\n",
      "{\"timestamp\": \"2025-10-19T20:33:17.338145Z\", \"level\": \"INFO\", \"name\": \"CountyBusinessPatternsConnector\", \"message\": \"Retrieved 107 CBP state records\", \"source\": {\"file\": \"cbp_connector.py\", \"line\": 284, \"function\": \"get_state_data\"}, \"levelname\": \"INFO\", \"taskName\": \"Task-23\"}\n",
      "{\"timestamp\": \"2025-10-19T20:33:17.338636Z\", \"level\": \"INFO\", \"name\": \"CountyBusinessPatternsConnector\", \"message\": \"Fetching CBP state data: year=2021, state=06, naics=54\", \"source\": {\"file\": \"cbp_connector.py\", \"line\": 266, \"function\": \"get_state_data\"}, \"levelname\": \"INFO\", \"taskName\": \"Task-23\"}\n",
      "{\"timestamp\": \"2025-10-19T20:33:17.340182Z\", \"level\": \"INFO\", \"name\": \"CountyBusinessPatternsConnector\", \"message\": \"Cache hit\", \"source\": {\"file\": \"base_connector.py\", \"line\": 178, \"function\": \"_make_request\"}, \"levelname\": \"INFO\", \"taskName\": \"Task-23\", \"url\": \"https://api.census.gov/data/2021/cbp\", \"cache_key\": \"e62259418d5d3cee\"}\n",
      "{\"timestamp\": \"2025-10-19T20:33:17.331786Z\", \"level\": \"INFO\", \"name\": \"CountyBusinessPatternsConnector\", \"message\": \"Fetching CBP state data: year=2021, state=06, naics=44\", \"source\": {\"file\": \"cbp_connector.py\", \"line\": 266, \"function\": \"get_state_data\"}, \"levelname\": \"INFO\", \"taskName\": \"Task-23\"}\n",
      "{\"timestamp\": \"2025-10-19T20:33:17.333032Z\", \"level\": \"INFO\", \"name\": \"CountyBusinessPatternsConnector\", \"message\": \"Cache hit\", \"source\": {\"file\": \"base_connector.py\", \"line\": 178, \"function\": \"_make_request\"}, \"levelname\": \"INFO\", \"taskName\": \"Task-23\", \"url\": \"https://api.census.gov/data/2021/cbp\", \"cache_key\": \"e62259418d5d3cee\"}\n",
      "{\"timestamp\": \"2025-10-19T20:33:17.338145Z\", \"level\": \"INFO\", \"name\": \"CountyBusinessPatternsConnector\", \"message\": \"Retrieved 107 CBP state records\", \"source\": {\"file\": \"cbp_connector.py\", \"line\": 284, \"function\": \"get_state_data\"}, \"levelname\": \"INFO\", \"taskName\": \"Task-23\"}\n",
      "{\"timestamp\": \"2025-10-19T20:33:17.338636Z\", \"level\": \"INFO\", \"name\": \"CountyBusinessPatternsConnector\", \"message\": \"Fetching CBP state data: year=2021, state=06, naics=54\", \"source\": {\"file\": \"cbp_connector.py\", \"line\": 266, \"function\": \"get_state_data\"}, \"levelname\": \"INFO\", \"taskName\": \"Task-23\"}\n",
      "{\"timestamp\": \"2025-10-19T20:33:17.340182Z\", \"level\": \"INFO\", \"name\": \"CountyBusinessPatternsConnector\", \"message\": \"Cache hit\", \"source\": {\"file\": \"base_connector.py\", \"line\": 178, \"function\": \"_make_request\"}, \"levelname\": \"INFO\", \"taskName\": \"Task-23\", \"url\": \"https://api.census.gov/data/2021/cbp\", \"cache_key\": \"e62259418d5d3cee\"}\n",
      "{\"timestamp\": \"2025-10-19T20:33:17.343881Z\", \"level\": \"INFO\", \"name\": \"CountyBusinessPatternsConnector\", \"message\": \"Retrieved 93 CBP state records\", \"source\": {\"file\": \"cbp_connector.py\", \"line\": 284, \"function\": \"get_state_data\"}, \"levelname\": \"INFO\", \"taskName\": \"Task-23\"}\n",
      "{\"timestamp\": \"2025-10-19T20:33:17.344390Z\", \"level\": \"INFO\", \"name\": \"CountyBusinessPatternsConnector\", \"message\": \"Fetching CBP state data: year=2021, state=06, naics=62\", \"source\": {\"file\": \"cbp_connector.py\", \"line\": 266, \"function\": \"get_state_data\"}, \"levelname\": \"INFO\", \"taskName\": \"Task-23\"}\n",
      "{\"timestamp\": \"2025-10-19T20:33:17.345479Z\", \"level\": \"INFO\", \"name\": \"CountyBusinessPatternsConnector\", \"message\": \"Cache hit\", \"source\": {\"file\": \"base_connector.py\", \"line\": 178, \"function\": \"_make_request\"}, \"levelname\": \"INFO\", \"taskName\": \"Task-23\", \"url\": \"https://api.census.gov/data/2021/cbp\", \"cache_key\": \"e62259418d5d3cee\"}\n",
      "{\"timestamp\": \"2025-10-19T20:33:17.348376Z\", \"level\": \"INFO\", \"name\": \"CountyBusinessPatternsConnector\", \"message\": \"Retrieved 92 CBP state records\", \"source\": {\"file\": \"cbp_connector.py\", \"line\": 284, \"function\": \"get_state_data\"}, \"levelname\": \"INFO\", \"taskName\": \"Task-23\"}\n",
      "📊 California Industry Summary (2021)\n",
      "================================================================================\n",
      "             Industry NAICS  Establishments  Employment  Annual Payroll ($M)\n",
      "        Manufacturing    31           72854     2105938           155.360077\n",
      "         Retail Trade    44          404785     6157705           250.690193\n",
      "Professional Services    54          703815     6643525           890.796700\n",
      "           Healthcare    62          611455    10628335           739.680235\n",
      "{\"timestamp\": \"2025-10-19T20:33:17.343881Z\", \"level\": \"INFO\", \"name\": \"CountyBusinessPatternsConnector\", \"message\": \"Retrieved 93 CBP state records\", \"source\": {\"file\": \"cbp_connector.py\", \"line\": 284, \"function\": \"get_state_data\"}, \"levelname\": \"INFO\", \"taskName\": \"Task-23\"}\n",
      "{\"timestamp\": \"2025-10-19T20:33:17.344390Z\", \"level\": \"INFO\", \"name\": \"CountyBusinessPatternsConnector\", \"message\": \"Fetching CBP state data: year=2021, state=06, naics=62\", \"source\": {\"file\": \"cbp_connector.py\", \"line\": 266, \"function\": \"get_state_data\"}, \"levelname\": \"INFO\", \"taskName\": \"Task-23\"}\n",
      "{\"timestamp\": \"2025-10-19T20:33:17.345479Z\", \"level\": \"INFO\", \"name\": \"CountyBusinessPatternsConnector\", \"message\": \"Cache hit\", \"source\": {\"file\": \"base_connector.py\", \"line\": 178, \"function\": \"_make_request\"}, \"levelname\": \"INFO\", \"taskName\": \"Task-23\", \"url\": \"https://api.census.gov/data/2021/cbp\", \"cache_key\": \"e62259418d5d3cee\"}\n",
      "{\"timestamp\": \"2025-10-19T20:33:17.348376Z\", \"level\": \"INFO\", \"name\": \"CountyBusinessPatternsConnector\", \"message\": \"Retrieved 92 CBP state records\", \"source\": {\"file\": \"cbp_connector.py\", \"line\": 284, \"function\": \"get_state_data\"}, \"levelname\": \"INFO\", \"taskName\": \"Task-23\"}\n",
      "📊 California Industry Summary (2021)\n",
      "================================================================================\n",
      "             Industry NAICS  Establishments  Employment  Annual Payroll ($M)\n",
      "        Manufacturing    31           72854     2105938           155.360077\n",
      "         Retail Trade    44          404785     6157705           250.690193\n",
      "Professional Services    54          703815     6643525           890.796700\n",
      "           Healthcare    62          611455    10628335           739.680235\n"
     ]
    }
   ],
   "source": [
    "# Compare multiple industries for California\n",
    "industries = {\n",
    "    '31': 'Manufacturing',\n",
    "    '44': 'Retail Trade',\n",
    "    '54': 'Professional Services',\n",
    "    '62': 'Healthcare'\n",
    "}\n",
    "\n",
    "ca_industry_data = []\n",
    "\n",
    "for naics, name in industries.items():\n",
    "    data = cbp.get_state_data(year=2021, state='06', naics=naics)\n",
    "    if not data.empty:\n",
    "        total_est = data['ESTAB'].sum()\n",
    "        total_emp = data['EMP'].sum()\n",
    "        total_pay = data['PAYANN'].sum()\n",
    "        ca_industry_data.append({\n",
    "            'Industry': name,\n",
    "            'NAICS': naics,\n",
    "            'Establishments': total_est,\n",
    "            'Employment': total_emp,\n",
    "            'Annual Payroll ($M)': total_pay / 1_000_000\n",
    "        })\n",
    "\n",
    "ca_summary = pd.DataFrame(ca_industry_data)\n",
    "print(\"📊 California Industry Summary (2021)\")\n",
    "print(\"=\"*80)\n",
    "print(ca_summary.to_string(index=False))"
   ]
  },
  {
   "cell_type": "markdown",
   "id": "b7200cc4",
   "metadata": {},
   "source": [
    "## 5. Visualization: Top Industries by Employment"
   ]
  },
  {
   "cell_type": "code",
   "execution_count": 5,
   "id": "843d6bef",
   "metadata": {},
   "outputs": [
    {
     "data": {
      "image/png": "[encoded data removed]",
      "text/plain": [
       "<Figure size 1000x600 with 1 Axes>"
      ]
     },
     "metadata": {},
     "output_type": "display_data"
    },
    {
     "name": "stdout",
     "output_type": "stream",
     "text": [
      "💡 Insight: Healthcare has the most employment in California\n"
     ]
    }
   ],
   "source": [
    "# Create bar chart of industry employment\n",
    "fig, ax = plt.subplots(figsize=(10, 6))\n",
    "ca_summary_sorted = ca_summary.sort_values('Employment', ascending=True)\n",
    "ax.barh(ca_summary_sorted['Industry'], ca_summary_sorted['Employment'], color='steelblue')\n",
    "ax.set_xlabel('Total Employment', fontsize=12)\n",
    "ax.set_title('California Employment by Industry (2021)', fontsize=14, fontweight='bold')\n",
    "ax.ticklabel_format(style='plain', axis='x')\n",
    "for i, v in enumerate(ca_summary_sorted['Employment']):\n",
    "    ax.text(v + 10000, i, f'{int(v):,}', va='center', fontsize=10)\n",
    "plt.tight_layout()\n",
    "plt.show()\n",
    "\n",
    "print(f\"💡 Insight: {ca_summary_sorted.iloc[-1]['Industry']} has the most employment in California\")"
   ]
  },
  {
   "cell_type": "markdown",
   "id": "1bea52f2",
   "metadata": {},
   "source": [
    "## 6. County-Level Analysis\n",
    "\n",
    "Get detailed data for counties within a state."
   ]
  },
  {
   "cell_type": "code",
   "execution_count": 6,
   "id": "be98aef5",
   "metadata": {},
   "outputs": [
    {
     "name": "stdout",
     "output_type": "stream",
     "text": [
      "{\"timestamp\": \"2025-10-19T20:33:17.424064Z\", \"level\": \"INFO\", \"name\": \"CountyBusinessPatternsConnector\", \"message\": \"Fetching CBP county data: year=2021, state=06, county=None, naics=54\", \"source\": {\"file\": \"cbp_connector.py\", \"line\": 192, \"function\": \"get_county_data\"}, \"levelname\": \"INFO\", \"taskName\": \"Task-27\"}\n",
      "{\"timestamp\": \"2025-10-19T20:33:17.480815Z\", \"level\": \"INFO\", \"name\": \"CountyBusinessPatternsConnector\", \"message\": \"Cache hit\", \"source\": {\"file\": \"base_connector.py\", \"line\": 178, \"function\": \"_make_request\"}, \"levelname\": \"INFO\", \"taskName\": \"Task-27\", \"url\": \"https://api.census.gov/data/2021/cbp\", \"cache_key\": \"aebcd782e77ca49d\"}\n",
      "{\"timestamp\": \"2025-10-19T20:33:17.480815Z\", \"level\": \"INFO\", \"name\": \"CountyBusinessPatternsConnector\", \"message\": \"Cache hit\", \"source\": {\"file\": \"base_connector.py\", \"line\": 178, \"function\": \"_make_request\"}, \"levelname\": \"INFO\", \"taskName\": \"Task-27\", \"url\": \"https://api.census.gov/data/2021/cbp\", \"cache_key\": \"aebcd782e77ca49d\"}\n",
      "{\"timestamp\": \"2025-10-19T20:33:17.629707Z\", \"level\": \"INFO\", \"name\": \"CountyBusinessPatternsConnector\", \"message\": \"Retrieved 10,589 CBP county records\", \"source\": {\"file\": \"cbp_connector.py\", \"line\": 214, \"function\": \"get_county_data\"}, \"levelname\": \"INFO\", \"taskName\": \"Task-27\"}\n",
      "📊 Retrieved data for 10589 records across California counties\n",
      "\n",
      "Top 10 Counties by Tech Employment:\n",
      "================================================================================\n",
      "                            NAME  ESTAB     EMP  Avg Salary ($)\n",
      "  Los Angeles County, California 420581 1543460           109.0\n",
      "    San Diego County, California 157936  862400           142.0\n",
      "  Santa Clara County, California  88767  801695           215.0\n",
      "       Orange County, California 177637  663580           106.0\n",
      "San Francisco County, California  76523  632938           202.0\n",
      "      Alameda County, California  66579  388820           123.0\n",
      "    San Mateo County, California  34229  250450           191.0\n",
      "   Sacramento County, California  42722  214287           112.0\n",
      " Contra Costa County, California  38410  126430           111.0\n",
      "      Ventura County, California  29249  114516           130.0\n",
      "{\"timestamp\": \"2025-10-19T20:33:17.629707Z\", \"level\": \"INFO\", \"name\": \"CountyBusinessPatternsConnector\", \"message\": \"Retrieved 10,589 CBP county records\", \"source\": {\"file\": \"cbp_connector.py\", \"line\": 214, \"function\": \"get_county_data\"}, \"levelname\": \"INFO\", \"taskName\": \"Task-27\"}\n",
      "📊 Retrieved data for 10589 records across California counties\n",
      "\n",
      "Top 10 Counties by Tech Employment:\n",
      "================================================================================\n",
      "                            NAME  ESTAB     EMP  Avg Salary ($)\n",
      "  Los Angeles County, California 420581 1543460           109.0\n",
      "    San Diego County, California 157936  862400           142.0\n",
      "  Santa Clara County, California  88767  801695           215.0\n",
      "       Orange County, California 177637  663580           106.0\n",
      "San Francisco County, California  76523  632938           202.0\n",
      "      Alameda County, California  66579  388820           123.0\n",
      "    San Mateo County, California  34229  250450           191.0\n",
      "   Sacramento County, California  42722  214287           112.0\n",
      " Contra Costa County, California  38410  126430           111.0\n",
      "      Ventura County, California  29249  114516           130.0\n"
     ]
    }
   ],
   "source": [
    "# Get technology sector data for all California counties\n",
    "tech_counties = cbp.get_county_data(\n",
    "    year=2021,\n",
    "    state='06',  # California\n",
    "    naics='54'   # Professional & Technical Services\n",
    ")\n",
    "\n",
    "print(f\"📊 Retrieved data for {len(tech_counties)} records across California counties\")\n",
    "print(\"\\nTop 10 Counties by Tech Employment:\")\n",
    "print(\"=\"*80)\n",
    "\n",
    "# Aggregate by county and get top 10\n",
    "county_totals = tech_counties.groupby('NAME').agg({\n",
    "    'ESTAB': 'sum',\n",
    "    'EMP': 'sum',\n",
    "    'PAYANN': 'sum'\n",
    "}).reset_index()\n",
    "\n",
    "county_totals = county_totals.sort_values('EMP', ascending=False).head(10)\n",
    "county_totals['Avg Salary ($)'] = (county_totals['PAYANN'] / county_totals['EMP']).round(0)\n",
    "\n",
    "print(county_totals[['NAME', 'ESTAB', 'EMP', 'Avg Salary ($)']].to_string(index=False))"
   ]
  },
  {
   "cell_type": "markdown",
   "id": "25d7367d",
   "metadata": {},
   "source": [
    "## 7. Caching and Performance\n",
    "\n",
    "The CBP connector includes built-in caching to reduce API calls and improve performance."
   ]
  },
  {
   "cell_type": "code",
   "execution_count": 7,
   "id": "2ada009f",
   "metadata": {},
   "outputs": [
    {
     "name": "stdout",
     "output_type": "stream",
     "text": [
      "{\"timestamp\": \"2025-10-19T20:33:17.643310Z\", \"level\": \"INFO\", \"name\": \"CountyBusinessPatternsConnector\", \"message\": \"Connector initialized\", \"source\": {\"file\": \"base_connector.py\", \"line\": 82, \"function\": \"__init__\"}, \"levelname\": \"INFO\", \"taskName\": \"Task-29\", \"connector\": \"CountyBusinessPatternsConnector\", \"cache_dir\": \"~/.krl_cache/cbp\", \"cache_ttl\": 3600, \"has_api_key\": true}\n",
      "{\"timestamp\": \"2025-10-19T20:33:17.643617Z\", \"level\": \"INFO\", \"name\": \"CountyBusinessPatternsConnector\", \"message\": \"Initialized County Business Patterns connector\", \"source\": {\"file\": \"cbp_connector.py\", \"line\": 81, \"function\": \"__init__\"}, \"levelname\": \"INFO\", \"taskName\": \"Task-29\"}\n",
      "{\"timestamp\": \"2025-10-19T20:33:17.643945Z\", \"level\": \"INFO\", \"name\": \"CountyBusinessPatternsConnector\", \"message\": \"Fetching CBP state data: year=2021, state=06, naics=62\", \"source\": {\"file\": \"cbp_connector.py\", \"line\": 266, \"function\": \"get_state_data\"}, \"levelname\": \"INFO\", \"taskName\": \"Task-29\"}\n",
      "{\"timestamp\": \"2025-10-19T20:33:17.644374Z\", \"level\": \"INFO\", \"name\": \"CountyBusinessPatternsConnector\", \"message\": \"Making API request\", \"source\": {\"file\": \"base_connector.py\", \"line\": 187, \"function\": \"_make_request\"}, \"levelname\": \"INFO\", \"taskName\": \"Task-29\", \"url\": \"https://api.census.gov/data/2021/cbp\", \"params\": {\"get\": \"ESTAB,EMP,PAYANN,NAICS2017,NAME\", \"for\": \"state:06\", \"key\": \"199343249e46333a2676a4976d696e45a9d2e15d\"}}\n",
      "{\"timestamp\": \"2025-10-19T20:33:17.643617Z\", \"level\": \"INFO\", \"name\": \"CountyBusinessPatternsConnector\", \"message\": \"Initialized County Business Patterns connector\", \"source\": {\"file\": \"cbp_connector.py\", \"line\": 81, \"function\": \"__init__\"}, \"levelname\": \"INFO\", \"taskName\": \"Task-29\"}\n",
      "{\"timestamp\": \"2025-10-19T20:33:17.643945Z\", \"level\": \"INFO\", \"name\": \"CountyBusinessPatternsConnector\", \"message\": \"Fetching CBP state data: year=2021, state=06, naics=62\", \"source\": {\"file\": \"cbp_connector.py\", \"line\": 266, \"function\": \"get_state_data\"}, \"levelname\": \"INFO\", \"taskName\": \"Task-29\"}\n",
      "{\"timestamp\": \"2025-10-19T20:33:17.644374Z\", \"level\": \"INFO\", \"name\": \"CountyBusinessPatternsConnector\", \"message\": \"Making API request\", \"source\": {\"file\": \"base_connector.py\", \"line\": 187, \"function\": \"_make_request\"}, \"levelname\": \"INFO\", \"taskName\": \"Task-29\", \"url\": \"https://api.census.gov/data/2021/cbp\", \"params\": {\"get\": \"ESTAB,EMP,PAYANN,NAICS2017,NAME\", \"for\": \"state:06\", \"key\": \"199343249e46333a2676a4976d696e45a9d2e15d\"}}\n",
      "{\"timestamp\": \"2025-10-19T20:33:18.176024Z\", \"level\": \"INFO\", \"name\": \"CountyBusinessPatternsConnector\", \"message\": \"Retrieved 92 CBP state records\", \"source\": {\"file\": \"cbp_connector.py\", \"line\": 284, \"function\": \"get_state_data\"}, \"levelname\": \"INFO\", \"taskName\": \"Task-29\"}\n",
      "{\"timestamp\": \"2025-10-19T20:33:18.176679Z\", \"level\": \"INFO\", \"name\": \"CountyBusinessPatternsConnector\", \"message\": \"Fetching CBP state data: year=2021, state=06, naics=62\", \"source\": {\"file\": \"cbp_connector.py\", \"line\": 266, \"function\": \"get_state_data\"}, \"levelname\": \"INFO\", \"taskName\": \"Task-29\"}\n",
      "{\"timestamp\": \"2025-10-19T20:33:18.178237Z\", \"level\": \"INFO\", \"name\": \"CountyBusinessPatternsConnector\", \"message\": \"Cache hit\", \"source\": {\"file\": \"base_connector.py\", \"line\": 178, \"function\": \"_make_request\"}, \"levelname\": \"INFO\", \"taskName\": \"Task-29\", \"url\": \"https://api.census.gov/data/2021/cbp\", \"cache_key\": \"e62259418d5d3cee\"}\n",
      "{\"timestamp\": \"2025-10-19T20:33:18.182247Z\", \"level\": \"INFO\", \"name\": \"CountyBusinessPatternsConnector\", \"message\": \"Retrieved 92 CBP state records\", \"source\": {\"file\": \"cbp_connector.py\", \"line\": 284, \"function\": \"get_state_data\"}, \"levelname\": \"INFO\", \"taskName\": \"Task-29\"}\n",
      "⏱️  First request (API call): 0.533s\n",
      "⏱️  Second request (cached):  0.006s\n",
      "🚀 Cache speedup: 88.8x faster\n",
      "\n",
      "✅ Both requests returned identical data: True\n",
      "{\"timestamp\": \"2025-10-19T20:33:18.176024Z\", \"level\": \"INFO\", \"name\": \"CountyBusinessPatternsConnector\", \"message\": \"Retrieved 92 CBP state records\", \"source\": {\"file\": \"cbp_connector.py\", \"line\": 284, \"function\": \"get_state_data\"}, \"levelname\": \"INFO\", \"taskName\": \"Task-29\"}\n",
      "{\"timestamp\": \"2025-10-19T20:33:18.176679Z\", \"level\": \"INFO\", \"name\": \"CountyBusinessPatternsConnector\", \"message\": \"Fetching CBP state data: year=2021, state=06, naics=62\", \"source\": {\"file\": \"cbp_connector.py\", \"line\": 266, \"function\": \"get_state_data\"}, \"levelname\": \"INFO\", \"taskName\": \"Task-29\"}\n",
      "{\"timestamp\": \"2025-10-19T20:33:18.178237Z\", \"level\": \"INFO\", \"name\": \"CountyBusinessPatternsConnector\", \"message\": \"Cache hit\", \"source\": {\"file\": \"base_connector.py\", \"line\": 178, \"function\": \"_make_request\"}, \"levelname\": \"INFO\", \"taskName\": \"Task-29\", \"url\": \"https://api.census.gov/data/2021/cbp\", \"cache_key\": \"e62259418d5d3cee\"}\n",
      "{\"timestamp\": \"2025-10-19T20:33:18.182247Z\", \"level\": \"INFO\", \"name\": \"CountyBusinessPatternsConnector\", \"message\": \"Retrieved 92 CBP state records\", \"source\": {\"file\": \"cbp_connector.py\", \"line\": 284, \"function\": \"get_state_data\"}, \"levelname\": \"INFO\", \"taskName\": \"Task-29\"}\n",
      "⏱️  First request (API call): 0.533s\n",
      "⏱️  Second request (cached):  0.006s\n",
      "🚀 Cache speedup: 88.8x faster\n",
      "\n",
      "✅ Both requests returned identical data: True\n"
     ]
    }
   ],
   "source": [
    "import time\n",
    "\n",
    "# Configure connector with custom cache settings\n",
    "cbp_cached = CountyBusinessPatternsConnector(\n",
    "    cache_dir=\"~/.krl_cache/cbp\"\n",
    ")\n",
    "\n",
    "# First request - will hit the API\n",
    "start = time.time()\n",
    "data1 = cbp_cached.get_state_data(year=2021, state='06', naics='62')\n",
    "time1 = time.time() - start\n",
    "\n",
    "# Second request - will use cache\n",
    "start = time.time()\n",
    "data2 = cbp_cached.get_state_data(year=2021, state='06', naics='62')\n",
    "time2 = time.time() - start\n",
    "\n",
    "print(f\"⏱️  First request (API call): {time1:.3f}s\")\n",
    "print(f\"⏱️  Second request (cached):  {time2:.3f}s\")\n",
    "if time2 > 0:\n",
    "    print(f\"🚀 Cache speedup: {time1/time2:.1f}x faster\")\n",
    "else:\n",
    "    print(f\"🚀 Cache speedup: Instant (cached)\")\n",
    "print(f\"\\n✅ Both requests returned identical data: {data1.equals(data2)}\")"
   ]
  },
  {
   "cell_type": "markdown",
   "id": "6e77b248",
   "metadata": {},
   "source": [
    "## 8. Next Steps & Resources\n",
    "\n",
    "**Learn More:**\n",
    "- 📚 [CBP API Documentation](https://www.census.gov/data/developers/data-sets/cbp-nonemp-zbp/cbp-api.html)\n",
    "- 🔢 [NAICS Code Reference](https://www.census.gov/naics/)\n",
    "- 📊 [Full krl-data-connectors Documentation](https://docs.krlabs.dev/data-connectors)\n",
    "\n",
    "**Try These Examples:**\n",
    "- Compare employment trends across multiple years\n",
    "- Analyze payroll data to calculate average wages\n",
    "- Create geographic visualizations with county data\n",
    "- Combine with other connectors (LEHD, BLS) for comprehensive analysis\n",
    "\n",
    "**Need Help?**\n",
    "- GitHub Issues: https://github.com/KR-Labs/krl-data-connectors/issues\n",
    "- Documentation: https://docs.krlabs.dev\n",
    "- Email: support@krlabs.dev"
   ]
  }
 ],
 "metadata": {
  "kernelspec": {
   "display_name": ".venv",
   "language": "python",
   "name": "python3"
  },
  "language_info": {
   "codemirror_mode": {
    "name": "ipython",
    "version": 3
   },
   "file_extension": ".py",
   "mimetype": "text/x-python",
   "name": "python",
   "nbconvert_exporter": "python",
   "pygments_lexer": "ipython3",
   "version": "3.13.7"
  }
 },
 "nbformat": 4,
 "nbformat_minor": 5
}
