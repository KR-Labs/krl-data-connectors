{
 "cells": [
  {
   "cell_type": "markdown",
   "id": "0735c785",
   "metadata": {},
   "source": [
    "# BEA Regional Economic Accounts - Quick Start Guide\n\n© 2025 KR-Labs. All rights reserved.  \n**Part of the KR-Labs Analytics Suite**\n\n---\n\n## Overview\n\nThe **BEA (Bureau of Economic Analysis)** connector provides access to comprehensive U.S. economic accounts and regional data.\n\n**What is BEA?**\n- Official U.S. economic statistics\n- Regional GDP by state and metro area\n- Personal income and consumption\n- Industry economic accounts\n- International trade data\n\n**Use Cases:**\n-  Regional GDP analysis\n-  Personal income trends\n-  Industry economic contributions\n-  State and metro comparisons\n-  Economic growth tracking\n\n**API Information:**\n- Source: U.S. Bureau of Economic Analysis\n- API Key: Required (free at https://apps.bea.gov/api/signup/)\n- Rate Limit: No official limit\n- Data Format: JSON → pandas DataFrame"
   ]
  },
  {
   "cell_type": "markdown",
   "id": "4da577c2",
   "metadata": {},
   "source": [
    "## 1. Setup and Installation"
   ]
  },
  {
   "cell_type": "code",
   "execution_count": 1,
   "id": "3b7290b8",
   "metadata": {},
   "outputs": [
    {
     "name": "stdout",
     "output_type": "stream",
     "text": [
      "✅ All imports successful!\n",
      "📅 Current date: 2025-10-19\n"
     ]
    }
   ],
   "source": [
    "# Install the package (if needed)\n# pip install krl-data-connectors\n\n# Import required libraries\nimport pandas as pd\nimport matplotlib.pyplot as plt\nimport seaborn as sns\nfrom datetime import datetime\nfrom krl_data_connectors import BEAConnector\n\n# Configure display settings\npd.set_option('display.max_columns', None)\npd.set_option('display.width', None)\nsns.set_style('whitegrid')\nplt.rcParams['figure.figsize'] = (14, 7)\n\nprint(\" All imports successful!\")\nprint(f\" Current date: {datetime.now().strftime('%Y-%m-%d')}\")"
   ]
  },
  {
   "cell_type": "markdown",
   "id": "735c6fd7",
   "metadata": {},
   "source": [
    "## 2. Initialize Connector & API Key Setup\n",
    "\n",
    "The BEA connector **requires** an API key. Register for free at: https://apps.bea.gov/api/signup/\n",
    "\n",
    "**Setup Options:**\n",
    "```bash\n",
    "# Option 1: Environment variable (recommended)\n",
    "export BEA_API_KEY=\"your_key_here\"\n",
    "\n",
    "# Option 2: Pass directly to connector\n",
    "bea = BEAConnector(api_key=\"your_key_here\")\n",
    "```"
   ]
  },
  {
   "cell_type": "code",
   "execution_count": null,
   "id": "0509ddeb",
   "metadata": {},
   "outputs": [
    {
     "name": "stdout",
     "output_type": "stream",
     "text": [
      "{\"timestamp\": \"2025-10-19T21:28:34.681643Z\", \"level\": \"INFO\", \"name\": \"BEAConnector\", \"message\": \"Connector initialized\", \"source\": {\"file\": \"base_connector.py\", \"line\": 82, \"function\": \"__init__\"}, \"levelname\": \"INFO\", \"taskName\": \"Task-19\", \"connector\": \"BEAConnector\", \"cache_dir\": \"~/.krl_cache\", \"cache_ttl\": 3600, \"has_api_key\": true}\n",
      "{\"timestamp\": \"2025-10-19T21:28:34.682015Z\", \"level\": \"INFO\", \"name\": \"BEAConnector\", \"message\": \"Initialized BEA connector\", \"source\": {\"file\": \"bea_connector.py\", \"line\": 76, \"function\": \"__init__\"}, \"levelname\": \"INFO\", \"taskName\": \"Task-19\"}\n",
      "✅ BEA connector initialized successfully!\n",
      "   API Key: 9D35B76D-D...\n",
      "\n",
      "💡 Ready to access regional economic data!\n",
      "{\"timestamp\": \"2025-10-19T21:28:34.682015Z\", \"level\": \"INFO\", \"name\": \"BEAConnector\", \"message\": \"Initialized BEA connector\", \"source\": {\"file\": \"bea_connector.py\", \"line\": 76, \"function\": \"__init__\"}, \"levelname\": \"INFO\", \"taskName\": \"Task-19\"}\n",
      "✅ BEA connector initialized successfully!\n",
      "   API Key: 9D35B76D-D...\n",
      "\n",
      "💡 Ready to access regional economic data!\n"
     ]
    }
   ],
   "source": [
    "# Initialize BEA connector (auto-detects BEA_API_KEY from environment)\nimport os\nfrom krl_data_connectors import find_config_file\n\n# Try to load API key from environment first\nbea_api_key = os.getenv('BEA_API_KEY')\n\n# If not in environment, try config file\nif not bea_api_key:\n    config_path = find_config_file('apikeys')\n    if config_path:\n        with open(config_path, 'r') as f:\n            for line in f:\n                line = line.strip()\n                if 'BEA API KEY:' in line:\n                    bea_api_key = line.split(':', 1)[1].strip()\n                    break\n        print(f\" Loaded API key from: {config_path}\")\n    else:\n        print(\"  No API key found!\")\n        print(\"   Set BEA_API_KEY environment variable or create config file:\")\n        print(\"   - ~/.krl/apikeys\")\n        print(\"   - ~/KR-Labs/Khipu/config/apikeys\")\n        print(\"   - ./config/apikeys\")\n\n# Initialize connector with API key\nif bea_api_key:\n    bea = BEAConnector(api_key=bea_api_key)\n    print(\" BEA connector initialized successfully!\")\n    print(f\"   API Key: {bea.api_key[:10]}...\")\n    print(\"\\n Ready to access regional economic data!\")\nelse:\n    print(\" Cannot initialize connector without API key\")\n    print(\"   Get a free key at: https://apps.bea.gov/api/signup/\")"
   ]
  },
  {
   "cell_type": "markdown",
   "id": "fa41cb67",
   "metadata": {},
   "source": [
    "## 3. Basic Usage: Get Regional GDP Data\n",
    "\n",
    "Let's retrieve **real GDP by state** for recent years."
   ]
  },
  {
   "cell_type": "code",
   "execution_count": 3,
   "id": "f971631d",
   "metadata": {},
   "outputs": [
    {
     "name": "stdout",
     "output_type": "stream",
     "text": [
      "📊 Fetching Regional GDP Data...\n",
      "================================================================================\n",
      "{\"timestamp\": \"2025-10-19T21:28:34.690027Z\", \"level\": \"INFO\", \"name\": \"BEAConnector\", \"message\": \"Fetching regional data: table=SAGDP2, geo=STATE, year=2020,2021,2022\", \"source\": {\"file\": \"bea_connector.py\", \"line\": 285, \"function\": \"get_regional_data\"}, \"levelname\": \"INFO\", \"taskName\": \"Task-21\"}\n",
      "{\"timestamp\": \"2025-10-19T21:28:34.690697Z\", \"level\": \"INFO\", \"name\": \"BEAConnector\", \"message\": \"Making API request\", \"source\": {\"file\": \"base_connector.py\", \"line\": 187, \"function\": \"_make_request\"}, \"levelname\": \"INFO\", \"taskName\": \"Task-21\", \"url\": \"https://apps.bea.gov/api/data\", \"params\": {\"UserID\": \"9D35B76D-D94E-47A2-9509-6D81CFDD4259\", \"method\": \"GETDATA\", \"DataSetName\": \"Regional\", \"TableName\": \"SAGDP2\", \"LineCode\": \"1\", \"GeoFips\": \"STATE\", \"Year\": \"2020,2021,2022\", \"ResultFormat\": \"JSON\"}}\n",
      "{\"timestamp\": \"2025-10-19T21:28:34.690697Z\", \"level\": \"INFO\", \"name\": \"BEAConnector\", \"message\": \"Making API request\", \"source\": {\"file\": \"base_connector.py\", \"line\": 187, \"function\": \"_make_request\"}, \"levelname\": \"INFO\", \"taskName\": \"Task-21\", \"url\": \"https://apps.bea.gov/api/data\", \"params\": {\"UserID\": \"9D35B76D-D94E-47A2-9509-6D81CFDD4259\", \"method\": \"GETDATA\", \"DataSetName\": \"Regional\", \"TableName\": \"SAGDP2\", \"LineCode\": \"1\", \"GeoFips\": \"STATE\", \"Year\": \"2020,2021,2022\", \"ResultFormat\": \"JSON\"}}\n",
      "{\"timestamp\": \"2025-10-19T21:28:34.934916Z\", \"level\": \"INFO\", \"name\": \"BEAConnector\", \"message\": \"Retrieved 180 observations\", \"source\": {\"file\": \"bea_connector.py\", \"line\": 296, \"function\": \"get_regional_data\"}, \"levelname\": \"INFO\", \"taskName\": \"Task-21\"}\n",
      "\n",
      "🔍 Data Structure:\n",
      "Shape: (180, 8)\n",
      "\n",
      "Columns: ['Code', 'GeoFips', 'GeoName', 'TimePeriod', 'CL_UNIT', 'UNIT_MULT', 'DataValue', 'NoteRef']\n",
      "\n",
      "First few rows:\n",
      "       Code GeoFips          GeoName TimePeriod                      CL_UNIT  \\\n",
      "0  SAGDP2-1   00000  United States *       2022  Millions of current dollars   \n",
      "1  SAGDP2-1   00000  United States *       2021  Millions of current dollars   \n",
      "2  SAGDP2-1   00000  United States *       2020  Millions of current dollars   \n",
      "3  SAGDP2-1   01000          Alabama       2021  Millions of current dollars   \n",
      "4  SAGDP2-1   01000          Alabama       2020  Millions of current dollars   \n",
      "5  SAGDP2-1   01000          Alabama       2022  Millions of current dollars   \n",
      "6  SAGDP2-1   02000           Alaska       2022  Millions of current dollars   \n",
      "7  SAGDP2-1   02000           Alaska       2021  Millions of current dollars   \n",
      "8  SAGDP2-1   02000           Alaska       2020  Millions of current dollars   \n",
      "9  SAGDP2-1   04000          Arizona       2022  Millions of current dollars   \n",
      "\n",
      "  UNIT_MULT   DataValue NoteRef  \n",
      "0         6  26054614.0       *  \n",
      "1         6  23725645.0       *  \n",
      "2         6  21375281.0       *  \n",
      "3         6    260325.0     NaN  \n",
      "4         6    235859.0     NaN  \n",
      "5         6    286873.3     NaN  \n",
      "6         6     65682.5     NaN  \n",
      "7         6     59363.0     NaN  \n",
      "8         6     51861.7     NaN  \n",
      "9         6    488722.2     NaN  \n",
      "\n",
      "================================================================================\n",
      "\n",
      "📊 Found geography column: 'GeoName'\n",
      "Unique values: 60\n",
      "\n",
      "📈 Found data for 18 state-year combinations\n",
      "\n",
      "Sample data:\n",
      "        Code GeoFips        GeoName TimePeriod                      CL_UNIT  \\\n",
      "15  SAGDP2-1   06000     California       2022  Millions of current dollars   \n",
      "16  SAGDP2-1   06000     California       2021  Millions of current dollars   \n",
      "17  SAGDP2-1   06000     California       2020  Millions of current dollars   \n",
      "30  SAGDP2-1   12000        Florida       2022  Millions of current dollars   \n",
      "31  SAGDP2-1   12000        Florida       2021  Millions of current dollars   \n",
      "32  SAGDP2-1   12000        Florida       2020  Millions of current dollars   \n",
      "66  SAGDP2-1   25000  Massachusetts       2022  Millions of current dollars   \n",
      "67  SAGDP2-1   25000  Massachusetts       2021  Millions of current dollars   \n",
      "68  SAGDP2-1   25000  Massachusetts       2020  Millions of current dollars   \n",
      "99  SAGDP2-1   36000       New York       2022  Millions of current dollars   \n",
      "\n",
      "   UNIT_MULT  DataValue NoteRef  \n",
      "15         6  3618289.7     NaN  \n",
      "16         6  3418256.1     NaN  \n",
      "17         6  3072927.6     NaN  \n",
      "30         6  1473688.1     NaN  \n",
      "31         6  1300807.8     NaN  \n",
      "32         6  1144653.2     NaN  \n",
      "66         6   696323.1     NaN  \n",
      "67         6   650308.8     NaN  \n",
      "68         6   592855.5     NaN  \n",
      "99         6  2071075.2     NaN  \n",
      "\n",
      "📈 Latest GDP by State (2022):\n",
      "================================================================================\n",
      "  California     : $   3,618,290M\n",
      "  Texas          : $   2,476,903M\n",
      "  New York       : $   2,071,075M\n",
      "  Florida        : $   1,473,688M\n",
      "  Massachusetts  : $     696,323M\n",
      "  Rhode Island   : $      71,978M\n",
      "{\"timestamp\": \"2025-10-19T21:28:34.934916Z\", \"level\": \"INFO\", \"name\": \"BEAConnector\", \"message\": \"Retrieved 180 observations\", \"source\": {\"file\": \"bea_connector.py\", \"line\": 296, \"function\": \"get_regional_data\"}, \"levelname\": \"INFO\", \"taskName\": \"Task-21\"}\n",
      "\n",
      "🔍 Data Structure:\n",
      "Shape: (180, 8)\n",
      "\n",
      "Columns: ['Code', 'GeoFips', 'GeoName', 'TimePeriod', 'CL_UNIT', 'UNIT_MULT', 'DataValue', 'NoteRef']\n",
      "\n",
      "First few rows:\n",
      "       Code GeoFips          GeoName TimePeriod                      CL_UNIT  \\\n",
      "0  SAGDP2-1   00000  United States *       2022  Millions of current dollars   \n",
      "1  SAGDP2-1   00000  United States *       2021  Millions of current dollars   \n",
      "2  SAGDP2-1   00000  United States *       2020  Millions of current dollars   \n",
      "3  SAGDP2-1   01000          Alabama       2021  Millions of current dollars   \n",
      "4  SAGDP2-1   01000          Alabama       2020  Millions of current dollars   \n",
      "5  SAGDP2-1   01000          Alabama       2022  Millions of current dollars   \n",
      "6  SAGDP2-1   02000           Alaska       2022  Millions of current dollars   \n",
      "7  SAGDP2-1   02000           Alaska       2021  Millions of current dollars   \n",
      "8  SAGDP2-1   02000           Alaska       2020  Millions of current dollars   \n",
      "9  SAGDP2-1   04000          Arizona       2022  Millions of current dollars   \n",
      "\n",
      "  UNIT_MULT   DataValue NoteRef  \n",
      "0         6  26054614.0       *  \n",
      "1         6  23725645.0       *  \n",
      "2         6  21375281.0       *  \n",
      "3         6    260325.0     NaN  \n",
      "4         6    235859.0     NaN  \n",
      "5         6    286873.3     NaN  \n",
      "6         6     65682.5     NaN  \n",
      "7         6     59363.0     NaN  \n",
      "8         6     51861.7     NaN  \n",
      "9         6    488722.2     NaN  \n",
      "\n",
      "================================================================================\n",
      "\n",
      "📊 Found geography column: 'GeoName'\n",
      "Unique values: 60\n",
      "\n",
      "📈 Found data for 18 state-year combinations\n",
      "\n",
      "Sample data:\n",
      "        Code GeoFips        GeoName TimePeriod                      CL_UNIT  \\\n",
      "15  SAGDP2-1   06000     California       2022  Millions of current dollars   \n",
      "16  SAGDP2-1   06000     California       2021  Millions of current dollars   \n",
      "17  SAGDP2-1   06000     California       2020  Millions of current dollars   \n",
      "30  SAGDP2-1   12000        Florida       2022  Millions of current dollars   \n",
      "31  SAGDP2-1   12000        Florida       2021  Millions of current dollars   \n",
      "32  SAGDP2-1   12000        Florida       2020  Millions of current dollars   \n",
      "66  SAGDP2-1   25000  Massachusetts       2022  Millions of current dollars   \n",
      "67  SAGDP2-1   25000  Massachusetts       2021  Millions of current dollars   \n",
      "68  SAGDP2-1   25000  Massachusetts       2020  Millions of current dollars   \n",
      "99  SAGDP2-1   36000       New York       2022  Millions of current dollars   \n",
      "\n",
      "   UNIT_MULT  DataValue NoteRef  \n",
      "15         6  3618289.7     NaN  \n",
      "16         6  3418256.1     NaN  \n",
      "17         6  3072927.6     NaN  \n",
      "30         6  1473688.1     NaN  \n",
      "31         6  1300807.8     NaN  \n",
      "32         6  1144653.2     NaN  \n",
      "66         6   696323.1     NaN  \n",
      "67         6   650308.8     NaN  \n",
      "68         6   592855.5     NaN  \n",
      "99         6  2071075.2     NaN  \n",
      "\n",
      "📈 Latest GDP by State (2022):\n",
      "================================================================================\n",
      "  California     : $   3,618,290M\n",
      "  Texas          : $   2,476,903M\n",
      "  New York       : $   2,071,075M\n",
      "  Florida        : $   1,473,688M\n",
      "  Massachusetts  : $     696,323M\n",
      "  Rhode Island   : $      71,978M\n"
     ]
    }
   ],
   "source": [
    "# Get GDP data for multiple states\n# Note: Using SAGDP2 (State Annual GDP) instead of SQGDP (quarterly)\nstates_to_analyze = ['CA', 'TX', 'NY', 'FL', 'MA', 'RI']\nyears = ['2020', '2021', '2022']\n\nprint(\" Fetching Regional GDP Data...\")\nprint(\"=\"*80)\n\n# Try annual GDP data (more reliable than quarterly)\ngdp_data = bea.get_regional_data(\n    table_name='SAGDP2',  # State Annual GDP by NAICS Industry\n    line_code='1',        # All industry total\n    geo_fips='STATE',\n    year=','.join(years)\n)\n\n# Inspect the data structure\nprint(\"\\n Data Structure:\")\nprint(f\"Shape: {gdp_data.shape}\")\nprint(f\"\\nColumns: {list(gdp_data.columns)}\")\n\nif len(gdp_data) > 0:\n    print(f\"\\nFirst few rows:\")\n    print(gdp_data.head(10))\n    print(\"\\n\" + \"=\"*80)\n    \n    # Try to find geography and value columns\n    geo_col = None\n    for col in gdp_data.columns:\n        col_lower = col.lower()\n        if 'geoname' in col_lower or 'area' in col_lower or 'state' in col_lower or 'geography' in col_lower:\n            geo_col = col\n            break\n    \n    if geo_col:\n        print(f\"\\n Found geography column: '{geo_col}'\")\n        print(f\"Unique values: {gdp_data[geo_col].nunique()}\")\n        \n        # Filter for our states\n        state_names = ['California', 'Texas', 'New York', 'Florida', 'Massachusetts', 'Rhode Island']\n        state_gdp = gdp_data[gdp_data[geo_col].isin(state_names)]\n        \n        if len(state_gdp) > 0:\n            print(f\"\\n Found data for {len(state_gdp)} state-year combinations\")\n            print(\"\\nSample data:\")\n            print(state_gdp.head(10))\n            \n            # Try to extract latest year data\n            if 'TimePeriod' in state_gdp.columns:\n                latest_year = state_gdp['TimePeriod'].max()\n                latest_data = state_gdp[state_gdp['TimePeriod'] == latest_year]\n                \n                print(f\"\\n Latest GDP by State ({latest_year}):\")\n                print(\"=\"*80)\n                \n                if 'DataValue' in latest_data.columns:\n                    summary = latest_data[[geo_col, 'DataValue']].copy()\n                    summary.columns = ['State', 'GDP']\n                    summary = summary.sort_values('GDP', ascending=False)\n                    \n                    for _, row in summary.iterrows():\n                        print(f\"  {row['State']:15s}: ${float(row['GDP']):>12,.0f}M\")\n                    \n                    # Store for visualization\n                    state_summary = summary.copy()\n                    state_summary.columns = ['State', 'GDP (millions)']\n        else:\n            print(f\"\\n  No data found for specified states\")\n            print(f\"Available states: {sorted(gdp_data[geo_col].unique()[:10])}\")\n    else:\n        print(\"\\n  Could not identify geography column\")\n        print(\"Available columns:\", gdp_data.columns.tolist())\nelse:\n    print(\"\\n No data returned from API\")\n    print(\"This table/parameter combination may not be valid.\")\n    print(\"\\n Try using different parameters:\")\n    print(\"  • Table: SAINC1 (Personal Income)\")\n    print(\"  • Table: CAGDP2 (County GDP)\")\n    print(\"  • Year: 'LAST5' for last 5 years\")"
   ]
  },
  {
   "cell_type": "markdown",
   "id": "fd79a713",
   "metadata": {},
   "source": [
    "## 4. Personal Income by State\n",
    "\n",
    "Analyze personal income trends across states."
   ]
  },
  {
   "cell_type": "code",
   "execution_count": 4,
   "id": "e6d9b596",
   "metadata": {},
   "outputs": [
    {
     "name": "stdout",
     "output_type": "stream",
     "text": [
      "📊 Fetching Personal Income Data...\n",
      "================================================================================\n",
      "{\"timestamp\": \"2025-10-19T21:28:34.953434Z\", \"level\": \"INFO\", \"name\": \"BEAConnector\", \"message\": \"Fetching regional data: table=SAINC1, geo=STATE, year=2020,2021,2022\", \"source\": {\"file\": \"bea_connector.py\", \"line\": 285, \"function\": \"get_regional_data\"}, \"levelname\": \"INFO\", \"taskName\": \"Task-23\"}\n",
      "{\"timestamp\": \"2025-10-19T21:28:34.954308Z\", \"level\": \"INFO\", \"name\": \"BEAConnector\", \"message\": \"Making API request\", \"source\": {\"file\": \"base_connector.py\", \"line\": 187, \"function\": \"_make_request\"}, \"levelname\": \"INFO\", \"taskName\": \"Task-23\", \"url\": \"https://apps.bea.gov/api/data\", \"params\": {\"UserID\": \"9D35B76D-D94E-47A2-9509-6D81CFDD4259\", \"method\": \"GETDATA\", \"DataSetName\": \"Regional\", \"TableName\": \"SAINC1\", \"LineCode\": \"1\", \"GeoFips\": \"STATE\", \"Year\": \"2020,2021,2022\", \"ResultFormat\": \"JSON\"}}\n",
      "{\"timestamp\": \"2025-10-19T21:28:34.954308Z\", \"level\": \"INFO\", \"name\": \"BEAConnector\", \"message\": \"Making API request\", \"source\": {\"file\": \"base_connector.py\", \"line\": 187, \"function\": \"_make_request\"}, \"levelname\": \"INFO\", \"taskName\": \"Task-23\", \"url\": \"https://apps.bea.gov/api/data\", \"params\": {\"UserID\": \"9D35B76D-D94E-47A2-9509-6D81CFDD4259\", \"method\": \"GETDATA\", \"DataSetName\": \"Regional\", \"TableName\": \"SAINC1\", \"LineCode\": \"1\", \"GeoFips\": \"STATE\", \"Year\": \"2020,2021,2022\", \"ResultFormat\": \"JSON\"}}\n",
      "{\"timestamp\": \"2025-10-19T21:28:34.991453Z\", \"level\": \"INFO\", \"name\": \"BEAConnector\", \"message\": \"Retrieved 180 observations\", \"source\": {\"file\": \"bea_connector.py\", \"line\": 296, \"function\": \"get_regional_data\"}, \"levelname\": \"INFO\", \"taskName\": \"Task-23\"}\n",
      "\n",
      "✅ Retrieved 180 records\n",
      "\n",
      "💰 Latest Personal Income by State (2022):\n",
      "================================================================================\n",
      "  California     : $   3,021,646M\n",
      "  Texas          : $   1,920,255M\n",
      "  New York       : $   1,526,281M\n",
      "  Florida        : $   1,464,251M\n",
      "  Massachusetts  : $     600,010M\n",
      "  Rhode Island   : $      70,880M\n",
      "\n",
      "💡 Personal income includes wages, investment income, and transfer payments\n",
      "{\"timestamp\": \"2025-10-19T21:28:34.991453Z\", \"level\": \"INFO\", \"name\": \"BEAConnector\", \"message\": \"Retrieved 180 observations\", \"source\": {\"file\": \"bea_connector.py\", \"line\": 296, \"function\": \"get_regional_data\"}, \"levelname\": \"INFO\", \"taskName\": \"Task-23\"}\n",
      "\n",
      "✅ Retrieved 180 records\n",
      "\n",
      "💰 Latest Personal Income by State (2022):\n",
      "================================================================================\n",
      "  California     : $   3,021,646M\n",
      "  Texas          : $   1,920,255M\n",
      "  New York       : $   1,526,281M\n",
      "  Florida        : $   1,464,251M\n",
      "  Massachusetts  : $     600,010M\n",
      "  Rhode Island   : $      70,880M\n",
      "\n",
      "💡 Personal income includes wages, investment income, and transfer payments\n"
     ]
    }
   ],
   "source": [
    "# Get personal income data\nprint(\" Fetching Personal Income Data...\")\nprint(\"=\"*80)\n\nincome_data = bea.get_regional_data(\n    table_name='SAINC1',  # State Annual Income Summary\n    line_code='1',        # Personal income\n    geo_fips='STATE',\n    year=','.join(years)\n)\n\nif len(income_data) > 0:\n    print(f\"\\n Retrieved {len(income_data)} records\")\n    \n    # Find geography column\n    geo_col = None\n    for col in income_data.columns:\n        if 'geoname' in col.lower() or 'area' in col.lower() or 'geography' in col.lower():\n            geo_col = col\n            break\n    \n    if geo_col:\n        # Filter for our states\n        state_names = ['California', 'Texas', 'New York', 'Florida', 'Massachusetts', 'Rhode Island']\n        state_income = income_data[income_data[geo_col].isin(state_names)]\n        \n        if len(state_income) > 0 and 'TimePeriod' in state_income.columns:\n            latest_year = state_income['TimePeriod'].max()\n            latest_data = state_income[state_income['TimePeriod'] == latest_year]\n            \n            print(f\"\\n Latest Personal Income by State ({latest_year}):\")\n            print(\"=\"*80)\n            \n            if 'DataValue' in latest_data.columns:\n                summary = latest_data[[geo_col, 'DataValue']].copy()\n                summary.columns = ['State', 'Personal Income']\n                summary = summary.sort_values('Personal Income', ascending=False)\n                \n                for _, row in summary.iterrows():\n                    print(f\"  {row['State']:15s}: ${float(row['Personal Income']):>12,.0f}M\")\n                \n                print(f\"\\n Personal income includes wages, investment income, and transfer payments\")\n        else:\n            print(\"\\n  No data found for specified states\")\n    else:\n        print(\"\\n  Could not identify geography column\")\n        print(\"Columns:\", income_data.columns.tolist())\nelse:\n    print(\"\\n No data returned from API\")"
   ]
  },
  {
   "cell_type": "markdown",
   "id": "9f89dddd",
   "metadata": {},
   "source": [
    "## 5. Visualize State GDP Comparison"
   ]
  },
  {
   "cell_type": "code",
   "execution_count": 5,
   "id": "b6db6423",
   "metadata": {},
   "outputs": [
    {
     "data": {
      "image/png": "[encoded data removed]",
      "text/plain": [
       "<Figure size 1200x600 with 1 Axes>"
      ]
     },
     "metadata": {},
     "output_type": "display_data"
    },
    {
     "name": "stdout",
     "output_type": "stream",
     "text": [
      "📊 GDP comparison shows economic output differences across states\n"
     ]
    }
   ],
   "source": [
    "# Create bar chart of latest GDP by state\n# Note: This uses 'state_summary' from the GDP data cell above\n\ntry:\n    fig, ax = plt.subplots(figsize=(12, 6))\n    \n    states = state_summary['State'].values\n    gdp_values = [float(x) for x in state_summary['GDP (millions)'].values]\n    \n    colors = plt.cm.viridis(range(len(states)))\n    bars = ax.barh(states, gdp_values, color=colors)\n    \n    ax.set_xlabel('GDP (millions of dollars)', fontsize=12, fontweight='bold')\n    ax.set_title(f'State GDP Comparison - {latest_year}', fontsize=14, fontweight='bold', pad=20)\n    ax.grid(axis='x', alpha=0.3)\n    \n    # Add value labels\n    for i, (bar, value) in enumerate(zip(bars, gdp_values)):\n        ax.text(value, bar.get_y() + bar.get_height()/2, \n                f'${value:,.0f}M', \n                ha='left', va='center', fontsize=10, fontweight='bold')\n    \n    plt.tight_layout()\n    plt.show()\n    \n    print(f\" GDP comparison shows economic output differences across states\")\nexcept NameError:\n    print(\"  Please run the GDP data cell (Section 3) first to generate the data for visualization\")"
   ]
  },
  {
   "cell_type": "markdown",
   "id": "d5d4accc",
   "metadata": {},
   "source": [
    "## 6. Common BEA Datasets\n",
    "\n",
    "**Regional Data (get_regional_data):**\n",
    "- `SQGDP` - State Quarterly GDP\n",
    "- `SQINC` - State Quarterly Income\n",
    "- `CAINC1` - Annual Personal Income\n",
    "- `CAGDP2` - GDP by State and Industry\n",
    "\n",
    "**Line Codes (common parameters):**\n",
    "- `1` - Total/All industries\n",
    "- `3` - Private industries\n",
    "- Various industry-specific codes\n",
    "\n",
    "**Geographic Codes:**\n",
    "- `STATE` - State-level data\n",
    "- `COUNTY` - County-level data\n",
    "- `MSA` - Metropolitan Statistical Area\n",
    "- Specific FIPS codes for individual areas"
   ]
  },
  {
   "cell_type": "markdown",
   "id": "ecdeff4c",
   "metadata": {},
   "source": [
    "## 7. Summary & Next Steps\n\n**What We Covered:**\n-  Set up BEA connector with API key\n-  Retrieved regional GDP data\n-  Analyzed personal income by state\n-  Compared economic output across states\n-  Learned BEA dataset structures\n\n**Next Steps:**\n1. Explore industry-specific GDP data (CAGDP2 table)\n2. Combine BEA data with other connectors (CBP, BLS, FRED)\n3. Build regional economic dashboards\n4. Analyze county and metro-level data\n5. Track economic growth trends over time\n\n**Resources:**\n-  [BEA Data Homepage](https://www.bea.gov/data)\n-  [Get API Key](https://apps.bea.gov/api/signup/)\n-  [BEA API Docs](https://apps.bea.gov/api/signup/index.cfm)\n-  [Regional Data Guide](https://www.bea.gov/data/gdp/gdp-state)\n-  [GitHub Repository](https://github.com/KR-Labs/krl-data-connectors)\n-  [More Examples](https://github.com/KR-Labs/krl-data-connectors/tree/main/examples)"
   ]
  }
 ],
 "metadata": {
  "kernelspec": {
   "display_name": ".venv",
   "language": "python",
   "name": "python3"
  },
  "language_info": {
   "codemirror_mode": {
    "name": "ipython",
    "version": 3
   },
   "file_extension": ".py",
   "mimetype": "text/x-python",
   "name": "python",
   "nbconvert_exporter": "python",
   "pygments_lexer": "ipython3",
   "version": "3.13.7"
  }
 },
 "nbformat": 4,
 "nbformat_minor": 5
}