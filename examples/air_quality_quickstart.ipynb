{
 "cells": [
  {
   "cell_type": "markdown",
   "id": "ef768ae7",
   "metadata": {},
   "source": [
    "# EPA Air Quality (AirNow API) Connector - Quickstart Guide\n",
    "\n",
    "This notebook demonstrates how to use the **EPAAirQualityConnector** to access real-time and historical air quality data from the EPA AirNow program.\n",
    "\n",
    "**Data Source:** EPA AirNow API (https://docs.airnowapi.org/)\n",
    "\n",
    "**Coverage:**\n",
    "- 2,500+ monitoring stations\n",
    "- United States, Canada, Mexico\n",
    "- Real-time AQI observations\n",
    "- Air quality forecasts\n",
    "- Historical data (1-2 years)\n",
    "\n",
    "**Parameters:**\n",
    "- PM2.5 (Fine particulate matter)\n",
    "- PM10 (Coarse particulate matter)\n",
    "- Ozone (O3)\n",
    "- CO, NO2, SO2\n",
    "\n",
    "© 2025 KR-Labs. All rights reserved."
   ]
  },
  {
   "cell_type": "markdown",
   "id": "767f6580",
   "metadata": {},
   "source": [
    "## 1. Setup and Installation\n",
    "\n",
    "First, ensure the KRL Data Connectors package is installed and you have an AirNow API key."
   ]
  },
  {
   "cell_type": "code",
   "execution_count": null,
   "id": "590979cd",
   "metadata": {},
   "outputs": [],
   "source": [
    "# Install the package (uncomment if needed)\n",
    "# !pip install krl-data-connectors\n",
    "\n",
    "import pandas as pd\n",
    "import matplotlib.pyplot as plt\n",
    "import seaborn as sns\n",
    "from datetime import datetime, timedelta\n",
    "import os\n",
    "\n",
    "from krl_data_connectors.environment import EPAAirQualityConnector\n",
    "\n",
    "# Configure plotting\n",
    "sns.set_style('whitegrid')\n",
    "plt.rcParams['figure.figsize'] = (14, 6)\n",
    "\n",
    "print(\"✅ Imports successful!\")"
   ]
  },
  {
   "cell_type": "markdown",
   "id": "e0bb9cf3",
   "metadata": {},
   "source": [
    "## 2. API Key Setup\n",
    "\n",
    "**Get your free API key:**\n",
    "1. Visit https://docs.airnowapi.org/login\n",
    "2. Register for a free account\n",
    "3. Get your API key\n",
    "4. Set it as an environment variable or pass directly\n",
    "\n",
    "```bash\n",
    "export AIRNOW_API_KEY=\"your_api_key_here\"\n",
    "```"
   ]
  },
  {
   "cell_type": "code",
   "execution_count": null,
   "id": "49af3235",
   "metadata": {},
   "outputs": [],
   "source": [
    "# Option 1: Set API key in environment (recommended)\n",
    "# os.environ['AIRNOW_API_KEY'] = 'your_api_key_here'\n",
    "\n",
    "# Option 2: Pass API key directly\n",
    "# API_KEY = 'your_api_key_here'\n",
    "\n",
    "# For demo purposes, we'll use a placeholder\n",
    "# Replace with your actual API key\n",
    "API_KEY = 'DEMO_API_KEY_12345'\n",
    "\n",
    "print(\"⚠️  Note: Replace DEMO_API_KEY with your actual API key from docs.airnowapi.org\")"
   ]
  },
  {
   "cell_type": "markdown",
   "id": "6c229f10",
   "metadata": {},
   "source": [
    "## 3. Initialize Connector\n",
    "\n",
    "Create the connector instance with your API key."
   ]
  },
  {
   "cell_type": "code",
   "execution_count": null,
   "id": "ef6cc646",
   "metadata": {},
   "outputs": [],
   "source": [
    "# Initialize the connector\n",
    "try:\n",
    "    connector = EPAAirQualityConnector(api_key=API_KEY)\n",
    "    print(\"✅ EPA Air Quality Connector initialized!\")\n",
    "    print(f\"\\nBase URL: {connector.base_url}\")\n",
    "    print(f\"\\nAQI Categories: {len(connector.AQI_CATEGORIES)}\")\n",
    "    print(f\"Available Parameters: {list(connector.PARAMETERS.keys())}\")\n",
    "except ValueError as e:\n",
    "    print(f\"❌ Error: {e}\")\n",
    "    print(\"Please set your AirNow API key\")"
   ]
  },
  {
   "cell_type": "markdown",
   "id": "5ec24c7b",
   "metadata": {},
   "source": [
    "## 4. Connect to API\n",
    "\n",
    "Test the API connection and verify your API key."
   ]
  },
  {
   "cell_type": "code",
   "execution_count": null,
   "id": "875e4c28",
   "metadata": {},
   "outputs": [],
   "source": [
    "# Connect to API (verifies API key)\n",
    "try:\n",
    "    connector.connect()\n",
    "    print(\"✅ Successfully connected to AirNow API!\")\n",
    "    print(\"Ready to fetch air quality data\")\n",
    "except ConnectionError as e:\n",
    "    print(f\"❌ Connection failed: {e}\")\n",
    "    print(\"\\nTroubleshooting:\")\n",
    "    print(\"1. Verify your API key is correct\")\n",
    "    print(\"2. Check internet connection\")\n",
    "    print(\"3. Visit https://docs.airnowapi.org/ for help\")"
   ]
  },
  {
   "cell_type": "markdown",
   "id": "c642db99",
   "metadata": {},
   "source": [
    "## 5. Get Current Air Quality by ZIP Code\n",
    "\n",
    "Retrieve current AQI observations for a specific location."
   ]
  },
  {
   "cell_type": "code",
   "execution_count": null,
   "id": "c53f94ce",
   "metadata": {},
   "outputs": [],
   "source": [
    "# Get current AQI for San Francisco (ZIP: 94102)\n",
    "try:\n",
    "    current_sf = connector.get_current_by_zip(\"94102\", distance=25)\n",
    "    \n",
    "    if len(current_sf) > 0:\n",
    "        print(f\"Current Air Quality - San Francisco (94102)\")\n",
    "        print(f\"Retrieved: {len(current_sf)} observations\\n\")\n",
    "        print(current_sf[['DateObserved', 'HourObserved', 'ReportingArea', \n",
    "                          'ParameterName', 'AQI', 'Category.Name']])\n",
    "    else:\n",
    "        print(\"No current data available for this location\")\n",
    "        print(\"This may be normal if using a demo API key\")\n",
    "except Exception as e:\n",
    "    print(f\"Note: {e}\")\n",
    "    print(\"Replace with your actual API key to fetch real data\")"
   ]
  },
  {
   "cell_type": "markdown",
   "id": "f9df6c7e",
   "metadata": {},
   "source": [
    "## 6. Get Current Air Quality by Coordinates\n",
    "\n",
    "Retrieve AQI data using latitude/longitude."
   ]
  },
  {
   "cell_type": "code",
   "execution_count": null,
   "id": "26a7713e",
   "metadata": {},
   "outputs": [],
   "source": [
    "# Get current AQI for Los Angeles (34.0522° N, 118.2437° W)\n",
    "try:\n",
    "    current_la = connector.get_current_by_latlon(34.0522, -118.2437, distance=25)\n",
    "    \n",
    "    if len(current_la) > 0:\n",
    "        print(f\"Current Air Quality - Los Angeles\")\n",
    "        print(f\"Coordinates: 34.0522°N, 118.2437°W\\n\")\n",
    "        print(current_la[['ReportingArea', 'ParameterName', 'AQI', 'Category.Name']])\n",
    "    else:\n",
    "        print(\"No data available\")\n",
    "except Exception as e:\n",
    "    print(f\"Note: {e}\")"
   ]
  },
  {
   "cell_type": "markdown",
   "id": "fe341633",
   "metadata": {},
   "source": [
    "## 7. Get Air Quality Forecast\n",
    "\n",
    "Retrieve forecasted AQI for tomorrow."
   ]
  },
  {
   "cell_type": "code",
   "execution_count": null,
   "id": "38fe2103",
   "metadata": {},
   "outputs": [],
   "source": [
    "# Get forecast for New York City\n",
    "try:\n",
    "    tomorrow = datetime.now() + timedelta(days=1)\n",
    "    forecast_nyc = connector.get_forecast_by_zip(\"10001\", date=tomorrow)\n",
    "    \n",
    "    if len(forecast_nyc) > 0:\n",
    "        print(f\"Air Quality Forecast - New York City (10001)\")\n",
    "        print(f\"Forecast Date: {tomorrow.strftime('%Y-%m-%d')}\\n\")\n",
    "        print(forecast_nyc[['DateForecast', 'ReportingArea', 'ParameterName', \n",
    "                             'AQI', 'Category.Name', 'ActionDay']])\n",
    "        \n",
    "        if 'Discussion' in forecast_nyc.columns and forecast_nyc.iloc[0]['Discussion']:\n",
    "            print(f\"\\nForecast Discussion:\\n{forecast_nyc.iloc[0]['Discussion']}\")\n",
    "    else:\n",
    "        print(\"No forecast data available\")\n",
    "except Exception as e:\n",
    "    print(f\"Note: {e}\")"
   ]
  },
  {
   "cell_type": "markdown",
   "id": "f22a3210",
   "metadata": {},
   "source": [
    "## 8. Get Historical Air Quality Data\n",
    "\n",
    "Retrieve historical AQI observations."
   ]
  },
  {
   "cell_type": "code",
   "execution_count": null,
   "id": "606a6eaa",
   "metadata": {},
   "outputs": [],
   "source": [
    "# Get historical data for past week\n",
    "try:\n",
    "    start_date = datetime.now() - timedelta(days=7)\n",
    "    historical = connector.get_historical_by_zip(\"94102\", start_date=start_date)\n",
    "    \n",
    "    if len(historical) > 0:\n",
    "        print(f\"Historical Air Quality - San Francisco\")\n",
    "        print(f\"Period: {start_date.strftime('%Y-%m-%d')} to today\")\n",
    "        print(f\"Records: {len(historical)}\\n\")\n",
    "        print(historical[['DateObserved', 'ParameterName', 'AQI', 'Category.Name']].head(10))\n",
    "    else:\n",
    "        print(\"No historical data available\")\n",
    "except Exception as e:\n",
    "    print(f\"Note: {e}\")"
   ]
  },
  {
   "cell_type": "markdown",
   "id": "184a318b",
   "metadata": {},
   "source": [
    "## 9. AQI Category Reference\n",
    "\n",
    "Understanding the Air Quality Index scale."
   ]
  },
  {
   "cell_type": "code",
   "execution_count": null,
   "id": "200d7297",
   "metadata": {},
   "outputs": [],
   "source": [
    "# Display AQI categories\n",
    "print(\"AIR QUALITY INDEX (AQI) CATEGORIES\\n\")\n",
    "print(\"=\"*60)\n",
    "\n",
    "aqi_info = [\n",
    "    (\"0-50\", \"Good\", \"🟢\", \"Air quality is satisfactory\"),\n",
    "    (\"51-100\", \"Moderate\", \"🟡\", \"Acceptable for most people\"),\n",
    "    (\"101-150\", \"Unhealthy for Sensitive Groups\", \"🟠\", \"Sensitive groups may be affected\"),\n",
    "    (\"151-200\", \"Unhealthy\", \"🔴\", \"Everyone may experience effects\"),\n",
    "    (\"201-300\", \"Very Unhealthy\", \"🟣\", \"Health alert: everyone more serious effects\"),\n",
    "    (\"301-500\", \"Hazardous\", \"🟤\", \"Health warning of emergency conditions\")\n",
    "]\n",
    "\n",
    "for aqi_range, category, emoji, description in aqi_info:\n",
    "    print(f\"{emoji} {aqi_range:10} {category:30} {description}\")\n",
    "\n",
    "print(\"\\n\" + \"=\"*60)\n",
    "\n",
    "# Test category lookup\n",
    "test_values = [25, 75, 125, 175, 250, 400]\n",
    "print(\"\\nExample AQI Values:\")\n",
    "for val in test_values:\n",
    "    category = connector.get_aqi_category(val)\n",
    "    print(f\"  AQI {val}: {category}\")"
   ]
  },
  {
   "cell_type": "markdown",
   "id": "99872f9c",
   "metadata": {},
   "source": [
    "## 10. Filter by Parameter\n",
    "\n",
    "Focus on specific pollutants (PM2.5, Ozone, etc.)."
   ]
  },
  {
   "cell_type": "code",
   "execution_count": null,
   "id": "1162a599",
   "metadata": {},
   "outputs": [],
   "source": [
    "# Create sample data for demonstration\n",
    "sample_data = pd.DataFrame({\n",
    "    'DateObserved': ['2025-10-19'] * 4,\n",
    "    'ReportingArea': ['Sample City'] * 4,\n",
    "    'ParameterName': ['PM2.5', 'OZONE', 'PM10', 'CO'],\n",
    "    'AQI': [45, 58, 32, 15],\n",
    "    'Category.Name': ['Good', 'Moderate', 'Good', 'Good']\n",
    "})\n",
    "\n",
    "# Filter for PM2.5 only\n",
    "pm25_data = connector.filter_by_parameter(sample_data, 'PM2.5')\n",
    "print(\"PM2.5 Data:\")\n",
    "print(pm25_data)\n",
    "\n",
    "# Filter for Ozone\n",
    "ozone_data = connector.filter_by_parameter(sample_data, 'OZONE')\n",
    "print(\"\\nOzone Data:\")\n",
    "print(ozone_data)"
   ]
  },
  {
   "cell_type": "markdown",
   "id": "2348e6c4",
   "metadata": {},
   "source": [
    "## 11. Filter by AQI Threshold\n",
    "\n",
    "Find observations exceeding air quality thresholds."
   ]
  },
  {
   "cell_type": "code",
   "execution_count": null,
   "id": "23540a59",
   "metadata": {},
   "outputs": [],
   "source": [
    "# Filter for unhealthy air quality (AQI > 100)\n",
    "unhealthy = connector.filter_by_aqi_threshold(sample_data, threshold=50, above=True)\n",
    "\n",
    "print(\"Air Quality Observations with AQI > 50:\")\n",
    "print(unhealthy[['ParameterName', 'AQI', 'Category.Name']])\n",
    "\n",
    "# Filter for good air quality (AQI < 50)\n",
    "good_quality = connector.filter_by_aqi_threshold(sample_data, threshold=50, above=False)\n",
    "print(\"\\nAir Quality Observations with AQI < 50:\")\n",
    "print(good_quality[['ParameterName', 'AQI', 'Category.Name']])"
   ]
  },
  {
   "cell_type": "markdown",
   "id": "4d256ccb",
   "metadata": {},
   "source": [
    "## 12. Summarize by Parameter\n",
    "\n",
    "Generate statistics for each pollutant."
   ]
  },
  {
   "cell_type": "code",
   "execution_count": null,
   "id": "e715bfa4",
   "metadata": {},
   "outputs": [],
   "source": [
    "# Create larger sample dataset\n",
    "extended_sample = pd.DataFrame({\n",
    "    'ParameterName': ['PM2.5', 'PM2.5', 'PM2.5', 'OZONE', 'OZONE', 'OZONE', 'PM10', 'PM10'],\n",
    "    'AQI': [45, 52, 38, 68, 75, 62, 32, 28]\n",
    "})\n",
    "\n",
    "# Get summary statistics\n",
    "summary = connector.summarize_by_parameter(extended_sample)\n",
    "\n",
    "print(\"Air Quality Summary by Parameter:\\n\")\n",
    "print(summary.to_string(index=False))\n",
    "\n",
    "print(\"\\nInterpretation:\")\n",
    "for _, row in summary.iterrows():\n",
    "    category = connector.get_aqi_category(int(row['Mean_AQI']))\n",
    "    print(f\"  {row['ParameterName']}: Average AQI {row['Mean_AQI']:.1f} ({category})\")"
   ]
  },
  {
   "cell_type": "markdown",
   "id": "979081c9",
   "metadata": {},
   "source": [
    "## 13. Visualization: Current AQI by Parameter"
   ]
  },
  {
   "cell_type": "code",
   "execution_count": null,
   "id": "729eac33",
   "metadata": {},
   "outputs": [],
   "source": [
    "# Bar chart of AQI by parameter\n",
    "fig, ax = plt.subplots(figsize=(12, 6))\n",
    "\n",
    "colors = ['#2ECC71' if aqi <= 50 else '#F39C12' if aqi <= 100 else '#E74C3C' \n",
    "          for aqi in sample_data['AQI']]\n",
    "\n",
    "bars = ax.bar(sample_data['ParameterName'], sample_data['AQI'], color=colors)\n",
    "\n",
    "# Add AQI category lines\n",
    "ax.axhline(y=50, color='green', linestyle='--', alpha=0.5, label='Good')\n",
    "ax.axhline(y=100, color='orange', linestyle='--', alpha=0.5, label='Moderate')\n",
    "ax.axhline(y=150, color='red', linestyle='--', alpha=0.5, label='Unhealthy (Sensitive)')\n",
    "\n",
    "ax.set_xlabel('Pollutant', fontsize=12)\n",
    "ax.set_ylabel('Air Quality Index (AQI)', fontsize=12)\n",
    "ax.set_title('Current Air Quality Index by Parameter', fontsize=14, fontweight='bold')\n",
    "ax.legend(loc='upper right')\n",
    "ax.grid(axis='y', alpha=0.3)\n",
    "\n",
    "# Add AQI values on bars\n",
    "for bar in bars:\n",
    "    height = bar.get_height()\n",
    "    ax.text(bar.get_x() + bar.get_width()/2., height,\n",
    "            f'{int(height)}',\n",
    "            ha='center', va='bottom', fontsize=11, fontweight='bold')\n",
    "\n",
    "plt.tight_layout()\n",
    "plt.show()"
   ]
  },
  {
   "cell_type": "markdown",
   "id": "b82132a0",
   "metadata": {},
   "source": [
    "## 14. Visualization: AQI Trend Over Time"
   ]
  },
  {
   "cell_type": "code",
   "execution_count": null,
   "id": "e71cdd3c",
   "metadata": {},
   "outputs": [],
   "source": [
    "# Create sample time series data\n",
    "dates = pd.date_range(start='2025-10-12', end='2025-10-19', freq='D')\n",
    "trend_data = pd.DataFrame({\n",
    "    'Date': dates,\n",
    "    'PM2.5': [42, 48, 55, 62, 58, 45, 38, 41],\n",
    "    'Ozone': [65, 68, 72, 78, 75, 70, 64, 62]\n",
    "})\n",
    "\n",
    "# Line plot\n",
    "fig, ax = plt.subplots(figsize=(14, 6))\n",
    "\n",
    "ax.plot(trend_data['Date'], trend_data['PM2.5'], marker='o', linewidth=2, \n",
    "        label='PM2.5', color='#E74C3C')\n",
    "ax.plot(trend_data['Date'], trend_data['Ozone'], marker='s', linewidth=2, \n",
    "        label='Ozone', color='#3498DB')\n",
    "\n",
    "# Add AQI category zones\n",
    "ax.axhspan(0, 50, alpha=0.1, color='green', label='Good')\n",
    "ax.axhspan(51, 100, alpha=0.1, color='yellow', label='Moderate')\n",
    "ax.axhspan(101, 150, alpha=0.1, color='orange', label='Unhealthy (Sensitive)')\n",
    "\n",
    "ax.set_xlabel('Date', fontsize=12)\n",
    "ax.set_ylabel('Air Quality Index (AQI)', fontsize=12)\n",
    "ax.set_title('7-Day AQI Trend', fontsize=14, fontweight='bold')\n",
    "ax.legend(loc='best')\n",
    "ax.grid(alpha=0.3)\n",
    "plt.xticks(rotation=45)\n",
    "\n",
    "plt.tight_layout()\n",
    "plt.show()\n",
    "\n",
    "print(\"\\nTrend Analysis:\")\n",
    "print(f\"PM2.5 - Average: {trend_data['PM2.5'].mean():.1f}, \"\n",
    "      f\"Max: {trend_data['PM2.5'].max()}, Min: {trend_data['PM2.5'].min()}\")\n",
    "print(f\"Ozone - Average: {trend_data['Ozone'].mean():.1f}, \"\n",
    "      f\"Max: {trend_data['Ozone'].max()}, Min: {trend_data['Ozone'].min()}\")"
   ]
  },
  {
   "cell_type": "markdown",
   "id": "11a1322c",
   "metadata": {},
   "source": [
    "## 15. Multi-Location Comparison"
   ]
  },
  {
   "cell_type": "code",
   "execution_count": null,
   "id": "dc027357",
   "metadata": {},
   "outputs": [],
   "source": [
    "# Sample data for multiple cities\n",
    "cities_data = pd.DataFrame({\n",
    "    'City': ['San Francisco', 'Los Angeles', 'New York', 'Chicago', 'Houston'],\n",
    "    'PM2.5': [42, 65, 48, 52, 58],\n",
    "    'Ozone': [55, 78, 62, 68, 72],\n",
    "    'Overall_AQI': [55, 78, 62, 68, 72]\n",
    "})\n",
    "\n",
    "# Grouped bar chart\n",
    "fig, ax = plt.subplots(figsize=(14, 6))\n",
    "\n",
    "x = range(len(cities_data))\n",
    "width = 0.35\n",
    "\n",
    "bars1 = ax.bar([i - width/2 for i in x], cities_data['PM2.5'], width, \n",
    "               label='PM2.5', color='#E74C3C', alpha=0.8)\n",
    "bars2 = ax.bar([i + width/2 for i in x], cities_data['Ozone'], width, \n",
    "               label='Ozone', color='#3498DB', alpha=0.8)\n",
    "\n",
    "ax.set_xlabel('City', fontsize=12)\n",
    "ax.set_ylabel('AQI', fontsize=12)\n",
    "ax.set_title('Air Quality Comparison Across Cities', fontsize=14, fontweight='bold')\n",
    "ax.set_xticks(x)\n",
    "ax.set_xticklabels(cities_data['City'])\n",
    "ax.legend()\n",
    "ax.grid(axis='y', alpha=0.3)\n",
    "\n",
    "# Add horizontal line for Moderate threshold\n",
    "ax.axhline(y=100, color='orange', linestyle='--', alpha=0.5, label='Moderate Threshold')\n",
    "\n",
    "plt.tight_layout()\n",
    "plt.show()\n",
    "\n",
    "print(\"\\nCity Rankings (by Overall AQI):\")\n",
    "ranked = cities_data.sort_values('Overall_AQI')\n",
    "for i, row in enumerate(ranked.itertuples(), 1):\n",
    "    category = connector.get_aqi_category(row.Overall_AQI)\n",
    "    print(f\"{i}. {row.City}: AQI {row.Overall_AQI} ({category})\")"
   ]
  },
  {
   "cell_type": "markdown",
   "id": "f84f603c",
   "metadata": {},
   "source": [
    "## 16. Real-World Usage Examples"
   ]
  },
  {
   "cell_type": "code",
   "execution_count": null,
   "id": "ff034541",
   "metadata": {},
   "outputs": [],
   "source": [
    "print(\"REAL-WORLD USE CASES FOR EPA AIR QUALITY DATA\\n\")\n",
    "print(\"=\"*60)\n",
    "\n",
    "use_cases = [\n",
    "    (\"🏃 Personal Health\", \"Check AQI before outdoor exercise\"),\n",
    "    (\"🏫 Schools\", \"Decide on outdoor recess based on air quality\"),\n",
    "    (\"🏥 Healthcare\", \"Alert patients with respiratory conditions\"),\n",
    "    (\"🏗️ Construction\", \"Plan work schedules around air quality\"),\n",
    "    (\"📱 Apps\", \"Build air quality monitoring applications\"),\n",
    "    (\"📊 Research\", \"Analyze pollution trends and patterns\"),\n",
    "    (\"🏛️ Policy\", \"Inform environmental regulations\"),\n",
    "    (\"🚗 Transportation\", \"Traffic management during high pollution\"),\n",
    "    (\"🌳 Environmental\", \"Track impact of conservation efforts\"),\n",
    "    (\"⚠️ Alerts\", \"Send notifications for unhealthy air quality\")\n",
    "]\n",
    "\n",
    "for emoji, use_case, description in use_cases:\n",
    "    print(f\"{emoji} {use_case:20} - {description}\")\n",
    "\n",
    "print(\"\\n\" + \"=\"*60)"
   ]
  },
  {
   "cell_type": "markdown",
   "id": "44817bf6",
   "metadata": {},
   "source": [
    "## 17. Best Practices"
   ]
  },
  {
   "cell_type": "code",
   "execution_count": null,
   "id": "6f076ce4",
   "metadata": {},
   "outputs": [],
   "source": [
    "print(\"BEST PRACTICES FOR USING EPA AIRNOW API\\n\")\n",
    "print(\"=\"*60)\n",
    "\n",
    "practices = [\n",
    "    \"✅ Cache API responses to minimize requests\",\n",
    "    \"✅ Check data timestamps for freshness\",\n",
    "    \"✅ Handle missing data gracefully\",\n",
    "    \"✅ Use appropriate distance parameter (25-50 miles)\",\n",
    "    \"✅ Respect API rate limits\",\n",
    "    \"✅ Store API key securely (environment variables)\",\n",
    "    \"✅ Validate data before use\",\n",
    "    \"✅ Consider multiple parameters (PM2.5 + Ozone)\",\n",
    "    \"⚠️ Remember: Data is preliminary, not for regulatory use\",\n",
    "    \"⚠️ Use EPA AQS for official/regulatory data\"\n",
    "]\n",
    "\n",
    "for practice in practices:\n",
    "    print(f\"  {practice}\")\n",
    "\n",
    "print(\"\\n\" + \"=\"*60)\n",
    "\n",
    "print(\"\\nAPI Rate Limits:\")\n",
    "print(\"  - Free tier: 500 requests/hour\")\n",
    "print(\"  - Be considerate with request frequency\")\n",
    "print(\"  - Cache data when possible\")"
   ]
  },
  {
   "cell_type": "markdown",
   "id": "36268a44",
   "metadata": {},
   "source": [
    "## 18. Cleanup\n",
    "\n",
    "Disconnect from the API when done."
   ]
  },
  {
   "cell_type": "code",
   "execution_count": null,
   "id": "c5f60f2d",
   "metadata": {},
   "outputs": [],
   "source": [
    "# Disconnect from API\n",
    "try:\n",
    "    connector.disconnect()\n",
    "    print(\"✅ Disconnected from AirNow API\")\n",
    "except:\n",
    "    print(\"Already disconnected\")"
   ]
  },
  {
   "cell_type": "markdown",
   "id": "2d963a78",
   "metadata": {},
   "source": [
    "## 19. Next Steps\n",
    "\n",
    "**Further Exploration:**\n",
    "- Get your free API key at https://docs.airnowapi.org/login\n",
    "- Explore historical trends over weeks/months\n",
    "- Create automated alerts for high AQI\n",
    "- Build geographic visualizations (maps)\n",
    "- Correlate with weather data\n",
    "- Compare multiple cities/regions\n",
    "- Integrate with health outcome data (HRSA, CHR)\n",
    "\n",
    "**Data Integration:**\n",
    "- Combine with EPA EJScreen for environmental justice analysis\n",
    "- Cross-reference with County Health Rankings\n",
    "- Overlay with Census demographic data\n",
    "\n",
    "**Advanced Features:**\n",
    "- Monitoring site queries by bounding box\n",
    "- Download contour maps (KML format)\n",
    "- Multi-parameter analysis\n",
    "- Seasonal trend analysis\n",
    "\n",
    "**Resources:**\n",
    "- API Documentation: https://docs.airnowapi.org/\n",
    "- AQI Information: https://www.airnow.gov/aqi/aqi-basics/\n",
    "- EPA AQS (Official Data): https://www.epa.gov/aqs\n",
    "\n",
    "---\n",
    "\n",
    "© 2025 KR-Labs. All rights reserved.  \n",
    "KR-Labs™ is a trademark of Quipu Research Labs, LLC.\n",
    "\n",
    "**Data Disclaimer:** AirNow data is preliminary and unverified. For regulatory decisions, use EPA's Air Quality System (AQS)."
   ]
  }
 ],
 "metadata": {
  "language_info": {
   "name": "python"
  }
 },
 "nbformat": 4,
 "nbformat_minor": 5
}
