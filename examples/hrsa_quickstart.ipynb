{
 "cells": [
  {
   "cell_type": "markdown",
   "id": "d1f05338",
   "metadata": {},
   "source": [
    "# HRSA Health Professional Shortage Area (HPSA) Connector - Quickstart Guide\n",
    "\n",
    "This notebook demonstrates how to use the **HRSAConnector** to analyze health professional shortage areas, medically underserved areas, and health center data from the Health Resources and Services Administration (HRSA).\n",
    "\n",
    "**Data Source:** HRSA Data Warehouse (https://data.hrsa.gov/)\n",
    "\n",
    "**Coverage:**\n",
    "- Health Professional Shortage Areas (HPSA)\n",
    "- Medically Underserved Areas/Populations (MUA/MUP)\n",
    "- Federally Qualified Health Centers (FQHC)\n",
    "\n",
    "© 2025 KR-Labs. All rights reserved."
   ]
  },
  {
   "cell_type": "markdown",
   "id": "0ab80f40",
   "metadata": {},
   "source": [
    "## 1. Setup and Installation\n",
    "\n",
    "First, ensure the KRL Data Connectors package is installed."
   ]
  },
  {
   "cell_type": "code",
   "execution_count": null,
   "id": "97bf2b9b",
   "metadata": {},
   "outputs": [],
   "source": [
    "# Install the package (uncomment if needed)\n# !pip install krl-data-connectors\n\nimport pandas as pd\nimport matplotlib.pyplot as plt\nimport seaborn as sns\nfrom pathlib import Path\n\nfrom krl_data_connectors.health import HRSAConnector\n\n# Configure plotting\nsns.set_style('whitegrid')\nplt.rcParams['figure.figsize'] = (12, 6)\n\nprint(\" Imports successful!\")"
   ]
  },
  {
   "cell_type": "markdown",
   "id": "a2f81260",
   "metadata": {},
   "source": [
    "## 2. Initialize Connector\n",
    "\n",
    "The HRSA connector works with CSV files downloaded from the HRSA Data Warehouse."
   ]
  },
  {
   "cell_type": "code",
   "execution_count": null,
   "id": "6d99055f",
   "metadata": {},
   "outputs": [],
   "source": [
    "# Initialize the connector\n",
    "connector = HRSAConnector()\n",
    "\n",
    "print(\"HRSA Connector initialized!\")\n",
    "print(f\"\\nAvailable HPSA Disciplines: {connector.HPSA_DISCIPLINES}\")\n",
    "print(f\"Available HPSA Types: {connector.HPSA_TYPES}\")\n",
    "print(f\"Available MUA Types: {connector.MUA_TYPES}\")"
   ]
  },
  {
   "cell_type": "markdown",
   "id": "abfedf99",
   "metadata": {},
   "source": [
    "## 3. Download Data\n",
    "\n",
    "**Note:** You need to download HPSA, MUA, and Health Center data from https://data.hrsa.gov/data/download\n",
    "\n",
    "For this example, we'll create sample data to demonstrate the functionality."
   ]
  },
  {
   "cell_type": "code",
   "execution_count": null,
   "id": "7782cae0",
   "metadata": {},
   "outputs": [],
   "source": [
    "# Create sample HPSA data for demonstration\nsample_hpsa = pd.DataFrame({\n    'State Abbreviation': ['CA', 'CA', 'CA', 'TX', 'TX', 'NY', 'NY', 'FL', 'FL', 'IL'],\n    'County Equivalent Name': ['Los Angeles', 'Fresno', 'Riverside', 'Harris', 'Dallas', \n                                'Bronx', 'Kings', 'Miami-Dade', 'Broward', 'Cook'],\n    'HPSA Discipline Class': ['Primary Care', 'Dental Health', 'Mental Health', 'Primary Care', \n                               'Mental Health', 'Primary Care', 'Dental Health', 'Primary Care', \n                               'Mental Health', 'Primary Care'],\n    'Designation Type': ['Geographic', 'Population', 'Geographic', 'Geographic', 'Population',\n                         'Geographic', 'Geographic', 'Population', 'Geographic', 'Geographic'],\n    'HPSA Score': [18, 22, 15, 20, 17, 25, 19, 14, 16, 21],\n    'Rural Status': ['Urban', 'Rural', 'Urban', 'Urban', 'Urban', 'Urban', 'Urban', 'Urban', 'Urban', 'Urban'],\n    'HPSA Name': ['LA County Area 1', 'Fresno County Rural', 'Riverside Mental Health', \n                  'Harris County HPSA', 'Dallas Mental Health', 'Bronx HPSA', 'Brooklyn Dental',\n                  'Miami-Dade Primary', 'Broward Mental Health', 'Cook County HPSA'],\n    'Population': [125000, 45000, 89000, 156000, 78000, 198000, 112000, 67000, 92000, 175000]\n})\n\n# Save to temporary CSV\ntemp_dir = Path('/tmp/hrsa_demo')\ntemp_dir.mkdir(exist_ok=True)\nhpsa_file = temp_dir / 'sample_hpsa.csv'\nsample_hpsa.to_csv(hpsa_file, index=False)\n\nprint(f\" Sample HPSA data created ({len(sample_hpsa)} records)\")\nprint(f\" Saved to: {hpsa_file}\")"
   ]
  },
  {
   "cell_type": "markdown",
   "id": "e22ced53",
   "metadata": {},
   "source": [
    "## 4. Load HPSA Data\n",
    "\n",
    "Load Health Professional Shortage Area data to identify areas with healthcare provider shortages."
   ]
  },
  {
   "cell_type": "code",
   "execution_count": null,
   "id": "c71b6d0d",
   "metadata": {},
   "outputs": [],
   "source": [
    "# Load HPSA data\n",
    "hpsa_data = connector.load_hpsa_data(hpsa_file)\n",
    "\n",
    "print(f\"Loaded {len(hpsa_data)} HPSA designations\\n\")\n",
    "print(\"First few records:\")\n",
    "hpsa_data.head()"
   ]
  },
  {
   "cell_type": "markdown",
   "id": "9865d2b1",
   "metadata": {},
   "source": [
    "## 5. Filter by State\n",
    "\n",
    "Analyze health shortage areas for a specific state."
   ]
  },
  {
   "cell_type": "code",
   "execution_count": null,
   "id": "76f3d2ea",
   "metadata": {},
   "outputs": [],
   "source": [
    "# Get California HPSA data\n",
    "ca_hpsa = connector.get_state_data(hpsa_data, 'CA')\n",
    "\n",
    "print(f\"California has {len(ca_hpsa)} HPSA designations\\n\")\n",
    "print(\"California HPSAs by discipline:\")\n",
    "print(ca_hpsa['hpsa_discipline_class'].value_counts())\n",
    "print(\"\\nAverage HPSA Score:\", ca_hpsa['hpsa_score'].mean())"
   ]
  },
  {
   "cell_type": "markdown",
   "id": "f0242a68",
   "metadata": {},
   "source": [
    "## 6. Filter by Discipline\n",
    "\n",
    "Focus on specific healthcare disciplines (Primary Care, Dental Health, or Mental Health)."
   ]
  },
  {
   "cell_type": "code",
   "execution_count": null,
   "id": "4154f651",
   "metadata": {},
   "outputs": [],
   "source": [
    "# Get Primary Care shortages\n",
    "primary_care = connector.filter_by_discipline(hpsa_data, 'Primary Care')\n",
    "\n",
    "print(f\"Primary Care HPSAs: {len(primary_care)}\")\n",
    "print(f\"\\nStates with Primary Care shortages:\")\n",
    "print(primary_care['state_abbreviation'].value_counts())\n",
    "\n",
    "# Get Mental Health shortages\n",
    "mental_health = connector.filter_by_discipline(hpsa_data, 'Mental Health')\n",
    "print(f\"\\nMental Health HPSAs: {len(mental_health)}\")"
   ]
  },
  {
   "cell_type": "markdown",
   "id": "7d975087",
   "metadata": {},
   "source": [
    "## 7. Identify High-Need Areas\n",
    "\n",
    "HPSA scores range from 0-26:\n",
    "- 0-14: Moderate shortage\n",
    "- 15-19: High shortage\n",
    "- 20-26: Critical shortage"
   ]
  },
  {
   "cell_type": "code",
   "execution_count": null,
   "id": "1240c424",
   "metadata": {},
   "outputs": [],
   "source": [
    "# Get critical shortage areas (score >= 20)\n",
    "critical_areas = connector.get_high_need_areas(hpsa_data, score_threshold=20)\n",
    "\n",
    "print(f\"Critical shortage areas (score ≥ 20): {len(critical_areas)}\")\n",
    "print(f\"\\nCritical areas by state:\")\n",
    "print(critical_areas['state_abbreviation'].value_counts())\n",
    "\n",
    "print(\"\\nCritical shortage details:\")\n",
    "print(critical_areas[['hpsa_name', 'state_abbreviation', 'hpsa_discipline_class', \n",
    "                       'hpsa_score', 'population']].sort_values('hpsa_score', ascending=False))"
   ]
  },
  {
   "cell_type": "markdown",
   "id": "983f8345",
   "metadata": {},
   "source": [
    "## 8. Rural vs Urban Analysis\n",
    "\n",
    "Compare healthcare shortages in rural vs urban areas."
   ]
  },
  {
   "cell_type": "code",
   "execution_count": null,
   "id": "4cdc2a3d",
   "metadata": {},
   "outputs": [],
   "source": [
    "# Get rural HPSAs\n",
    "rural_hpsa = connector.get_rural_areas(hpsa_data)\n",
    "\n",
    "print(f\"Rural HPSAs: {len(rural_hpsa)}\")\n",
    "print(f\"Urban HPSAs: {len(hpsa_data) - len(rural_hpsa)}\")\n",
    "\n",
    "# Compare average scores\n",
    "rural_avg = rural_hpsa['hpsa_score'].mean()\n",
    "urban_hpsa = hpsa_data[hpsa_data['rural_status'] != 'Rural']\n",
    "urban_avg = urban_hpsa['hpsa_score'].mean()\n",
    "\n",
    "print(f\"\\nAverage HPSA Score - Rural: {rural_avg:.2f}\")\n",
    "print(f\"Average HPSA Score - Urban: {urban_avg:.2f}\")"
   ]
  },
  {
   "cell_type": "markdown",
   "id": "a62a8909",
   "metadata": {},
   "source": [
    "## 9. State-Level Summary\n",
    "\n",
    "Generate comprehensive statistics by state."
   ]
  },
  {
   "cell_type": "code",
   "execution_count": null,
   "id": "e5511f15",
   "metadata": {},
   "outputs": [],
   "source": [
    "# Summarize by state\n",
    "state_summary = connector.summarize_by_state(\n",
    "    hpsa_data,\n",
    "    metrics=['hpsa_score', 'population']\n",
    ")\n",
    "\n",
    "print(\"State-level HPSA Summary:\")\n",
    "print(state_summary.sort_values('hpsa_score_mean', ascending=False))"
   ]
  },
  {
   "cell_type": "markdown",
   "id": "553d0d3e",
   "metadata": {},
   "source": [
    "## 10. Visualization: HPSA Scores by State"
   ]
  },
  {
   "cell_type": "code",
   "execution_count": null,
   "id": "0dd7562f",
   "metadata": {},
   "outputs": [],
   "source": [
    "# Bar chart of average HPSA scores by state\nfig, ax = plt.subplots(figsize=(12, 6))\n\nstate_avg = hpsa_data.groupby('state_abbreviation')['hpsa_score'].mean().sort_values(ascending=False)\n\nbars = ax.bar(state_avg.index, state_avg.values)\n\n# Color code by severity\ncolors = ['red' if x >= 20 else 'orange' if x >= 15 else 'yellow' for x in state_avg.values]\nfor bar, color in zip(bars, colors):\n    bar.set_color(color)\n\nax.axhline(y=20, color='red', linestyle='--', label='Critical (≥20)', alpha=0.7)\nax.axhline(y=15, color='orange', linestyle='--', label='High Need (≥15)', alpha=0.7)\n\nax.set_xlabel('State', fontsize=12)\nax.set_ylabel('Average HPSA Score', fontsize=12)\nax.set_title('Average HPSA Scores by State', fontsize=14, fontweight='bold')\nax.legend()\nax.grid(axis='y', alpha=0.3)\n\nplt.tight_layout()\nplt.show()\n\nprint(\"Legend:\")\nprint(\" Red: Critical shortage (≥20)\")\nprint(\" Orange: High need (15-19)\")\nprint(\" Yellow: Moderate shortage (<15)\")"
   ]
  },
  {
   "cell_type": "markdown",
   "id": "3747625a",
   "metadata": {},
   "source": [
    "## 11. Visualization: Discipline Distribution"
   ]
  },
  {
   "cell_type": "code",
   "execution_count": null,
   "id": "61c0c054",
   "metadata": {},
   "outputs": [],
   "source": [
    "# Pie chart of HPSA disciplines\n",
    "fig, ax = plt.subplots(figsize=(10, 8))\n",
    "\n",
    "discipline_counts = hpsa_data['hpsa_discipline_class'].value_counts()\n",
    "\n",
    "ax.pie(discipline_counts.values, labels=discipline_counts.index, autopct='%1.1f%%',\n",
    "       startangle=90, colors=['#FF6B6B', '#4ECDC4', '#45B7D1'])\n",
    "ax.set_title('HPSA Designations by Discipline', fontsize=14, fontweight='bold')\n",
    "\n",
    "plt.tight_layout()\n",
    "plt.show()\n",
    "\n",
    "print(\"Discipline breakdown:\")\n",
    "for discipline, count in discipline_counts.items():\n",
    "    print(f\"  {discipline}: {count} ({count/len(hpsa_data)*100:.1f}%)\")"
   ]
  },
  {
   "cell_type": "markdown",
   "id": "9684afa2",
   "metadata": {},
   "source": [
    "## 12. County-Level Analysis\n",
    "\n",
    "Examine specific counties for detailed shortage information."
   ]
  },
  {
   "cell_type": "code",
   "execution_count": null,
   "id": "b97c927e",
   "metadata": {},
   "outputs": [],
   "source": [
    "# Get data for Los Angeles County\n",
    "la_county = connector.get_county_data(hpsa_data, 'Los Angeles', 'CA')\n",
    "\n",
    "if len(la_county) > 0:\n",
    "    print(f\"Los Angeles County, CA - HPSA Designations: {len(la_county)}\\n\")\n",
    "    print(\"Shortage areas:\")\n",
    "    print(la_county[['hpsa_name', 'hpsa_discipline_class', 'hpsa_score', \n",
    "                     'designation_type', 'population']])\n",
    "else:\n",
    "    print(\"No HPSA data found for Los Angeles County, CA\")"
   ]
  },
  {
   "cell_type": "markdown",
   "id": "e18e6390",
   "metadata": {},
   "source": [
    "## 13. Population Impact Analysis\n",
    "\n",
    "Analyze the total population affected by health professional shortages."
   ]
  },
  {
   "cell_type": "code",
   "execution_count": null,
   "id": "7a2a844f",
   "metadata": {},
   "outputs": [],
   "source": [
    "# Total population in shortage areas\n",
    "total_pop = hpsa_data['population'].sum()\n",
    "print(f\"Total population in HPSA-designated areas: {total_pop:,}\")\n",
    "\n",
    "# By discipline\n",
    "print(\"\\nPopulation by discipline:\")\n",
    "for discipline in connector.HPSA_DISCIPLINES:\n",
    "    disc_data = connector.filter_by_discipline(hpsa_data, discipline)\n",
    "    disc_pop = disc_data['population'].sum()\n",
    "    print(f\"  {discipline}: {disc_pop:,}\")\n",
    "\n",
    "# Critical shortage areas\n",
    "critical_pop = critical_areas['population'].sum()\n",
    "print(f\"\\nPopulation in critical shortage areas (score ≥20): {critical_pop:,}\")\n",
    "print(f\"Percentage of total: {critical_pop/total_pop*100:.1f}%\")"
   ]
  },
  {
   "cell_type": "markdown",
   "id": "bf64fd63",
   "metadata": {},
   "source": [
    "## 14. Key Findings Summary"
   ]
  },
  {
   "cell_type": "code",
   "execution_count": null,
   "id": "f2be28af",
   "metadata": {},
   "outputs": [],
   "source": [
    "print(\"=\"*60)\nprint(\"HRSA HEALTH PROFESSIONAL SHORTAGE AREAS - KEY FINDINGS\")\nprint(\"=\"*60)\n\nprint(f\"\\n Total HPSA Designations: {len(hpsa_data)}\")\nprint(f\" Total Population Affected: {hpsa_data['population'].sum():,}\")\n\nprint(\"\\n By Discipline:\")\nfor discipline in connector.HPSA_DISCIPLINES:\n    count = len(connector.filter_by_discipline(hpsa_data, discipline))\n    print(f\"   {discipline}: {count} designations\")\n\nprint(\"\\n Severity Breakdown:\")\ncritical = len(connector.get_high_need_areas(hpsa_data, 20))\nhigh = len(connector.get_high_need_areas(hpsa_data, 15)) - critical\nmoderate = len(hpsa_data) - critical - high\nprint(f\"   Critical (≥20): {critical} ({critical/len(hpsa_data)*100:.1f}%)\")\nprint(f\"   High Need (15-19): {high} ({high/len(hpsa_data)*100:.1f}%)\")\nprint(f\"   Moderate (<15): {moderate} ({moderate/len(hpsa_data)*100:.1f}%)\")\n\nprint(\"\\n Rural vs Urban:\")\nrural_count = len(connector.get_rural_areas(hpsa_data))\nurban_count = len(hpsa_data) - rural_count\nprint(f\"   Rural: {rural_count} ({rural_count/len(hpsa_data)*100:.1f}%)\")\nprint(f\"   Urban: {urban_count} ({urban_count/len(hpsa_data)*100:.1f}%)\")\n\nprint(\"\\n Average HPSA Score: {:.2f}\".format(hpsa_data['hpsa_score'].mean()))\nprint(f\"   Highest Score: {hpsa_data['hpsa_score'].max()}\")\nprint(f\"   Lowest Score: {hpsa_data['hpsa_score'].min()}\")\n\nprint(\"\\n\" + \"=\"*60)"
   ]
  },
  {
   "cell_type": "markdown",
   "id": "446fcf62",
   "metadata": {},
   "source": [
    "## 15. Next Steps\n",
    "\n",
    "**Further Analysis:**\n",
    "- Load MUA/MUP data using `connector.load_mua_data()`\n",
    "- Load Health Center data using `connector.load_health_center_data()`\n",
    "- Combine HPSA, MUA, and Health Center data for comprehensive analysis\n",
    "- Create geographic visualizations using geographic coordinates\n",
    "\n",
    "**Data Download:**\n",
    "Visit https://data.hrsa.gov/data/download to download:\n",
    "- HPSA data (all disciplines)\n",
    "- MUA/MUP designations\n",
    "- Health Center locations and services\n",
    "\n",
    "**Documentation:**\n",
    "For more information on HPSA scoring and methodology:\n",
    "https://bhw.hrsa.gov/workforce-shortage-areas/hpsa-criteria\n",
    "\n",
    "---\n",
    "\n",
    "© 2025 KR-Labs. All rights reserved.  \n",
    "KR-Labs™ is a trademark of Quipu Research Labs, LLC."
   ]
  }
 ],
 "metadata": {
  "language_info": {
   "name": "python"
  }
 },
 "nbformat": 4,
 "nbformat_minor": 5
}