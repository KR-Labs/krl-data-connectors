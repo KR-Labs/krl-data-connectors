{
 "cells": [
  {
   "cell_type": "markdown",
   "id": "8fbf7f60",
   "metadata": {},
   "source": [
    "# LEHD Origin-Destination Employment Statistics - Quick Start\n\n© 2025 KR-Labs. All rights reserved.  \n**Part of the KR-Labs Analytics Suite**\n\n---\n\n## Overview\n\nThe **LEHD (Longitudinal Employer-Household Dynamics)** connector provides access to origin-destination employment data showing where people live and work.\n\n**What is LEHD?**\n- Worker employment flows between home and workplace\n- Job characteristics by origin and destination\n- Worker demographics (age, earnings, industry)\n- Block-level geographic resolution\n- No API key required!\n\n**Use Cases:**\n-  Commuting pattern analysis\n-  Labor market geography\n-  Workforce characteristics\n-  Regional employment dynamics\n-  Economic impact studies\n\n**API Information:**\n- Source: U.S. Census Bureau LEHD\n- API Key: **Not required** (public data)\n- Data Format: CSV → pandas DataFrame\n- Geographic Level: Census blocks"
   ]
  },
  {
   "cell_type": "markdown",
   "id": "76baee68",
   "metadata": {},
   "source": [
    "## 1. Setup and Installation"
   ]
  },
  {
   "cell_type": "code",
   "execution_count": 1,
   "id": "9a217528",
   "metadata": {},
   "outputs": [
    {
     "name": "stdout",
     "output_type": "stream",
     "text": [
      "✅ Setup complete!\n",
      "💡 LEHD connector does not require an API key\n"
     ]
    }
   ],
   "source": [
    "# Import required libraries\nimport pandas as pd\nimport matplotlib.pyplot as plt\nimport seaborn as sns\nfrom krl_data_connectors import LEHDConnector\n\n# Set display options\npd.set_option('display.max_columns', None)\npd.set_option('display.width', None)\nsns.set_style('whitegrid')\n\nprint(\" Setup complete!\")\nprint(\" LEHD connector does not require an API key\")"
   ]
  },
  {
   "cell_type": "markdown",
   "id": "f8f811fd",
   "metadata": {},
   "source": [
    "## 2. Initialize Connector\n",
    "\n",
    "No API key needed - LEHD data is publicly accessible!"
   ]
  },
  {
   "cell_type": "code",
   "execution_count": 2,
   "id": "a6edb5c2",
   "metadata": {},
   "outputs": [
    {
     "name": "stdout",
     "output_type": "stream",
     "text": [
      "{\"timestamp\": \"2025-10-19T21:39:30.780304Z\", \"level\": \"WARNING\", \"name\": \"LEHDConnector\", \"message\": \"No API key provided\", \"source\": {\"file\": \"base_connector.py\", \"line\": 72, \"function\": \"__init__\"}, \"levelname\": \"WARNING\", \"taskName\": \"Task-19\", \"connector\": \"LEHDConnector\"}\n",
      "{\"timestamp\": \"2025-10-19T21:39:30.780552Z\", \"level\": \"INFO\", \"name\": \"LEHDConnector\", \"message\": \"Connector initialized\", \"source\": {\"file\": \"base_connector.py\", \"line\": 82, \"function\": \"__init__\"}, \"levelname\": \"INFO\", \"taskName\": \"Task-19\", \"connector\": \"LEHDConnector\", \"cache_dir\": \"~/.krl_cache\", \"cache_ttl\": 3600, \"has_api_key\": false}\n",
      "{\"timestamp\": \"2025-10-19T21:39:30.780772Z\", \"level\": \"INFO\", \"name\": \"LEHDConnector\", \"message\": \"Initialized LEHD connector\", \"source\": {\"file\": \"lehd_connector.py\", \"line\": 83, \"function\": \"__init__\"}, \"levelname\": \"INFO\", \"taskName\": \"Task-19\"}\n",
      "✅ LEHD connector initialized\n",
      "   Base URL: https://lehd.ces.census.gov/data/lodes/LODES7\n",
      "{\"timestamp\": \"2025-10-19T21:39:30.780552Z\", \"level\": \"INFO\", \"name\": \"LEHDConnector\", \"message\": \"Connector initialized\", \"source\": {\"file\": \"base_connector.py\", \"line\": 82, \"function\": \"__init__\"}, \"levelname\": \"INFO\", \"taskName\": \"Task-19\", \"connector\": \"LEHDConnector\", \"cache_dir\": \"~/.krl_cache\", \"cache_ttl\": 3600, \"has_api_key\": false}\n",
      "{\"timestamp\": \"2025-10-19T21:39:30.780772Z\", \"level\": \"INFO\", \"name\": \"LEHDConnector\", \"message\": \"Initialized LEHD connector\", \"source\": {\"file\": \"lehd_connector.py\", \"line\": 83, \"function\": \"__init__\"}, \"levelname\": \"INFO\", \"taskName\": \"Task-19\"}\n",
      "✅ LEHD connector initialized\n",
      "   Base URL: https://lehd.ces.census.gov/data/lodes/LODES7\n"
     ]
    }
   ],
   "source": [
    "# Initialize LEHD connector\nlehd = LEHDConnector()\n\nprint(\" LEHD connector initialized\")\nprint(f\"   Base URL: {lehd.BASE_URL}\")"
   ]
  },
  {
   "cell_type": "markdown",
   "id": "f91dd2aa",
   "metadata": {},
   "source": [
    "## 3. Basic Usage: Origin-Destination Data\n",
    "\n",
    "Get employment flows showing where workers live and work."
   ]
  },
  {
   "cell_type": "code",
   "execution_count": 3,
   "id": "d48bb6a9",
   "metadata": {},
   "outputs": [
    {
     "name": "stdout",
     "output_type": "stream",
     "text": [
      "🔍 Searching for available LEHD data...\n",
      "{\"timestamp\": \"2025-10-19T21:39:30.785588Z\", \"level\": \"INFO\", \"name\": \"LEHDConnector\", \"message\": \"Fetching LEHD OD data: state=ri, year=2020, part=main, job_type=JT00, segment=S000\", \"source\": {\"file\": \"lehd_connector.py\", \"line\": 189, \"function\": \"get_od_data\"}, \"levelname\": \"INFO\", \"taskName\": \"Task-21\"}\n",
      "{\"timestamp\": \"2025-10-19T21:39:30.858658Z\", \"level\": \"ERROR\", \"name\": \"LEHDConnector\", \"message\": \"Failed to fetch OD data: HTTP Error 404: Not Found\", \"source\": {\"file\": \"lehd_connector.py\", \"line\": 207, \"function\": \"get_od_data\"}, \"levelname\": \"ERROR\", \"taskName\": \"Task-21\"}\n",
      "⚠️  2020 data not available, trying earlier year...\n",
      "{\"timestamp\": \"2025-10-19T21:39:30.859263Z\", \"level\": \"INFO\", \"name\": \"LEHDConnector\", \"message\": \"Fetching LEHD OD data: state=ri, year=2019, part=main, job_type=JT00, segment=S000\", \"source\": {\"file\": \"lehd_connector.py\", \"line\": 189, \"function\": \"get_od_data\"}, \"levelname\": \"INFO\", \"taskName\": \"Task-21\"}\n",
      "{\"timestamp\": \"2025-10-19T21:39:30.858658Z\", \"level\": \"ERROR\", \"name\": \"LEHDConnector\", \"message\": \"Failed to fetch OD data: HTTP Error 404: Not Found\", \"source\": {\"file\": \"lehd_connector.py\", \"line\": 207, \"function\": \"get_od_data\"}, \"levelname\": \"ERROR\", \"taskName\": \"Task-21\"}\n",
      "⚠️  2020 data not available, trying earlier year...\n",
      "{\"timestamp\": \"2025-10-19T21:39:30.859263Z\", \"level\": \"INFO\", \"name\": \"LEHDConnector\", \"message\": \"Fetching LEHD OD data: state=ri, year=2019, part=main, job_type=JT00, segment=S000\", \"source\": {\"file\": \"lehd_connector.py\", \"line\": 189, \"function\": \"get_od_data\"}, \"levelname\": \"INFO\", \"taskName\": \"Task-21\"}\n",
      "{\"timestamp\": \"2025-10-19T21:39:31.558902Z\", \"level\": \"INFO\", \"name\": \"LEHDConnector\", \"message\": \"Retrieved 372,191 OD records\", \"source\": {\"file\": \"lehd_connector.py\", \"line\": 203, \"function\": \"get_od_data\"}, \"levelname\": \"INFO\", \"taskName\": \"Task-21\"}\n",
      "{\"timestamp\": \"2025-10-19T21:39:31.558902Z\", \"level\": \"INFO\", \"name\": \"LEHDConnector\", \"message\": \"Retrieved 372,191 OD records\", \"source\": {\"file\": \"lehd_connector.py\", \"line\": 203, \"function\": \"get_od_data\"}, \"levelname\": \"INFO\", \"taskName\": \"Task-21\"}\n",
      "✅ Successfully loaded data for 2019\n",
      "\n",
      "📊 Retrieved 372,191 origin-destination pairs for 2019\n",
      "💼 Total jobs: 406,052\n",
      "\n",
      "================================================================================\n",
      "Sample Data (top 10 employment flows):\n",
      "================================================================================\n",
      "              w_geocode        h_geocode  S000  SA01  SA02  SA03\n",
      "86238   440050404002025  440050403032005    26     4    13     9\n",
      "359143  440090512011000  440090512012004    25     0    12    13\n",
      "188103  440070036023018  440070036023000    22    12     7     3\n",
      "158018  440070024001007  440070024001007    21     8     8     5\n",
      "143592  440070011002021  440070024001007    20     2     9     9\n",
      "188083  440070036023018  440070036012018    20    17     2     1\n",
      "359300  440090512011000  440090513062012    20     0     7    13\n",
      "304423  440070148003001  440030223003030    19     0    19     0\n",
      "188072  440070036023018  440070036012000    18    10     5     3\n",
      "188086  440070036023018  440070036021000    18     6    10     2\n",
      "✅ Successfully loaded data for 2019\n",
      "\n",
      "📊 Retrieved 372,191 origin-destination pairs for 2019\n",
      "💼 Total jobs: 406,052\n",
      "\n",
      "================================================================================\n",
      "Sample Data (top 10 employment flows):\n",
      "================================================================================\n",
      "              w_geocode        h_geocode  S000  SA01  SA02  SA03\n",
      "86238   440050404002025  440050403032005    26     4    13     9\n",
      "359143  440090512011000  440090512012004    25     0    12    13\n",
      "188103  440070036023018  440070036023000    22    12     7     3\n",
      "158018  440070024001007  440070024001007    21     8     8     5\n",
      "143592  440070011002021  440070024001007    20     2     9     9\n",
      "188083  440070036023018  440070036012018    20    17     2     1\n",
      "359300  440090512011000  440090513062012    20     0     7    13\n",
      "304423  440070148003001  440030223003030    19     0    19     0\n",
      "188072  440070036023018  440070036012000    18    10     5     3\n",
      "188086  440070036023018  440070036021000    18     6    10     2\n"
     ]
    }
   ],
   "source": [
    "# Get origin-destination data for Rhode Island\n# LEHD data has ~2 year publication lag, so try recent years\nyears_to_try = [2020, 2019, 2018, 2017]\nri_od = None\ndata_year = None\n\nprint(\" Searching for available LEHD data...\")\nfor year in years_to_try:\n    try:\n        ri_od = lehd.get_od_data(\n            state='ri',\n            year=year,\n            job_type='JT00',  # All jobs\n            segment='S000'     # All workers\n        )\n        data_year = year\n        print(f\" Successfully loaded data for {year}\")\n        break\n    except Exception as e:\n        print(f\"  {year} data not available, trying earlier year...\")\n        continue\n\nif ri_od is None:\n    raise RuntimeError(\"Could not find LEHD data for any recent year\")\n\nprint(f\"\\n Retrieved {len(ri_od):,} origin-destination pairs for {data_year}\")\nprint(f\" Total jobs: {ri_od['S000'].sum():,}\")\nprint(\"\\n\" + \"=\"*80)\nprint(\"Sample Data (top 10 employment flows):\")\nprint(\"=\"*80)\nprint(ri_od.nlargest(10, 'S000')[['w_geocode', 'h_geocode', 'S000', 'SA01', 'SA02', 'SA03']])"
   ]
  },
  {
   "cell_type": "markdown",
   "id": "5b982d78",
   "metadata": {},
   "source": [
    "## 4. Understanding LEHD Data Structure\n",
    "\n",
    "**Key Columns:**\n",
    "- `w_geocode` - Workplace census block code\n",
    "- `h_geocode` - Home census block code\n",
    "- `S000` - Total number of jobs\n",
    "\n",
    "**Worker Age Segments:**\n",
    "- `SA01` - Age 29 or younger\n",
    "- `SA02` - Age 30 to 54\n",
    "- `SA03` - Age 55 or older\n",
    "\n",
    "**Earnings Segments:**\n",
    "- `SE01` - $1250/month or less\n",
    "- `SE02` - $1251 to $3333/month\n",
    "- `SE03` - Greater than $3333/month"
   ]
  },
  {
   "cell_type": "code",
   "execution_count": 4,
   "id": "4fce52cf",
   "metadata": {},
   "outputs": [
    {
     "name": "stdout",
     "output_type": "stream",
     "text": [
      "👥 Worker Age Distribution:\n",
      "================================================================================\n",
      "  Age 29 or younger: 90,336 (22.2%)\n",
      "  Age 30 to 54:      205,351 (50.6%)\n",
      "  Age 55 or older:   110,365 (27.2%)\n",
      "\n",
      "💰 Earnings Distribution:\n",
      "================================================================================\n",
      "  $1250/month or less:     90,716 (22.3%)\n",
      "  $1251 to $3333/month:    133,773 (32.9%)\n",
      "  Greater than $3333/month: 181,563 (44.7%)\n"
     ]
    }
   ],
   "source": [
    "# Analyze worker demographics\nprint(\" Worker Age Distribution:\")\nprint(\"=\"*80)\nprint(f\"  Age 29 or younger: {ri_od['SA01'].sum():,} ({100*ri_od['SA01'].sum()/ri_od['S000'].sum():.1f}%)\")\nprint(f\"  Age 30 to 54:      {ri_od['SA02'].sum():,} ({100*ri_od['SA02'].sum()/ri_od['S000'].sum():.1f}%)\")\nprint(f\"  Age 55 or older:   {ri_od['SA03'].sum():,} ({100*ri_od['SA03'].sum()/ri_od['S000'].sum():.1f}%)\")\n\nprint(\"\\n Earnings Distribution:\")\nprint(\"=\"*80)\nprint(f\"  $1250/month or less:     {ri_od['SE01'].sum():,} ({100*ri_od['SE01'].sum()/ri_od['S000'].sum():.1f}%)\")\nprint(f\"  $1251 to $3333/month:    {ri_od['SE02'].sum():,} ({100*ri_od['SE02'].sum()/ri_od['S000'].sum():.1f}%)\")\nprint(f\"  Greater than $3333/month: {ri_od['SE03'].sum():,} ({100*ri_od['SE03'].sum()/ri_od['S000'].sum():.1f}%)\")"
   ]
  },
  {
   "cell_type": "markdown",
   "id": "2937fda5",
   "metadata": {},
   "source": [
    "## 5. Residence Area Characteristics (RAC)\n",
    "\n",
    "Analyze characteristics of workers by where they live."
   ]
  },
  {
   "cell_type": "code",
   "execution_count": 5,
   "id": "e1d289aa",
   "metadata": {},
   "outputs": [
    {
     "name": "stdout",
     "output_type": "stream",
     "text": [
      "{\"timestamp\": \"2025-10-19T21:39:31.583843Z\", \"level\": \"INFO\", \"name\": \"LEHDConnector\", \"message\": \"Fetching LEHD RAC data: state=ri, year=2019, segment=S000, job_type=JT00\", \"source\": {\"file\": \"lehd_connector.py\", \"line\": 238, \"function\": \"get_rac_data\"}, \"levelname\": \"INFO\", \"taskName\": \"Task-25\"}\n",
      "{\"timestamp\": \"2025-10-19T21:39:31.839401Z\", \"level\": \"INFO\", \"name\": \"LEHDConnector\", \"message\": \"Retrieved 17,252 RAC records\", \"source\": {\"file\": \"lehd_connector.py\", \"line\": 247, \"function\": \"get_rac_data\"}, \"levelname\": \"INFO\", \"taskName\": \"Task-25\"}\n",
      "📊 Retrieved RAC data for 17,252 census blocks (2019)\n",
      "💼 Total workers living in RI: 509,945\n",
      "\n",
      "================================================================================\n",
      "Top 10 Census Blocks by Worker Count:\n",
      "================================================================================\n",
      "             h_geocode  C000  CA01  CA02  CA03\n",
      "6613   440070024001007   742   173   366   203\n",
      "4269   440050403032005   701   155   334   212\n",
      "8904   440070114015017   571    94   345   132\n",
      "10449  440070125002000   555   137   266   152\n",
      "13057  440070146003001   535    94   282   159\n",
      "9930   440070121031000   527   125   288   114\n",
      "7727   440070103001010   514   110   278   126\n",
      "8687   440070113013002   497    97   294   106\n",
      "13014  440070146002007   497    83   261   153\n",
      "10107  440070122004004   493    95   260   138\n",
      "{\"timestamp\": \"2025-10-19T21:39:31.839401Z\", \"level\": \"INFO\", \"name\": \"LEHDConnector\", \"message\": \"Retrieved 17,252 RAC records\", \"source\": {\"file\": \"lehd_connector.py\", \"line\": 247, \"function\": \"get_rac_data\"}, \"levelname\": \"INFO\", \"taskName\": \"Task-25\"}\n",
      "📊 Retrieved RAC data for 17,252 census blocks (2019)\n",
      "💼 Total workers living in RI: 509,945\n",
      "\n",
      "================================================================================\n",
      "Top 10 Census Blocks by Worker Count:\n",
      "================================================================================\n",
      "             h_geocode  C000  CA01  CA02  CA03\n",
      "6613   440070024001007   742   173   366   203\n",
      "4269   440050403032005   701   155   334   212\n",
      "8904   440070114015017   571    94   345   132\n",
      "10449  440070125002000   555   137   266   152\n",
      "13057  440070146003001   535    94   282   159\n",
      "9930   440070121031000   527   125   288   114\n",
      "7727   440070103001010   514   110   278   126\n",
      "8687   440070113013002   497    97   294   106\n",
      "13014  440070146002007   497    83   261   153\n",
      "10107  440070122004004   493    95   260   138\n"
     ]
    }
   ],
   "source": [
    "# Get RAC data (where workers live) - use same year as OD data\nri_rac = lehd.get_rac_data(\n    state='ri',\n    year=data_year,  # Use the year that worked for OD data\n    segment='S000'\n)\n\nprint(f\" Retrieved RAC data for {len(ri_rac):,} census blocks ({data_year})\")\nprint(f\" Total workers living in RI: {ri_rac['C000'].sum():,}\")\nprint(\"\\n\" + \"=\"*80)\nprint(\"Top 10 Census Blocks by Worker Count:\")\nprint(\"=\"*80)\n\n# Dynamic column selection - RAC uses different column names than OD\ndisplay_cols = ['C000', 'CA01', 'CA02', 'CA03']\n# Find the geocode column (might be 'geocode', 'w_geocode', or similar)\ngeo_col = None\nfor col in ri_rac.columns:\n    if 'geocode' in col.lower():\n        geo_col = col\n        display_cols.insert(0, geo_col)\n        break\n\nif geo_col:\n    print(ri_rac.nlargest(10, 'C000')[display_cols])\nelse:\n    # If no geocode column found, just show the data columns\n    print(ri_rac.nlargest(10, 'C000')[['C000', 'CA01', 'CA02', 'CA03']])"
   ]
  },
  {
   "cell_type": "markdown",
   "id": "76250bf9",
   "metadata": {},
   "source": [
    "## 6. Visualization: Age Distribution"
   ]
  },
  {
   "cell_type": "code",
   "execution_count": 6,
   "id": "2fd0afa4",
   "metadata": {},
   "outputs": [
    {
     "data": {
      "image/png": "[encoded data removed]",
      "text/plain": [
       "<Figure size 1000x600 with 1 Axes>"
      ]
     },
     "metadata": {},
     "output_type": "display_data"
    },
    {
     "name": "stdout",
     "output_type": "stream",
     "text": [
      "💡 Insight: 30 to 54 workers dominate the workforce\n"
     ]
    }
   ],
   "source": [
    "# Create age distribution visualization\nage_data = {\n    'Age Group': ['29 or younger', '30 to 54', '55 or older'],\n    'Workers': [ri_od['SA01'].sum(), ri_od['SA02'].sum(), ri_od['SA03'].sum()]\n}\nage_df = pd.DataFrame(age_data)\n\nfig, ax = plt.subplots(figsize=(10, 6))\ncolors = ['#3498db', '#2ecc71', '#e74c3c']\nax.bar(age_df['Age Group'], age_df['Workers'], color=colors)\nax.set_ylabel('Number of Workers', fontsize=12)\nax.set_title(f'Rhode Island Workforce Age Distribution ({data_year})', fontsize=14, fontweight='bold')\nax.ticklabel_format(style='plain', axis='y')\nfor i, v in enumerate(age_df['Workers']):\n    ax.text(i, v + 1000, f'{int(v):,}', ha='center', fontsize=11, fontweight='bold')\nplt.tight_layout()\nplt.show()\n\nprint(f\" Insight: {age_df.iloc[age_df['Workers'].idxmax()]['Age Group']} workers dominate the workforce\")"
   ]
  },
  {
   "cell_type": "markdown",
   "id": "74da79bd",
   "metadata": {},
   "source": [
    "## 7. Next Steps & Resources\n\n**Learn More:**\n-  [LEHD Documentation](https://lehd.ces.census.gov/data/lodes/LODES7/)\n-  [LEHD OnTheMap](https://onthemap.ces.census.gov/)\n-  [Full krl-data-connectors Documentation](https://docs.krlabs.dev/data-connectors)\n\n**Try These Examples:**\n- Compare commuting patterns across multiple years\n- Analyze WAC (Workplace Area Characteristics) data\n- Calculate average commute distances\n- Combine with CBP data for comprehensive regional analysis\n\n**Need Help?**\n- GitHub Issues: https://github.com/KR-Labs/krl-data-connectors/issues\n- Documentation: https://docs.krlabs.dev\n- Email: support@krlabs.dev"
   ]
  }
 ],
 "metadata": {
  "kernelspec": {
   "display_name": ".venv",
   "language": "python",
   "name": "python3"
  },
  "language_info": {
   "codemirror_mode": {
    "name": "ipython",
    "version": 3
   },
   "file_extension": ".py",
   "mimetype": "text/x-python",
   "name": "python",
   "nbconvert_exporter": "python",
   "pygments_lexer": "ipython3",
   "version": "3.13.7"
  }
 },
 "nbformat": 4,
 "nbformat_minor": 5
}