{
 "cells": [
  {
   "cell_type": "markdown",
   "id": "7dbf1a89",
   "metadata": {},
   "source": [
    "# USDA Food Environment Atlas Quickstart\n",
    "\n",
    "This notebook demonstrates how to use the `USDAFoodAtlasConnector` to access food environment, food access, and food insecurity data from the USDA Economic Research Service.\n",
    "\n",
    "**Copyright (c) 2025 Sudiata Giddasira, Inc. d/b/a Quipu Research Labs, LLC d/b/a KR-Labs™**  \n",
    "**SPDX-License-Identifier: Apache-2.0**"
   ]
  },
  {
   "cell_type": "markdown",
   "id": "ee98e03c",
   "metadata": {},
   "source": [
    "## Setup\n",
    "\n",
    "First, install the package and set up your API key:\n",
    "\n",
    "```bash\n",
    "pip install krl-data-connectors\n",
    "export USDA_API_KEY=\"your_key_here\"\n",
    "```\n",
    "\n",
    "Get your USDA API key at: https://api.data.gov/signup/"
   ]
  },
  {
   "cell_type": "code",
   "execution_count": null,
   "id": "707db263",
   "metadata": {},
   "outputs": [],
   "source": [
    "from krl_data_connectors.agricultural import USDAFoodAtlasConnector\n",
    "import pandas as pd\n",
    "import matplotlib.pyplot as plt\n",
    "\n",
    "# Initialize connector (uses USDA_API_KEY environment variable)\n",
    "connector = USDAFoodAtlasConnector()"
   ]
  },
  {
   "cell_type": "markdown",
   "id": "8b8fa0f6",
   "metadata": {},
   "source": [
    "## Available Data Categories\n",
    "\n",
    "The Food Environment Atlas provides data across multiple categories:"
   ]
  },
  {
   "cell_type": "code",
   "execution_count": null,
   "id": "e6d3ee26",
   "metadata": {},
   "outputs": [],
   "source": [
    "# List all available categories\n",
    "categories = connector.list_categories()\n",
    "for code, description in categories.items():\n",
    "    print(f\"{code:15} - {description}\")"
   ]
  },
  {
   "cell_type": "markdown",
   "id": "b16b6d8a",
   "metadata": {},
   "source": [
    "## Get Food Access Data\n",
    "\n",
    "Retrieve food access indicators for all counties in California:"
   ]
  },
  {
   "cell_type": "code",
   "execution_count": null,
   "id": "0780761a",
   "metadata": {},
   "outputs": [],
   "source": [
    "# Get food access data for California\n",
    "ca_access = connector.get_county_data(category=\"access\", state_fips=\"06\")\n",
    "print(f\"Retrieved data for {len(ca_access)} California counties\")\n",
    "ca_access.head()"
   ]
  },
  {
   "cell_type": "markdown",
   "id": "69437b8d",
   "metadata": {},
   "source": [
    "## Analyze Food Access Indicators\n",
    "\n",
    "Let's analyze the percentage of population with low access to stores:"
   ]
  },
  {
   "cell_type": "code",
   "execution_count": null,
   "id": "d68d7284",
   "metadata": {},
   "outputs": [],
   "source": [
    "# Get specific indicators\n",
    "access_indicators = connector.get_indicators(\n",
    "    indicators=[\"PCT_LACCESS_POP15\", \"PCT_LACCESS_CHILD15\", \"PCT_LACCESS_SENIORS15\"],\n",
    "    state_fips=\"06\"\n",
    ")\n",
    "\n",
    "# Summary statistics\n",
    "print(\"\\nFood Access Statistics for California:\")\n",
    "print(access_indicators[[\"PCT_LACCESS_POP15\", \"PCT_LACCESS_CHILD15\", \"PCT_LACCESS_SENIORS15\"]].describe())"
   ]
  },
  {
   "cell_type": "markdown",
   "id": "8e382d04",
   "metadata": {},
   "source": [
    "## Food Insecurity Analysis\n",
    "\n",
    "Analyze food insecurity rates across counties:"
   ]
  },
  {
   "cell_type": "code",
   "execution_count": null,
   "id": "1bf15a96",
   "metadata": {},
   "outputs": [],
   "source": [
    "# Get food insecurity data\n",
    "ca_insecurity = connector.get_county_data(category=\"insecurity\", state_fips=\"06\")\n",
    "\n",
    "# Sort by food insecurity rate\n",
    "if \"FOODINSEC_15_17\" in ca_insecurity.columns:\n",
    "    top_insecure = ca_insecurity.nlargest(10, \"FOODINSEC_15_17\")[[\"county\", \"FOODINSEC_15_17\"]]\n",
    "    print(\"\\nTop 10 Counties by Food Insecurity Rate:\")\n",
    "    print(top_insecure)"
   ]
  },
  {
   "cell_type": "markdown",
   "id": "260c64d9",
   "metadata": {},
   "source": [
    "## Store Availability Analysis\n",
    "\n",
    "Compare grocery store and convenience store availability:"
   ]
  },
  {
   "cell_type": "code",
   "execution_count": null,
   "id": "11c7213b",
   "metadata": {},
   "outputs": [],
   "source": [
    "# Get store availability indicators\n",
    "stores = connector.get_indicators(\n",
    "    indicators=[\"GROCERY14\", \"SUPERC14\", \"CONVS14\"],\n",
    "    state_fips=\"06\"\n",
    ")\n",
    "\n",
    "# Visualize\n",
    "if not stores.empty:\n",
    "    fig, ax = plt.subplots(1, 3, figsize=(15, 4))\n",
    "    \n",
    "    stores[\"GROCERY14\"].hist(bins=20, ax=ax[0])\n",
    "    ax[0].set_title(\"Grocery Stores per 1,000 pop\")\n",
    "    ax[0].set_xlabel(\"Stores per 1,000\")\n",
    "    \n",
    "    stores[\"SUPERC14\"].hist(bins=20, ax=ax[1])\n",
    "    ax[1].set_title(\"Supercenters per 1,000 pop\")\n",
    "    ax[1].set_xlabel(\"Stores per 1,000\")\n",
    "    \n",
    "    stores[\"CONVS14\"].hist(bins=20, ax=ax[2])\n",
    "    ax[2].set_title(\"Convenience Stores per 1,000 pop\")\n",
    "    ax[2].set_xlabel(\"Stores per 1,000\")\n",
    "    \n",
    "    plt.tight_layout()\n",
    "    plt.show()"
   ]
  },
  {
   "cell_type": "markdown",
   "id": "732ba4d1",
   "metadata": {},
   "source": [
    "## Food Assistance Programs\n",
    "\n",
    "Analyze SNAP (food stamps) participation rates:"
   ]
  },
  {
   "cell_type": "code",
   "execution_count": null,
   "id": "ef85dc41",
   "metadata": {},
   "outputs": [],
   "source": [
    "# Get food assistance data\n",
    "ca_assistance = connector.get_county_data(category=\"assistance\", state_fips=\"06\")\n",
    "\n",
    "if \"SNAP_PART_RATE16\" in ca_assistance.columns:\n",
    "    # Sort by SNAP participation\n",
    "    high_snap = ca_assistance.nlargest(10, \"SNAP_PART_RATE16\")[[\"county\", \"SNAP_PART_RATE16\"]]\n",
    "    print(\"\\nTop 10 Counties by SNAP Participation Rate:\")\n",
    "    print(high_snap)\n",
    "    \n",
    "    # Visualize\n",
    "    plt.figure(figsize=(10, 6))\n",
    "    ca_assistance[\"SNAP_PART_RATE16\"].hist(bins=30)\n",
    "    plt.title(\"Distribution of SNAP Participation Rates in California Counties\")\n",
    "    plt.xlabel(\"SNAP Participation Rate (%)\")\n",
    "    plt.ylabel(\"Number of Counties\")\n",
    "    plt.show()"
   ]
  },
  {
   "cell_type": "markdown",
   "id": "d0d69f1e",
   "metadata": {},
   "source": [
    "## Local Food Systems\n",
    "\n",
    "Analyze farmers markets and local food infrastructure:"
   ]
  },
  {
   "cell_type": "code",
   "execution_count": null,
   "id": "8e699ba0",
   "metadata": {},
   "outputs": [],
   "source": [
    "# Get local food data\n",
    "ca_local = connector.get_county_data(category=\"local\", state_fips=\"06\")\n",
    "\n",
    "if \"FMRKT16\" in ca_local.columns:\n",
    "    # Counties with most farmers markets per capita\n",
    "    top_fmrkt = ca_local.nlargest(10, \"FMRKT16\")[[\"county\", \"FMRKT16\"]]\n",
    "    print(\"\\nTop 10 Counties by Farmers Markets per 1,000 pop:\")\n",
    "    print(top_fmrkt)"
   ]
  },
  {
   "cell_type": "markdown",
   "id": "2063a93b",
   "metadata": {},
   "source": [
    "## Health Indicators\n",
    "\n",
    "Examine the relationship between food environment and health outcomes:"
   ]
  },
  {
   "cell_type": "code",
   "execution_count": null,
   "id": "4ceddb10",
   "metadata": {},
   "outputs": [],
   "source": [
    "# Get health indicators\n",
    "ca_health = connector.get_county_data(category=\"health\", state_fips=\"06\")\n",
    "\n",
    "if \"PCT_DIABETES_ADULTS13\" in ca_health.columns and \"PCT_OBESE_ADULTS13\" in ca_health.columns:\n",
    "    # Scatter plot\n",
    "    plt.figure(figsize=(10, 6))\n",
    "    plt.scatter(ca_health[\"PCT_OBESE_ADULTS13\"], ca_health[\"PCT_DIABETES_ADULTS13\"])\n",
    "    plt.xlabel(\"Adult Obesity Rate (%)\")\n",
    "    plt.ylabel(\"Adult Diabetes Rate (%)\")\n",
    "    plt.title(\"Relationship between Obesity and Diabetes in California Counties\")\n",
    "    plt.grid(True, alpha=0.3)\n",
    "    plt.show()"
   ]
  },
  {
   "cell_type": "markdown",
   "id": "35bbbf35",
   "metadata": {},
   "source": [
    "## Restaurant Availability\n",
    "\n",
    "Compare fast food vs. full-service restaurants:"
   ]
  },
  {
   "cell_type": "code",
   "execution_count": null,
   "id": "5ca63ce2",
   "metadata": {},
   "outputs": [],
   "source": [
    "# Get restaurant data\n",
    "restaurants = connector.get_indicators(\n",
    "    indicators=[\"FFR14\", \"FSR14\"],\n",
    "    state_fips=\"06\"\n",
    ")\n",
    "\n",
    "if not restaurants.empty:\n",
    "    # Scatter plot\n",
    "    plt.figure(figsize=(10, 6))\n",
    "    plt.scatter(restaurants[\"FFR14\"], restaurants[\"FSR14\"], alpha=0.6)\n",
    "    plt.xlabel(\"Fast Food Restaurants per 1,000 pop\")\n",
    "    plt.ylabel(\"Full-Service Restaurants per 1,000 pop\")\n",
    "    plt.title(\"Fast Food vs Full-Service Restaurant Availability\")\n",
    "    plt.grid(True, alpha=0.3)\n",
    "    plt.show()"
   ]
  },
  {
   "cell_type": "markdown",
   "id": "dea79920",
   "metadata": {},
   "source": [
    "## Specific County Analysis\n",
    "\n",
    "Deep dive into a specific county (Los Angeles County):"
   ]
  },
  {
   "cell_type": "code",
   "execution_count": null,
   "id": "7bc57deb",
   "metadata": {},
   "outputs": [],
   "source": [
    "# Get all data for Los Angeles County (FIPS: 06037)\n",
    "la_data = connector.get_county_data(county_fips=\"06037\")\n",
    "\n",
    "print(\"\\nLos Angeles County Food Environment Profile:\")\n",
    "print(\"=\" * 50)\n",
    "\n",
    "# Display key indicators\n",
    "key_cols = [\n",
    "    \"PCT_LACCESS_POP15\",\n",
    "    \"FOODINSEC_15_17\",\n",
    "    \"SNAP_PART_RATE16\",\n",
    "    \"GROCERY14\",\n",
    "    \"FFR14\",\n",
    "    \"FMRKT16\",\n",
    "]\n",
    "\n",
    "for col in key_cols:\n",
    "    if col in la_data.columns:\n",
    "        value = la_data[col].iloc[0]\n",
    "        print(f\"{col:25} : {value}\")"
   ]
  },
  {
   "cell_type": "markdown",
   "id": "e6f29b56",
   "metadata": {},
   "source": [
    "## Multi-State Comparison\n",
    "\n",
    "Compare food environment metrics across multiple states:"
   ]
  },
  {
   "cell_type": "code",
   "execution_count": null,
   "id": "416eb2de",
   "metadata": {},
   "outputs": [],
   "source": [
    "# Compare California, Texas, and New York\n",
    "states = {\"06\": \"California\", \"48\": \"Texas\", \"36\": \"New York\"}\n",
    "\n",
    "comparison_data = []\n",
    "for fips, name in states.items():\n",
    "    data = connector.get_county_data(state_fips=fips, category=\"insecurity\")\n",
    "    if \"FOODINSEC_15_17\" in data.columns:\n",
    "        avg_insecurity = data[\"FOODINSEC_15_17\"].mean()\n",
    "        comparison_data.append({\"State\": name, \"Avg Food Insecurity\": avg_insecurity})\n",
    "\n",
    "if comparison_data:\n",
    "    comparison_df = pd.DataFrame(comparison_data)\n",
    "    print(\"\\nAverage Food Insecurity Rate by State:\")\n",
    "    print(comparison_df)\n",
    "    \n",
    "    # Bar chart\n",
    "    plt.figure(figsize=(10, 6))\n",
    "    plt.bar(comparison_df[\"State\"], comparison_df[\"Avg Food Insecurity\"])\n",
    "    plt.ylabel(\"Average Food Insecurity Rate (%)\")\n",
    "    plt.title(\"Food Insecurity Comparison Across States\")\n",
    "    plt.show()"
   ]
  },
  {
   "cell_type": "markdown",
   "id": "d9e5eec8",
   "metadata": {},
   "source": [
    "## Next Steps\n",
    "\n",
    "- Explore other categories: `socioeconomic`, `prices`, `restaurants`\n",
    "- Combine with demographic data from Census connector\n",
    "- Create time series analyses for trend identification\n",
    "- Build predictive models for food access and health outcomes\n",
    "- Export data for GIS mapping and spatial analysis\n",
    "\n",
    "For more information:\n",
    "- [USDA Food Environment Atlas](https://www.ers.usda.gov/data-products/food-environment-atlas/)\n",
    "- [KRL Data Connectors Documentation](https://krl-data-connectors.readthedocs.io)\n",
    "- [API Key Setup Guide](../API_KEY_SETUP.md)"
   ]
  }
 ],
 "metadata": {
  "language_info": {
   "name": "python"
  }
 },
 "nbformat": 4,
 "nbformat_minor": 5
}
