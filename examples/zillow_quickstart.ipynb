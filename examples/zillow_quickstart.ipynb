{
 "cells": [
  {
   "cell_type": "markdown",
   "id": "5554469e",
   "metadata": {},
   "source": [
    "# Zillow Research Data - Quick Start Guide\n\nThis notebook demonstrates how to use the **ZillowConnector** to analyze Zillow's housing market data.\n\n** IMPORTANT: Get Real Zillow Data**\n\nZillow provides FREE housing data as downloadable CSV files (no API available):\n\n**Step 1: Download Real Data**\n1. Visit [Zillow Research Data](https://www.zillow.com/research/data/)\n2. Click on a dataset category (e.g., \"Home Values (ZHVI)\")\n3. Download CSV file (e.g., \"Metro\" level ZHVI data)\n4. Save to your downloads folder or preferred location\n\n**Step 2: Update File Paths**\n- Replace `zhvi_file` path in cell 4 with your downloaded file\n- Example: `zhvi_file = \"/Users/yourname/Downloads/Metro_zhvi_uc_sfrcondo_tier_0.33_0.67_sm_sa_month.csv\"`\n\n**Popular Datasets:**\n- **ZHVI (Home Values)**: Metro, County, City, ZIP levels\n- **ZRI (Rent Index)**: Metro, County, City, ZIP levels  \n- **Inventory**: For-sale homes, new listings\n- **Sales**: Median sale price, homes sold\n\n**What This Connector Does:**\n- Loads Zillow CSV files into pandas DataFrames\n- Filters by state, metro, county, or ZIP\n- Calculates growth rates (YoY, MoM)\n- Converts to time series format\n- Exports processed data\n\n---\n\n*© 2025 KR-Labs. Licensed under Apache-2.0.*"
   ]
  },
  {
   "cell_type": "markdown",
   "id": "0a18ccfd",
   "metadata": {},
   "source": [
    "## 1. Setup and Import"
   ]
  },
  {
   "cell_type": "code",
   "execution_count": 1,
   "id": "afe63d4a",
   "metadata": {},
   "outputs": [
    {
     "name": "stdout",
     "output_type": "stream",
     "text": [
      "{\"timestamp\": \"2025-10-20T17:16:27.880474Z\", \"level\": \"WARNING\", \"name\": \"ZillowConnector\", \"message\": \"No API key provided\", \"source\": {\"file\": \"base_connector.py\", \"line\": 72, \"function\": \"__init__\"}, \"levelname\": \"WARNING\", \"taskName\": \"Task-17\", \"connector\": \"ZillowConnector\"}\n",
      "{\"timestamp\": \"2025-10-20T17:16:27.880878Z\", \"level\": \"INFO\", \"name\": \"ZillowConnector\", \"message\": \"Connector initialized\", \"source\": {\"file\": \"base_connector.py\", \"line\": 79, \"function\": \"__init__\"}, \"levelname\": \"INFO\", \"taskName\": \"Task-17\", \"connector\": \"ZillowConnector\", \"cache_dir\": \"~/.krl_cache\", \"cache_ttl\": 86400, \"has_api_key\": false}\n",
      "{\"timestamp\": \"2025-10-20T17:16:27.881081Z\", \"level\": \"INFO\", \"name\": \"ZillowConnector\", \"message\": \"ZillowConnector initialized\", \"source\": {\"file\": \"zillow_connector.py\", \"line\": 119, \"function\": \"__init__\"}, \"levelname\": \"INFO\", \"taskName\": \"Task-17\", \"data_source\": \"Zillow Research Data (file-based)\"}\n",
      "✓ Zillow connector initialized\n",
      "{\"timestamp\": \"2025-10-20T17:16:27.880878Z\", \"level\": \"INFO\", \"name\": \"ZillowConnector\", \"message\": \"Connector initialized\", \"source\": {\"file\": \"base_connector.py\", \"line\": 79, \"function\": \"__init__\"}, \"levelname\": \"INFO\", \"taskName\": \"Task-17\", \"connector\": \"ZillowConnector\", \"cache_dir\": \"~/.krl_cache\", \"cache_ttl\": 86400, \"has_api_key\": false}\n",
      "{\"timestamp\": \"2025-10-20T17:16:27.881081Z\", \"level\": \"INFO\", \"name\": \"ZillowConnector\", \"message\": \"ZillowConnector initialized\", \"source\": {\"file\": \"zillow_connector.py\", \"line\": 119, \"function\": \"__init__\"}, \"levelname\": \"INFO\", \"taskName\": \"Task-17\", \"data_source\": \"Zillow Research Data (file-based)\"}\n",
      "✓ Zillow connector initialized\n"
     ]
    }
   ],
   "source": [
    "from krl_data_connectors.housing import ZillowConnector\nimport pandas as pd\n\n# Initialize connector\nzillow = ZillowConnector()\nprint(\" Zillow connector initialized\")"
   ]
  },
  {
   "cell_type": "markdown",
   "id": "369ab4a6",
   "metadata": {},
   "source": [
    "## 2. Load ZHVI Data (Home Values)\n",
    "\n",
    "Load Zillow Home Value Index data from a downloaded CSV file."
   ]
  },
  {
   "cell_type": "code",
   "execution_count": 2,
   "id": "159e9879",
   "metadata": {},
   "outputs": [
    {
     "name": "stdout",
     "output_type": "stream",
     "text": [
      "{\"timestamp\": \"2025-10-20T17:16:27.886589Z\", \"level\": \"INFO\", \"name\": \"ZillowConnector\", \"message\": \"Loading ZHVI data\", \"source\": {\"file\": \"zillow_connector.py\", \"line\": 189, \"function\": \"load_zhvi_data\"}, \"levelname\": \"INFO\", \"taskName\": \"Task-19\", \"filepath\": \"/path/to/your/downloaded/zhvi_file.csv\"}\n",
      "❌ File not found!\n",
      "\n",
      "📥 Please download Zillow data:\n",
      "   1. Visit https://www.zillow.com/research/data/\n",
      "   2. Download a ZHVI dataset (e.g., Metro level)\n",
      "   3. Update the 'zhvi_file' path above with your downloaded file\n",
      "\n",
      "Example datasets:\n",
      "   - Metro ZHVI: All home types by metro area\n",
      "   - County ZHVI: All home types by county\n",
      "   - ZIP ZHVI: All home types by ZIP code\n",
      "❌ File not found!\n",
      "\n",
      "📥 Please download Zillow data:\n",
      "   1. Visit https://www.zillow.com/research/data/\n",
      "   2. Download a ZHVI dataset (e.g., Metro level)\n",
      "   3. Update the 'zhvi_file' path above with your downloaded file\n",
      "\n",
      "Example datasets:\n",
      "   - Metro ZHVI: All home types by metro area\n",
      "   - County ZHVI: All home types by county\n",
      "   - ZIP ZHVI: All home types by ZIP code\n"
     ]
    }
   ],
   "source": [
    "#  REPLACE THIS PATH with your downloaded Zillow ZHVI file\n# Download from: https://www.zillow.com/research/data/\n# Example: Metro_zhvi_uc_sfrcondo_tier_0.33_0.67_sm_sa_month.csv\n\nzhvi_file = \"/path/to/your/downloaded/zhvi_file.csv\"\n\n# Uncomment and modify this line with your actual file path:\n# zhvi_file = \"/Users/yourname/Downloads/Metro_zhvi_uc_sfrcondo_tier_0.33_0.67_sm_sa_month.csv\"\n\n# Load data\ntry:\n    zhvi_data = zillow.load_zhvi_data(zhvi_file)\n    \n    print(f\" Loaded {len(zhvi_data)} geographic areas\")\n    print(f\"Columns: {len(zhvi_data.columns)} total\")\n    \n    # Show date columns\n    date_cols = [col for col in zhvi_data.columns if col.startswith('20')]\n    print(f\"Date range: {date_cols[0]} to {date_cols[-1]}\")\n    print(f\"Total months: {len(date_cols)}\")\n    \n    print(f\"\\nSample areas:\")\n    display_cols = ['RegionName', 'State', 'Metro'] if 'Metro' in zhvi_data.columns else ['RegionName', 'State']\n    print(zhvi_data[display_cols].head())\n    \n    zhvi_data.head()\n    \nexcept FileNotFoundError:\n    print(\" File not found!\")\n    print(\"\\n Please download Zillow data:\")\n    print(\"   1. Visit https://www.zillow.com/research/data/\")\n    print(\"   2. Download a ZHVI dataset (e.g., Metro level)\")\n    print(\"   3. Update the 'zhvi_file' path above with your downloaded file\")\n    print(\"\\nExample datasets:\")\n    print(\"   - Metro ZHVI: All home types by metro area\")\n    print(\"   - County ZHVI: All home types by county\")  \n    print(\"   - ZIP ZHVI: All home types by ZIP code\")"
   ]
  },
  {
   "cell_type": "markdown",
   "id": "08b3d35c",
   "metadata": {},
   "source": [
    "## 3. Filter by State\n",
    "\n",
    "Get housing data for specific states."
   ]
  },
  {
   "cell_type": "code",
   "execution_count": 3,
   "id": "82382c0e",
   "metadata": {},
   "outputs": [
    {
     "name": "stdout",
     "output_type": "stream",
     "text": [
      "⚠️  No data loaded. Please run cell 2 first to load ZHVI data.\n"
     ]
    }
   ],
   "source": [
    "if 'zhvi_data' in locals():\n    # Get Rhode Island home values\n    ri_homes = zillow.get_state_data(zhvi_data, 'RI')\n    \n    print(f\"Rhode Island metros: {len(ri_homes)}\")\n    print(\"\\nRegions:\")\n    print(ri_homes[['RegionName', 'Metro']].drop_duplicates())\nelse:\n    print(\"  No data loaded. Please run cell 2 first to load ZHVI data.\")"
   ]
  },
  {
   "cell_type": "markdown",
   "id": "17f6f86a",
   "metadata": {},
   "source": [
    "## 4. Calculate Year-over-Year Growth\n",
    "\n",
    "Analyze home value appreciation rates."
   ]
  },
  {
   "cell_type": "code",
   "execution_count": 4,
   "id": "561cf8a7",
   "metadata": {},
   "outputs": [
    {
     "name": "stdout",
     "output_type": "stream",
     "text": [
      "⚠️  No RI data available. Run previous cells first.\n"
     ]
    }
   ],
   "source": [
    "if 'ri_homes' in locals() and not ri_homes.empty:\n    # Get most recent date column from the data\n    date_cols = [col for col in ri_homes.columns if col.startswith('20')]\n    if date_cols:\n        recent_date = date_cols[-1]  # Most recent month\n        \n        ri_growth = zillow.calculate_yoy_growth(ri_homes, recent_date)\n        \n        print(f\"Year-over-Year Growth Rates (as of {recent_date}):\")\n        print(ri_growth[['RegionName', recent_date, 'yoy_growth_pct']].round(2))\n    else:\n        print(\"No date columns found in data\")\nelse:\n    print(\"  No RI data available. Run previous cells first.\")"
   ]
  },
  {
   "cell_type": "markdown",
   "id": "b88ffa32",
   "metadata": {},
   "source": [
    "## 5. Get Time Series Data\n",
    "\n",
    "Convert wide format to long format for time series analysis."
   ]
  },
  {
   "cell_type": "code",
   "execution_count": 5,
   "id": "8c6c51cd",
   "metadata": {},
   "outputs": [
    {
     "name": "stdout",
     "output_type": "stream",
     "text": [
      "⚠️  No RI data available. Run previous cells first.\n"
     ]
    }
   ],
   "source": [
    "if 'ri_homes' in locals() and not ri_homes.empty:\n    # Convert to time series format\n    time_series = zillow.get_time_series(ri_homes, value_name='ZHVI')\n    \n    print(f\" Time series records: {len(time_series)}\")\n    print(f\"Date range: {time_series['Date'].min()} to {time_series['Date'].max()}\")\n    print(\"\\nSample data:\")\n    time_series.head(10)\nelse:\n    print(\"  No RI data available. Run previous cells first.\")"
   ]
  },
  {
   "cell_type": "markdown",
   "id": "6354c42b",
   "metadata": {},
   "source": [
    "## 6. Compare Multiple States\n",
    "\n",
    "Analyze housing markets across regions."
   ]
  },
  {
   "cell_type": "code",
   "execution_count": 6,
   "id": "66f3b935",
   "metadata": {},
   "outputs": [
    {
     "name": "stdout",
     "output_type": "stream",
     "text": [
      "⚠️  No data loaded. Run cell 2 first to load ZHVI data.\n"
     ]
    }
   ],
   "source": [
    "if 'zhvi_data' in locals():\n    # Compare Northeast states\n    northeast = zillow.get_state_data(zhvi_data, ['RI', 'MA', 'CT', 'NY'])\n    \n    # Get summary statistics\n    summary = zillow.calculate_summary_statistics(northeast)\n    \n    print(\"Summary Statistics by State:\")\n    print(summary[['State', 'mean', 'median', 'min', 'max']].round(0))\nelse:\n    print(\"  No data loaded. Run cell 2 first to load ZHVI data.\")"
   ]
  },
  {
   "cell_type": "markdown",
   "id": "0d572e17",
   "metadata": {},
   "source": [
    "## 7. Load Rental Data (ZRI)\n",
    "\n",
    "Access Zillow Rent Index for rental market analysis."
   ]
  },
  {
   "cell_type": "code",
   "execution_count": 7,
   "id": "05cd6f44",
   "metadata": {},
   "outputs": [
    {
     "name": "stdout",
     "output_type": "stream",
     "text": [
      "{\"timestamp\": \"2025-10-20T17:16:27.909172Z\", \"level\": \"INFO\", \"name\": \"ZillowConnector\", \"message\": \"Loading ZRI data\", \"source\": {\"file\": \"zillow_connector.py\", \"line\": 221, \"function\": \"load_zri_data\"}, \"levelname\": \"INFO\", \"taskName\": \"Task-29\", \"filepath\": \"/path/to/your/downloaded/zri_file.csv\"}\n",
      "❌ ZRI file not found!\n",
      "\n",
      "📥 Download Zillow Rent Index (ZRI) data:\n",
      "   Visit https://www.zillow.com/research/data/\n",
      "   Look for 'Zillow Observed Rent Index (ZORI)' or 'ZRI' datasets\n",
      "❌ ZRI file not found!\n",
      "\n",
      "📥 Download Zillow Rent Index (ZRI) data:\n",
      "   Visit https://www.zillow.com/research/data/\n",
      "   Look for 'Zillow Observed Rent Index (ZORI)' or 'ZRI' datasets\n"
     ]
    }
   ],
   "source": [
    "#  REPLACE THIS PATH with your downloaded Zillow ZRI (rent) file\n# Download from: https://www.zillow.com/research/data/\n# Example: Metro_zri_uc_sfrcondomfr_sm_sa_month.csv\n\nzri_file = \"/path/to/your/downloaded/zri_file.csv\"\n\n# Uncomment and modify with your actual file path:\n# zri_file = \"/Users/yourname/Downloads/Metro_zri_uc_sfrcondomfr_sm_sa_month.csv\"\n\ntry:\n    zri_data = zillow.load_zri_data(zri_file)\n    \n    # Filter to Rhode Island\n    ri_rents = zillow.get_state_data(zri_data, 'RI')\n    \n    print(f\" Rhode Island rental metros: {len(ri_rents)}\")\n    ri_rents.head()\n    \nexcept FileNotFoundError:\n    print(\" ZRI file not found!\")\n    print(\"\\n Download Zillow Rent Index (ZRI) data:\")\n    print(\"   Visit https://www.zillow.com/research/data/\")\n    print(\"   Look for 'Zillow Observed Rent Index (ZORI)' or 'ZRI' datasets\")"
   ]
  },
  {
   "cell_type": "markdown",
   "id": "6a1e605f",
   "metadata": {},
   "source": [
    "## 8. Export Results\n",
    "\n",
    "Save processed data for further analysis."
   ]
  },
  {
   "cell_type": "code",
   "execution_count": 8,
   "id": "9572f061",
   "metadata": {},
   "outputs": [
    {
     "name": "stdout",
     "output_type": "stream",
     "text": [
      "⚠️  No data available to export. Load data first.\n"
     ]
    }
   ],
   "source": [
    "if 'ri_homes' in locals() and not ri_homes.empty:\n    # Export Rhode Island home values\n    zillow.export_to_csv(ri_homes, 'ri_home_values.csv')\n    print(\" Exported ri_home_values.csv\")\n    \n    # Export time series if available\n    if 'time_series' in locals() and not time_series.empty:\n        zillow.export_to_csv(time_series, 'ri_time_series.csv')\n        print(\" Exported ri_time_series.csv\")\n    \n    print(\"\\n Data exported successfully\")\nelse:\n    print(\"  No data available to export. Load data first.\")"
   ]
  },
  {
   "cell_type": "markdown",
   "id": "ccc0a79c",
   "metadata": {},
   "source": [
    "## Next Steps\n",
    "\n",
    "**Explore More:**\n",
    "- Filter by metro area: `get_metro_data()`\n",
    "- Filter by county: `get_county_data()`\n",
    "- Filter by ZIP code: `get_zip_data()`\n",
    "- Calculate month-over-month growth: `calculate_mom_growth()`\n",
    "- Get latest N periods: `get_latest_values()`\n",
    "\n",
    "**Data Sources:**\n",
    "- [Zillow Research Data Downloads](https://www.zillow.com/research/data/)\n",
    "- [Zillow Research Homepage](https://www.zillow.com/research/)\n",
    "\n",
    "**Documentation:**\n",
    "- Full connector API reference\n",
    "- Advanced filtering examples\n",
    "- Visualization tutorials"
   ]
  }
 ],
 "metadata": {
  "kernelspec": {
   "display_name": ".venv",
   "language": "python",
   "name": "python3"
  },
  "language_info": {
   "codemirror_mode": {
    "name": "ipython",
    "version": 3
   },
   "file_extension": ".py",
   "mimetype": "text/x-python",
   "name": "python",
   "nbconvert_exporter": "python",
   "pygments_lexer": "ipython3",
   "version": "3.13.7"
  }
 },
 "nbformat": 4,
 "nbformat_minor": 5
}