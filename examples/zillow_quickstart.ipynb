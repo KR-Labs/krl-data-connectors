{
 "cells": [
  {
   "cell_type": "markdown",
   "id": "5554469e",
   "metadata": {},
   "source": [
    "# Zillow Research Data - Quick Start Guide\n",
    "\n",
    "This notebook demonstrates how to use the **ZillowConnector** to access Zillow's housing market data.\n",
    "\n",
    "**Data Sources:**\n",
    "- ZHVI (Zillow Home Value Index) - typical home values\n",
    "- ZRI (Zillow Rent Index) - typical market rents\n",
    "- Inventory metrics - for-sale homes, new listings\n",
    "- Sales data - list prices, sale prices\n",
    "\n",
    "**Note:** Download data files from [Zillow Research](https://www.zillow.com/research/data/)\n",
    "\n",
    "---\n",
    "\n",
    "*© 2025 KR-Labs. Licensed under Apache-2.0.*"
   ]
  },
  {
   "cell_type": "markdown",
   "id": "0a18ccfd",
   "metadata": {},
   "source": [
    "## 1. Setup and Import"
   ]
  },
  {
   "cell_type": "code",
   "execution_count": null,
   "id": "afe63d4a",
   "metadata": {},
   "outputs": [],
   "source": [
    "from krl_data_connectors.housing import ZillowConnector\n",
    "import pandas as pd\n",
    "\n",
    "# Initialize connector\n",
    "zillow = ZillowConnector()\n",
    "print(\"✓ Zillow connector initialized\")"
   ]
  },
  {
   "cell_type": "markdown",
   "id": "369ab4a6",
   "metadata": {},
   "source": [
    "## 2. Load ZHVI Data (Home Values)\n",
    "\n",
    "Load Zillow Home Value Index data from a downloaded CSV file."
   ]
  },
  {
   "cell_type": "code",
   "execution_count": null,
   "id": "159e9879",
   "metadata": {},
   "outputs": [],
   "source": [
    "# Replace with your actual file path\n",
    "zhvi_file = \"path/to/ZHVI_Metro.csv\"\n",
    "\n",
    "# Load data\n",
    "zhvi_data = zillow.load_zhvi_data(zhvi_file)\n",
    "\n",
    "print(f\"Loaded {len(zhvi_data)} metro areas\")\n",
    "print(f\"Columns: {zhvi_data.columns.tolist()[:10]}...\")\n",
    "zhvi_data.head()"
   ]
  },
  {
   "cell_type": "markdown",
   "id": "08b3d35c",
   "metadata": {},
   "source": [
    "## 3. Filter by State\n",
    "\n",
    "Get housing data for specific states."
   ]
  },
  {
   "cell_type": "code",
   "execution_count": null,
   "id": "82382c0e",
   "metadata": {},
   "outputs": [],
   "source": [
    "# Get Rhode Island home values\n",
    "ri_homes = zillow.get_state_data(zhvi_data, 'RI')\n",
    "\n",
    "print(f\"Rhode Island metros: {len(ri_homes)}\")\n",
    "print(\"\\nRegions:\")\n",
    "print(ri_homes[['RegionName', 'Metro']].drop_duplicates())"
   ]
  },
  {
   "cell_type": "markdown",
   "id": "17f6f86a",
   "metadata": {},
   "source": [
    "## 4. Calculate Year-over-Year Growth\n",
    "\n",
    "Analyze home value appreciation rates."
   ]
  },
  {
   "cell_type": "code",
   "execution_count": null,
   "id": "561cf8a7",
   "metadata": {},
   "outputs": [],
   "source": [
    "# Calculate YoY growth for most recent month\n",
    "# Replace with actual recent date column\n",
    "recent_date = '2023-10-31'\n",
    "\n",
    "ri_growth = zillow.calculate_yoy_growth(ri_homes, recent_date)\n",
    "\n",
    "print(\"Year-over-Year Growth Rates:\")\n",
    "print(ri_growth[['RegionName', recent_date, 'yoy_growth_pct']].round(2))"
   ]
  },
  {
   "cell_type": "markdown",
   "id": "b88ffa32",
   "metadata": {},
   "source": [
    "## 5. Get Time Series Data\n",
    "\n",
    "Convert wide format to long format for time series analysis."
   ]
  },
  {
   "cell_type": "code",
   "execution_count": null,
   "id": "8c6c51cd",
   "metadata": {},
   "outputs": [],
   "source": [
    "# Convert to time series format\n",
    "time_series = zillow.get_time_series(ri_homes, value_name='ZHVI')\n",
    "\n",
    "print(f\"Time series records: {len(time_series)}\")\n",
    "print(\"\\nSample data:\")\n",
    "time_series.head(10)"
   ]
  },
  {
   "cell_type": "markdown",
   "id": "6354c42b",
   "metadata": {},
   "source": [
    "## 6. Compare Multiple States\n",
    "\n",
    "Analyze housing markets across regions."
   ]
  },
  {
   "cell_type": "code",
   "execution_count": null,
   "id": "66f3b935",
   "metadata": {},
   "outputs": [],
   "source": [
    "# Compare Northeast states\n",
    "northeast = zillow.get_state_data(zhvi_data, ['RI', 'MA', 'CT', 'NY'])\n",
    "\n",
    "# Get summary statistics\n",
    "summary = zillow.calculate_summary_statistics(northeast)\n",
    "\n",
    "print(\"Summary Statistics by State:\")\n",
    "print(summary[['State', 'mean', 'median', 'min', 'max']].round(0))"
   ]
  },
  {
   "cell_type": "markdown",
   "id": "0d572e17",
   "metadata": {},
   "source": [
    "## 7. Load Rental Data (ZRI)\n",
    "\n",
    "Access Zillow Rent Index for rental market analysis."
   ]
  },
  {
   "cell_type": "code",
   "execution_count": null,
   "id": "05cd6f44",
   "metadata": {},
   "outputs": [],
   "source": [
    "# Load ZRI data\n",
    "zri_file = \"path/to/ZRI_Metro.csv\"\n",
    "zri_data = zillow.load_zri_data(zri_file)\n",
    "\n",
    "# Filter to Rhode Island\n",
    "ri_rents = zillow.get_state_data(zri_data, 'RI')\n",
    "\n",
    "print(f\"Rhode Island rental metros: {len(ri_rents)}\")\n",
    "ri_rents.head()"
   ]
  },
  {
   "cell_type": "markdown",
   "id": "6a1e605f",
   "metadata": {},
   "source": [
    "## 8. Export Results\n",
    "\n",
    "Save processed data for further analysis."
   ]
  },
  {
   "cell_type": "code",
   "execution_count": null,
   "id": "9572f061",
   "metadata": {},
   "outputs": [],
   "source": [
    "# Export Rhode Island home values\n",
    "zillow.export_to_csv(ri_homes, 'ri_home_values.csv')\n",
    "\n",
    "# Export time series\n",
    "zillow.export_to_csv(time_series, 'ri_time_series.csv')\n",
    "\n",
    "print(\"✓ Data exported successfully\")"
   ]
  },
  {
   "cell_type": "markdown",
   "id": "ccc0a79c",
   "metadata": {},
   "source": [
    "## Next Steps\n",
    "\n",
    "**Explore More:**\n",
    "- Filter by metro area: `get_metro_data()`\n",
    "- Filter by county: `get_county_data()`\n",
    "- Filter by ZIP code: `get_zip_data()`\n",
    "- Calculate month-over-month growth: `calculate_mom_growth()`\n",
    "- Get latest N periods: `get_latest_values()`\n",
    "\n",
    "**Data Sources:**\n",
    "- [Zillow Research Data Downloads](https://www.zillow.com/research/data/)\n",
    "- [Zillow Research Homepage](https://www.zillow.com/research/)\n",
    "\n",
    "**Documentation:**\n",
    "- Full connector API reference\n",
    "- Advanced filtering examples\n",
    "- Visualization tutorials"
   ]
  }
 ],
 "metadata": {
  "language_info": {
   "name": "python"
  }
 },
 "nbformat": 4,
 "nbformat_minor": 5
}
